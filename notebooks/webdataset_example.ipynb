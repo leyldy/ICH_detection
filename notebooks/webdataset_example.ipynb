{
 "cells": [
  {
   "cell_type": "code",
   "execution_count": 30,
   "id": "boring-display",
   "metadata": {},
   "outputs": [],
   "source": [
    "import pickle\n",
    "import os\n",
    "import numpy as np\n",
    "import webdataset as wds\n",
    "from PIL import Image"
   ]
  },
  {
   "cell_type": "code",
   "execution_count": 2,
   "id": "structured-instrumentation",
   "metadata": {},
   "outputs": [],
   "source": [
    "data_dir = \"../data/\""
   ]
  },
  {
   "cell_type": "code",
   "execution_count": 3,
   "id": "rocky-remove",
   "metadata": {},
   "outputs": [
    {
     "data": {
      "text/plain": [
       "100"
      ]
     },
     "execution_count": 3,
     "metadata": {},
     "output_type": "execute_result"
    }
   ],
   "source": [
    "\n",
    "studynames = pickle.load(open(os.path.join(data_dir,'CTscans_studynames_train_100'), 'rb'))\n",
    "labels = pickle.load(open(os.path.join(data_dir,'CTscans_3Dlabels_train_100'), 'rb'))\n",
    "volumes = pickle.load(open(os.path.join(data_dir,'CTscans_3Dvolumes_train_100'), 'rb'))\n",
    "volumes[0].shape"
   ]
  },
  {
   "cell_type": "code",
   "execution_count": 14,
   "id": "fundamental-emergency",
   "metadata": {},
   "outputs": [
    {
     "name": "stdout",
     "output_type": "stream",
     "text": [
      "(100, 6)\n",
      "(100,)\n",
      "(100, 12, 512, 512)\n"
     ]
    }
   ],
   "source": [
    "labels_np =np.array(labels)\n",
    "studynames_np = np.array(studynames)\n",
    "volumes_np = np.array(volumes)\n",
    "print(labels_np.shape)\n",
    "print(studynames_np.shape)\n",
    "print(volumes_np.shape)"
   ]
  },
  {
   "cell_type": "code",
   "execution_count": 47,
   "id": "active-austin",
   "metadata": {},
   "outputs": [
    {
     "name": "stdout",
     "output_type": "stream",
     "text": [
      "# writing ../data/shards/shard-000000.tar 0 0.0 GB 0\n",
      "# writing ../data/shards/shard-000001.tar 20 0.5 GB 20\n",
      "# writing ../data/shards/shard-000002.tar 20 0.5 GB 40\n",
      "# writing ../data/shards/shard-000003.tar 20 0.5 GB 60\n",
      "# writing ../data/shards/shard-000004.tar 20 0.5 GB 80\n"
     ]
    }
   ],
   "source": [
    "with wds.ShardWriter(os.path.join(data_dir, 'shards', 'shard-%06d.tar'), maxcount=20) as sink:\n",
    "    for idx in range(len(studynames_np)):\n",
    "        sink.write({\n",
    "            '__key__': \"%06d\"%idx,\n",
    "            'data.pyd': volumes_np[idx, :, :, :],\n",
    "            'target.pyd': labels_np[idx, :],\n",
    "            'studynames.pyd': studynames_np[idx]\n",
    "            })"
   ]
  },
  {
   "cell_type": "code",
   "execution_count": 48,
   "id": "abstract-irrigation",
   "metadata": {},
   "outputs": [
    {
     "name": "stdout",
     "output_type": "stream",
     "text": [
      "-r--r--r-- bigdata/bigdata 25165986 2021-05-10 17:27 000020.data.pyd\n",
      "-r--r--r-- bigdata/bigdata       13 2021-05-10 17:27 000020.studynames.pyd\n",
      "-r--r--r-- bigdata/bigdata      201 2021-05-10 17:27 000020.target.pyd\n",
      "-r--r--r-- bigdata/bigdata 25165986 2021-05-10 17:27 000021.data.pyd\n",
      "-r--r--r-- bigdata/bigdata       13 2021-05-10 17:27 000021.studynames.pyd\n",
      "-r--r--r-- bigdata/bigdata      201 2021-05-10 17:27 000021.target.pyd\n",
      "-r--r--r-- bigdata/bigdata 25165986 2021-05-10 17:27 000022.data.pyd\n",
      "-r--r--r-- bigdata/bigdata       13 2021-05-10 17:27 000022.studynames.pyd\n",
      "-r--r--r-- bigdata/bigdata      201 2021-05-10 17:27 000022.target.pyd\n",
      "-r--r--r-- bigdata/bigdata 25165986 2021-05-10 17:27 000023.data.pyd\n",
      "tar: write error\n"
     ]
    }
   ],
   "source": [
    "!tar tvf ../data/shards/shard-000001.tar | head\n"
   ]
  },
  {
   "cell_type": "code",
   "execution_count": null,
   "id": "surface-clause",
   "metadata": {},
   "outputs": [],
   "source": []
  }
 ],
 "metadata": {
  "environment": {
   "name": "pytorch-gpu.1-8.m65",
   "type": "gcloud",
   "uri": "gcr.io/deeplearning-platform-release/pytorch-gpu.1-8:m65"
  },
  "kernelspec": {
   "display_name": "Python 3",
   "language": "python",
   "name": "python3"
  },
  "language_info": {
   "codemirror_mode": {
    "name": "ipython",
    "version": 3
   },
   "file_extension": ".py",
   "mimetype": "text/x-python",
   "name": "python",
   "nbconvert_exporter": "python",
   "pygments_lexer": "ipython3",
   "version": "3.7.10"
  }
 },
 "nbformat": 4,
 "nbformat_minor": 5
}
