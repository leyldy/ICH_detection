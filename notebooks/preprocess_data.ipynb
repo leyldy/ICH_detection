{
 "cells": [
  {
   "cell_type": "code",
   "execution_count": 1,
   "id": "140af743",
   "metadata": {},
   "outputs": [],
   "source": [
    "'''\n",
    "Primary author: Jiying Zou, Jong Ha Lee\n",
    "Purpose: Take subsetted CT scans (from subsample_raw_data.py) and create ordered, interpolated 3D volumes for scans with 30-50 slices\n",
    "Notes: This script is meant to be run after subsample_raw_data.py (which itself should only be run once)\n",
    "Code credits: Lines 29-67 adapted from a Kaggle notebook https://www.kaggle.com/anjum48/reconstructing-3d-volumes-from-metadata\n",
    "              Code credits for functions used are separately specified in the function files.\n",
    "'''\n",
    "\n",
    "import pandas as pd\n",
    "import numpy as np\n",
    "from scipy import ndimage\n",
    "import os\n",
    "from sys import getsizeof\n",
    "import joblib\n",
    "import random\n",
    "import sys\n",
    "import webdataset as wds\n",
    "import json\n",
    "# import pydicom\n",
    "# from tqdm import tqdm_notebook\n",
    "import matplotlib.pylab as plt\n",
    "%matplotlib inline\n",
    "\n",
    "sys.path.append('..') # may need to change to '.' if cannot find data_path, depends on what your current working directory is\n",
    "\n",
    "from utils.get_metadata import *\n",
    "#from utils.window import window_img\n",
    "from utils.create_3D_volume import *\n",
    "from utils.resize_volume import *\n",
    "\n",
    "random.seed(231)"
   ]
  },
  {
   "cell_type": "code",
   "execution_count": 2,
   "id": "6c71d029",
   "metadata": {},
   "outputs": [],
   "source": [
    "# Set file paths \n",
    "data_path = '/home/jupyter/ICH_detection/data/stage_2_train'\n",
    "metadata_path = data_path\n",
    "label_path = '/home/jupyter/ICH_detection/data/stage_2_train.csv'"
   ]
  },
  {
   "cell_type": "code",
   "execution_count": 3,
   "id": "9e3df52d",
   "metadata": {},
   "outputs": [],
   "source": [
    "# Prepare labels and metadata (for each image, is ICH present? if so, what type?)\n",
    "train_df = pd.read_csv(f'{label_path}').drop_duplicates()\n",
    "train_df['ImageID'] = train_df['ID'].str.slice(stop=12)\n",
    "train_df['Diagnosis'] = train_df['ID'].str.slice(start=13)\n",
    "train_labels = train_df.pivot(index=\"ImageID\", columns=\"Diagnosis\", values=\"Label\")"
   ]
  },
  {
   "cell_type": "code",
   "execution_count": 4,
   "id": "acdb792c",
   "metadata": {},
   "outputs": [],
   "source": [
    "# Generate metadata dataframe\n",
    "#train_metadata = get_metadata(data_path)\n",
    "#train_metadata[\"Dataset\"] = \"train\"\n",
    "\n",
    "# Save metadata dataframe (only have to do this once since it takes a while, results are saved)\n",
    "#train_metadata.to_parquet(f'{metadata_path}/train_metadata.parquet.gzip', compression='gzip')"
   ]
  },
  {
   "cell_type": "code",
   "execution_count": 5,
   "id": "51466445",
   "metadata": {},
   "outputs": [
    {
     "name": "stdout",
     "output_type": "stream",
     "text": [
      "There are  3386  CT scans in the subsampled dataset.\n"
     ]
    }
   ],
   "source": [
    "# Load metadata dataframe\n",
    "train_metadata = pd.read_parquet(f'{metadata_path}/train_metadata.parquet.gzip')\n",
    "\n",
    "# Join image metadata with outcome labels\n",
    "metadata = train_metadata.join(train_labels)\n",
    "\n",
    "# Organize the scans (top-down order)\n",
    "metadata.sort_values(by=\"ImagePositionPatient_2\", inplace=True, ascending=False) # sort so images are in top-down order\n",
    "\n",
    "# Count the number of CT scans\n",
    "print(\"There are \", metadata[\"StudyInstanceUID\"].nunique(), \" CT scans in the subsampled dataset.\")"
   ]
  },
  {
   "cell_type": "code",
   "execution_count": 6,
   "id": "2283120a",
   "metadata": {},
   "outputs": [
    {
     "name": "stdout",
     "output_type": "stream",
     "text": [
      "Distribution of number of slices per scan:\n",
      "count    3386.000000\n",
      "mean       34.445363\n",
      "std         5.139599\n",
      "min        20.000000\n",
      "25%        32.000000\n",
      "50%        33.000000\n",
      "75%        37.000000\n",
      "max        60.000000\n",
      "dtype: float64\n"
     ]
    },
    {
     "data": {
      "text/plain": [
       "(array([   4.,   26.,  679., 1437.,  613.,  422.,  113.,   43.,   29.,\n",
       "          20.]),\n",
       " array([20., 24., 28., 32., 36., 40., 44., 48., 52., 56., 60.]),\n",
       " <BarContainer object of 10 artists>)"
      ]
     },
     "execution_count": 6,
     "metadata": {},
     "output_type": "execute_result"
    },
    {
     "data": {
      "image/png": "[encoded data removed]",
      "text/plain": [
       "<Figure size 640x480 with 1 Axes>"
      ]
     },
     "metadata": {},
     "output_type": "display_data"
    }
   ],
   "source": [
    "# Group together all images per scan\n",
    "studies = metadata.groupby(\"StudyInstanceUID\")\n",
    "studies_list = list(studies)\n",
    "\n",
    "## Descriptive statistics on num slices per scan\n",
    "print(\"Distribution of number of slices per scan:\")\n",
    "print(studies.size().describe())\n",
    "\n",
    "## Visualization for num slices per scan\n",
    "plt.hist(studies.size())"
   ]
  },
  {
   "cell_type": "code",
   "execution_count": 7,
   "id": "b75c630e",
   "metadata": {},
   "outputs": [],
   "source": [
    "# Subset for just the scans with 30-40 slices (histogram-driven cutoff)\n",
    "# (Some clinical-practice considerations for num images per scan can be found here: https://www.reddit.com/r/askscience/comments/7cruuv/how_many_images_does_a_ct_scan_produce/)\n",
    "studies_list_mod = [study for study in studies_list if study[1].shape[0] in range(30, 41)]\n",
    "\n",
    "# How many unique studies (CT scans) are we dealing with?\n",
    "# print(\"After subsetting for CT scans with 30-50 slices, we are left with \", len(set(studies_list_mod)), \" unique scans.\")"
   ]
  },
  {
   "cell_type": "code",
   "execution_count": 8,
   "id": "f92d3ea0",
   "metadata": {},
   "outputs": [],
   "source": [
    "# Set up shard writer\n",
    "\n",
    "## data directory to write shards to \n",
    "write_dir = \"../data/\"\n",
    "\n",
    "## load parameters by opening JSON file\n",
    "with open('../parameters.json') as json_file:\n",
    "    parameters = json.load(json_file)"
   ]
  },
  {
   "cell_type": "code",
   "execution_count": 10,
   "id": "ee24cc57",
   "metadata": {},
   "outputs": [
    {
     "name": "stdout",
     "output_type": "stream",
     "text": [
      "Creating 3D volumes.........\n",
      "# writing ../data/shards/shard-000000.tar 0 0.0 GB 0\n",
      "On scan #1\n",
      "# writing ../data/shards/shard-000001.tar 32 2.7 GB 32\n",
      "# writing ../data/shards/shard-000002.tar 32 2.7 GB 64\n",
      "# writing ../data/shards/shard-000003.tar 32 2.7 GB 96\n",
      "On scan #101\n",
      "# writing ../data/shards/shard-000004.tar 32 2.7 GB 128\n",
      "# writing ../data/shards/shard-000005.tar 32 2.7 GB 160\n",
      "# writing ../data/shards/shard-000006.tar 32 2.7 GB 192\n",
      "On scan #201\n",
      "# writing ../data/shards/shard-000007.tar 32 2.7 GB 224\n",
      "# writing ../data/shards/shard-000008.tar 32 2.7 GB 256\n",
      "# writing ../data/shards/shard-000009.tar 32 2.7 GB 288\n",
      "On scan #301\n",
      "# writing ../data/shards/shard-000010.tar 32 2.7 GB 320\n",
      "# writing ../data/shards/shard-000011.tar 32 2.7 GB 352\n",
      "# writing ../data/shards/shard-000012.tar 32 2.7 GB 384\n",
      "On scan #401\n",
      "# writing ../data/shards/shard-000013.tar 32 2.7 GB 416\n",
      "# writing ../data/shards/shard-000014.tar 32 2.7 GB 448\n",
      "# writing ../data/shards/shard-000015.tar 32 2.7 GB 480\n",
      "On scan #501\n",
      "# writing ../data/shards/shard-000016.tar 32 2.7 GB 512\n",
      "# writing ../data/shards/shard-000017.tar 32 2.7 GB 544\n",
      "# writing ../data/shards/shard-000018.tar 32 2.7 GB 576\n",
      "On scan #601\n",
      "# writing ../data/shards/shard-000019.tar 32 2.7 GB 608\n",
      "# writing ../data/shards/shard-000020.tar 32 2.7 GB 640\n",
      "# writing ../data/shards/shard-000021.tar 32 2.7 GB 672\n",
      "On scan #701\n",
      "# writing ../data/shards/shard-000022.tar 32 2.7 GB 704\n",
      "# writing ../data/shards/shard-000023.tar 32 2.7 GB 736\n",
      "# writing ../data/shards/shard-000024.tar 32 2.7 GB 768\n",
      "# writing ../data/shards/shard-000025.tar 32 2.7 GB 800\n",
      "On scan #801\n",
      "# writing ../data/shards/shard-000026.tar 32 2.7 GB 832\n",
      "# writing ../data/shards/shard-000027.tar 32 2.7 GB 864\n",
      "# writing ../data/shards/shard-000028.tar 32 2.7 GB 896\n",
      "On scan #901\n",
      "# writing ../data/shards/shard-000029.tar 32 2.7 GB 928\n",
      "# writing ../data/shards/shard-000030.tar 32 2.7 GB 960\n",
      "# writing ../data/shards/shard-000031.tar 32 2.7 GB 992\n",
      "On scan #1001\n",
      "# writing ../data/shards/shard-000032.tar 32 2.7 GB 1024\n",
      "# writing ../data/shards/shard-000033.tar 32 2.7 GB 1056\n",
      "# writing ../data/shards/shard-000034.tar 32 2.7 GB 1088\n",
      "On scan #1101\n",
      "# writing ../data/shards/shard-000035.tar 32 2.7 GB 1120\n",
      "# writing ../data/shards/shard-000036.tar 32 2.7 GB 1152\n",
      "# writing ../data/shards/shard-000037.tar 32 2.7 GB 1184\n",
      "On scan #1201\n",
      "# writing ../data/shards/shard-000038.tar 32 2.7 GB 1216\n",
      "# writing ../data/shards/shard-000039.tar 32 2.7 GB 1248\n",
      "# writing ../data/shards/shard-000040.tar 32 2.7 GB 1280\n",
      "On scan #1301\n",
      "# writing ../data/shards/shard-000041.tar 32 2.7 GB 1312\n",
      "# writing ../data/shards/shard-000042.tar 32 2.7 GB 1344\n",
      "# writing ../data/shards/shard-000043.tar 32 2.7 GB 1376\n",
      "On scan #1401\n",
      "# writing ../data/shards/shard-000044.tar 32 2.7 GB 1408\n",
      "# writing ../data/shards/shard-000045.tar 32 2.7 GB 1440\n",
      "# writing ../data/shards/shard-000046.tar 32 2.7 GB 1472\n",
      "On scan #1501\n",
      "# writing ../data/shards/shard-000047.tar 32 2.7 GB 1504\n",
      "# writing ../data/shards/shard-000048.tar 32 2.7 GB 1536\n"
     ]
    },
    {
     "ename": "ValueError",
     "evalue": "The length of the pixel data in the dataset (153710 bytes) doesn't match the expected length (524288 bytes). The dataset may be corrupted or there may be an issue with the pixel data handler.",
     "output_type": "error",
     "traceback": [
      "\u001b[0;31m---------------------------------------------------------------------------\u001b[0m",
      "\u001b[0;31mValueError\u001b[0m                                Traceback (most recent call last)",
      "\u001b[0;32m<ipython-input-10-30f3ce71590e>\u001b[0m in \u001b[0;36m<module>\u001b[0;34m\u001b[0m\n\u001b[1;32m     26\u001b[0m \u001b[0;34m\u001b[0m\u001b[0m\n\u001b[1;32m     27\u001b[0m       \u001b[0;31m# Create 3D volume (normalizes)\u001b[0m\u001b[0;34m\u001b[0m\u001b[0;34m\u001b[0m\u001b[0;34m\u001b[0m\u001b[0m\n\u001b[0;32m---> 28\u001b[0;31m       \u001b[0mvolume\u001b[0m\u001b[0;34m,\u001b[0m \u001b[0mlabels\u001b[0m \u001b[0;34m=\u001b[0m \u001b[0mcreate_3D_volume\u001b[0m\u001b[0;34m(\u001b[0m\u001b[0mstudy_df\u001b[0m\u001b[0;34m,\u001b[0m \u001b[0mdata_path\u001b[0m\u001b[0;34m)\u001b[0m \u001b[0;31m# label returned is just a length=6 list containing 0/1 for any ICH / ICH type\u001b[0m\u001b[0;34m\u001b[0m\u001b[0;34m\u001b[0m\u001b[0m\n\u001b[0m\u001b[1;32m     29\u001b[0m \u001b[0;34m\u001b[0m\u001b[0m\n\u001b[1;32m     30\u001b[0m       \u001b[0;31m# L/R flip with prob = 0.5\u001b[0m\u001b[0;34m\u001b[0m\u001b[0;34m\u001b[0m\u001b[0;34m\u001b[0m\u001b[0m\n",
      "\u001b[0;32m~/ICH_detection/utils/create_3D_volume.py\u001b[0m in \u001b[0;36mcreate_3D_volume\u001b[0;34m(study_df, data_path)\u001b[0m\n\u001b[1;32m     21\u001b[0m \u001b[0;34m\u001b[0m\u001b[0m\n\u001b[1;32m     22\u001b[0m         \u001b[0;31m# Get image & 0/1 labels per category\u001b[0m\u001b[0;34m\u001b[0m\u001b[0;34m\u001b[0m\u001b[0;34m\u001b[0m\u001b[0m\n\u001b[0;32m---> 23\u001b[0;31m         \u001b[0mimg\u001b[0m \u001b[0;34m=\u001b[0m \u001b[0mwindow_img\u001b[0m\u001b[0;34m(\u001b[0m\u001b[0mdcm\u001b[0m\u001b[0;34m)\u001b[0m\u001b[0;34m\u001b[0m\u001b[0;34m\u001b[0m\u001b[0m\n\u001b[0m\u001b[1;32m     24\u001b[0m         \u001b[0mlabel\u001b[0m \u001b[0;34m=\u001b[0m \u001b[0mrow\u001b[0m\u001b[0;34m[\u001b[0m\u001b[0;34m[\u001b[0m\u001b[0;34m\"any\"\u001b[0m\u001b[0;34m,\u001b[0m \u001b[0;34m\"epidural\"\u001b[0m\u001b[0;34m,\u001b[0m \u001b[0;34m\"intraparenchymal\"\u001b[0m\u001b[0;34m,\u001b[0m \u001b[0;34m\"intraventricular\"\u001b[0m\u001b[0;34m,\u001b[0m \u001b[0;34m\"subarachnoid\"\u001b[0m\u001b[0;34m,\u001b[0m \u001b[0;34m\"subdural\"\u001b[0m\u001b[0;34m]\u001b[0m\u001b[0;34m]\u001b[0m\u001b[0;34m\u001b[0m\u001b[0;34m\u001b[0m\u001b[0m\n\u001b[1;32m     25\u001b[0m \u001b[0;34m\u001b[0m\u001b[0m\n",
      "\u001b[0;32m~/ICH_detection/utils/window.py\u001b[0m in \u001b[0;36mwindow_img\u001b[0;34m(dcm, width, level, norm)\u001b[0m\n\u001b[1;32m      6\u001b[0m \u001b[0;31m# Windowing function (the BW filter)\u001b[0m\u001b[0;34m\u001b[0m\u001b[0;34m\u001b[0m\u001b[0;34m\u001b[0m\u001b[0m\n\u001b[1;32m      7\u001b[0m \u001b[0;32mdef\u001b[0m \u001b[0mwindow_img\u001b[0m\u001b[0;34m(\u001b[0m\u001b[0mdcm\u001b[0m\u001b[0;34m,\u001b[0m \u001b[0mwidth\u001b[0m\u001b[0;34m=\u001b[0m\u001b[0;32mNone\u001b[0m\u001b[0;34m,\u001b[0m \u001b[0mlevel\u001b[0m\u001b[0;34m=\u001b[0m\u001b[0;32mNone\u001b[0m\u001b[0;34m,\u001b[0m \u001b[0mnorm\u001b[0m\u001b[0;34m=\u001b[0m\u001b[0;32mTrue\u001b[0m\u001b[0;34m)\u001b[0m\u001b[0;34m:\u001b[0m\u001b[0;34m\u001b[0m\u001b[0;34m\u001b[0m\u001b[0m\n\u001b[0;32m----> 8\u001b[0;31m     \u001b[0mpixels\u001b[0m \u001b[0;34m=\u001b[0m \u001b[0mdcm\u001b[0m\u001b[0;34m.\u001b[0m\u001b[0mpixel_array\u001b[0m \u001b[0;34m*\u001b[0m \u001b[0mdcm\u001b[0m\u001b[0;34m.\u001b[0m\u001b[0mRescaleSlope\u001b[0m \u001b[0;34m+\u001b[0m \u001b[0mdcm\u001b[0m\u001b[0;34m.\u001b[0m\u001b[0mRescaleIntercept\u001b[0m\u001b[0;34m\u001b[0m\u001b[0;34m\u001b[0m\u001b[0m\n\u001b[0m\u001b[1;32m      9\u001b[0m \u001b[0;34m\u001b[0m\u001b[0m\n\u001b[1;32m     10\u001b[0m     \u001b[0;31m# Pad non-square images\u001b[0m\u001b[0;34m\u001b[0m\u001b[0;34m\u001b[0m\u001b[0;34m\u001b[0m\u001b[0m\n",
      "\u001b[0;32m/opt/conda/lib/python3.7/site-packages/pydicom/dataset.py\u001b[0m in \u001b[0;36mpixel_array\u001b[0;34m(self)\u001b[0m\n\u001b[1;32m   1714\u001b[0m             \u001b[0;34m:\u001b[0m\u001b[0;32mclass\u001b[0m\u001b[0;34m:\u001b[0m\u001b[0;31m`\u001b[0m\u001b[0mnumpy\u001b[0m\u001b[0;34m.\u001b[0m\u001b[0mndarray\u001b[0m\u001b[0;31m`\u001b[0m\u001b[0;34m.\u001b[0m\u001b[0;34m\u001b[0m\u001b[0;34m\u001b[0m\u001b[0m\n\u001b[1;32m   1715\u001b[0m         \"\"\"\n\u001b[0;32m-> 1716\u001b[0;31m         \u001b[0mself\u001b[0m\u001b[0;34m.\u001b[0m\u001b[0mconvert_pixel_data\u001b[0m\u001b[0;34m(\u001b[0m\u001b[0;34m)\u001b[0m\u001b[0;34m\u001b[0m\u001b[0;34m\u001b[0m\u001b[0m\n\u001b[0m\u001b[1;32m   1717\u001b[0m         \u001b[0;32mreturn\u001b[0m \u001b[0mself\u001b[0m\u001b[0;34m.\u001b[0m\u001b[0m_pixel_array\u001b[0m\u001b[0;34m\u001b[0m\u001b[0;34m\u001b[0m\u001b[0m\n\u001b[1;32m   1718\u001b[0m \u001b[0;34m\u001b[0m\u001b[0m\n",
      "\u001b[0;32m/opt/conda/lib/python3.7/site-packages/pydicom/dataset.py\u001b[0m in \u001b[0;36mconvert_pixel_data\u001b[0;34m(self, handler_name)\u001b[0m\n\u001b[1;32m   1433\u001b[0m             \u001b[0mself\u001b[0m\u001b[0;34m.\u001b[0m\u001b[0m_convert_pixel_data_using_handler\u001b[0m\u001b[0;34m(\u001b[0m\u001b[0mhandler_name\u001b[0m\u001b[0;34m)\u001b[0m\u001b[0;34m\u001b[0m\u001b[0;34m\u001b[0m\u001b[0m\n\u001b[1;32m   1434\u001b[0m         \u001b[0;32melse\u001b[0m\u001b[0;34m:\u001b[0m\u001b[0;34m\u001b[0m\u001b[0;34m\u001b[0m\u001b[0m\n\u001b[0;32m-> 1435\u001b[0;31m             \u001b[0mself\u001b[0m\u001b[0;34m.\u001b[0m\u001b[0m_convert_pixel_data_without_handler\u001b[0m\u001b[0;34m(\u001b[0m\u001b[0;34m)\u001b[0m\u001b[0;34m\u001b[0m\u001b[0;34m\u001b[0m\u001b[0m\n\u001b[0m\u001b[1;32m   1436\u001b[0m \u001b[0;34m\u001b[0m\u001b[0m\n\u001b[1;32m   1437\u001b[0m     \u001b[0;32mdef\u001b[0m \u001b[0m_convert_pixel_data_using_handler\u001b[0m\u001b[0;34m(\u001b[0m\u001b[0mself\u001b[0m\u001b[0;34m,\u001b[0m \u001b[0mname\u001b[0m\u001b[0;34m:\u001b[0m \u001b[0mstr\u001b[0m\u001b[0;34m)\u001b[0m \u001b[0;34m->\u001b[0m \u001b[0;32mNone\u001b[0m\u001b[0;34m:\u001b[0m\u001b[0;34m\u001b[0m\u001b[0;34m\u001b[0m\u001b[0m\n",
      "\u001b[0;32m/opt/conda/lib/python3.7/site-packages/pydicom/dataset.py\u001b[0m in \u001b[0;36m_convert_pixel_data_without_handler\u001b[0;34m(self)\u001b[0m\n\u001b[1;32m   1543\u001b[0m             \u001b[0;34m.\u001b[0m\u001b[0mformat\u001b[0m\u001b[0;34m(\u001b[0m\u001b[0;34m\", \"\u001b[0m\u001b[0;34m.\u001b[0m\u001b[0mjoin\u001b[0m\u001b[0;34m(\u001b[0m\u001b[0;34m[\u001b[0m\u001b[0mstr\u001b[0m\u001b[0;34m(\u001b[0m\u001b[0mhh\u001b[0m\u001b[0;34m)\u001b[0m \u001b[0;32mfor\u001b[0m \u001b[0mhh\u001b[0m \u001b[0;32min\u001b[0m \u001b[0mavailable_handlers\u001b[0m\u001b[0;34m]\u001b[0m\u001b[0;34m)\u001b[0m\u001b[0;34m)\u001b[0m\u001b[0;34m\u001b[0m\u001b[0;34m\u001b[0m\u001b[0m\n\u001b[1;32m   1544\u001b[0m         )\n\u001b[0;32m-> 1545\u001b[0;31m         \u001b[0;32mraise\u001b[0m \u001b[0mlast_exception\u001b[0m\u001b[0;34m\u001b[0m\u001b[0;34m\u001b[0m\u001b[0m\n\u001b[0m\u001b[1;32m   1546\u001b[0m \u001b[0;34m\u001b[0m\u001b[0m\n\u001b[1;32m   1547\u001b[0m     def _do_pixel_data_conversion(\n",
      "\u001b[0;32m/opt/conda/lib/python3.7/site-packages/pydicom/dataset.py\u001b[0m in \u001b[0;36m_convert_pixel_data_without_handler\u001b[0;34m(self)\u001b[0m\n\u001b[1;32m   1523\u001b[0m         \u001b[0;32mfor\u001b[0m \u001b[0mhandler\u001b[0m \u001b[0;32min\u001b[0m \u001b[0mavailable_handlers\u001b[0m\u001b[0;34m:\u001b[0m\u001b[0;34m\u001b[0m\u001b[0;34m\u001b[0m\u001b[0m\n\u001b[1;32m   1524\u001b[0m             \u001b[0;32mtry\u001b[0m\u001b[0;34m:\u001b[0m\u001b[0;34m\u001b[0m\u001b[0;34m\u001b[0m\u001b[0m\n\u001b[0;32m-> 1525\u001b[0;31m                 \u001b[0mself\u001b[0m\u001b[0;34m.\u001b[0m\u001b[0m_do_pixel_data_conversion\u001b[0m\u001b[0;34m(\u001b[0m\u001b[0mhandler\u001b[0m\u001b[0;34m)\u001b[0m\u001b[0;34m\u001b[0m\u001b[0;34m\u001b[0m\u001b[0m\n\u001b[0m\u001b[1;32m   1526\u001b[0m                 \u001b[0;32mreturn\u001b[0m\u001b[0;34m\u001b[0m\u001b[0;34m\u001b[0m\u001b[0m\n\u001b[1;32m   1527\u001b[0m             \u001b[0;32mexcept\u001b[0m \u001b[0mException\u001b[0m \u001b[0;32mas\u001b[0m \u001b[0mexc\u001b[0m\u001b[0;34m:\u001b[0m\u001b[0;34m\u001b[0m\u001b[0;34m\u001b[0m\u001b[0m\n",
      "\u001b[0;32m/opt/conda/lib/python3.7/site-packages/pydicom/dataset.py\u001b[0m in \u001b[0;36m_do_pixel_data_conversion\u001b[0;34m(self, handler)\u001b[0m\n\u001b[1;32m   1552\u001b[0m         \u001b[0;31m# Use the handler to get a 1D numpy array of the pixel data\u001b[0m\u001b[0;34m\u001b[0m\u001b[0;34m\u001b[0m\u001b[0;34m\u001b[0m\u001b[0m\n\u001b[1;32m   1553\u001b[0m         \u001b[0;31m# Will raise an exception if no pixel data element\u001b[0m\u001b[0;34m\u001b[0m\u001b[0;34m\u001b[0m\u001b[0;34m\u001b[0m\u001b[0m\n\u001b[0;32m-> 1554\u001b[0;31m         \u001b[0marr\u001b[0m \u001b[0;34m=\u001b[0m \u001b[0mhandler\u001b[0m\u001b[0;34m.\u001b[0m\u001b[0mget_pixeldata\u001b[0m\u001b[0;34m(\u001b[0m\u001b[0mself\u001b[0m\u001b[0;34m)\u001b[0m\u001b[0;34m\u001b[0m\u001b[0;34m\u001b[0m\u001b[0m\n\u001b[0m\u001b[1;32m   1555\u001b[0m         \u001b[0mself\u001b[0m\u001b[0;34m.\u001b[0m\u001b[0m_pixel_array\u001b[0m \u001b[0;34m=\u001b[0m \u001b[0mreshape_pixel_array\u001b[0m\u001b[0;34m(\u001b[0m\u001b[0mself\u001b[0m\u001b[0;34m,\u001b[0m \u001b[0marr\u001b[0m\u001b[0;34m)\u001b[0m\u001b[0;34m\u001b[0m\u001b[0;34m\u001b[0m\u001b[0m\n\u001b[1;32m   1556\u001b[0m \u001b[0;34m\u001b[0m\u001b[0m\n",
      "\u001b[0;32m/opt/conda/lib/python3.7/site-packages/pydicom/pixel_data_handlers/numpy_handler.py\u001b[0m in \u001b[0;36mget_pixeldata\u001b[0;34m(ds, read_only)\u001b[0m\n\u001b[1;32m    315\u001b[0m                 \u001b[0;34m\"The dataset may be corrupted or there may be an issue \"\u001b[0m\u001b[0;34m\u001b[0m\u001b[0;34m\u001b[0m\u001b[0m\n\u001b[1;32m    316\u001b[0m                 \u001b[0;34m\"with the pixel data handler.\"\u001b[0m\u001b[0;34m\u001b[0m\u001b[0;34m\u001b[0m\u001b[0m\n\u001b[0;32m--> 317\u001b[0;31m                 \u001b[0;34m.\u001b[0m\u001b[0mformat\u001b[0m\u001b[0;34m(\u001b[0m\u001b[0mactual_length\u001b[0m\u001b[0;34m,\u001b[0m \u001b[0mpadded_expected_len\u001b[0m\u001b[0;34m)\u001b[0m\u001b[0;34m\u001b[0m\u001b[0;34m\u001b[0m\u001b[0m\n\u001b[0m\u001b[1;32m    318\u001b[0m             )\n\u001b[1;32m    319\u001b[0m     \u001b[0;32melif\u001b[0m \u001b[0mactual_length\u001b[0m \u001b[0;34m>\u001b[0m \u001b[0mpadded_expected_len\u001b[0m\u001b[0;34m:\u001b[0m\u001b[0;34m\u001b[0m\u001b[0;34m\u001b[0m\u001b[0m\n",
      "\u001b[0;31mValueError\u001b[0m: The length of the pixel data in the dataset (153710 bytes) doesn't match the expected length (524288 bytes). The dataset may be corrupted or there may be an issue with the pixel data handler."
     ]
    }
   ],
   "source": [
    "# Create 3D volumes for all the scans\n",
    "# and write them to shards in batches of 32 (https://github.com/webdataset/webdataset/blob/master/webdataset/writer.py)\n",
    "# (Also does data NORMALIZATION and L/R FLIPS with probability 0.5, and keeps track of largest dimensions for interpolation later on)\n",
    "# (Not doing rotations or up-down flips or crops since CT scans are usually all front side up and full-brain-cross-section anyways)\n",
    "\n",
    "study_names_all = []\n",
    "volumes_all = []\n",
    "labels_all = []\n",
    "labels_record = [] # to help tally samples at the end\n",
    "\n",
    "#largest_depth = 0\n",
    "#largest_width = 0\n",
    "#largest_height = 0\n",
    "\n",
    "flip_prob = 0.5\n",
    "\n",
    "print(\"Creating 3D volumes.........\")\n",
    "with wds.ShardWriter(os.path.join(write_dir, 'shards', 'shard-%06d.tar'), maxcount=parameters['batch_size']) as sink: # file pattern, max number of things written to shard\n",
    "    # ^ when you create a new ShardWriter, the indexing for written output files starts over from 0, which is why we can't have this initialized over and over again within the loop\n",
    "    # (https://github.com/webdataset/webdataset/blob/master/webdataset/writer.py)\n",
    "    \n",
    "    for i in range(0, len(studies_list_mod)):\n",
    "\n",
    "      # Get study\n",
    "      study_name, study_df = studies_list_mod[i]\n",
    "\n",
    "      # Create 3D volume (normalizes)\n",
    "      volume, labels = create_3D_volume(study_df, data_path) # label returned is just a length=6 list containing 0/1 for any ICH / ICH type\n",
    "\n",
    "      # L/R flip with prob = 0.5\n",
    "      #volume2 = None\n",
    "      if np.all(np.random.uniform(0, 1, size = 1)) > flip_prob:\n",
    "          volume = volume[:, :, ::-1]\n",
    "\n",
    "      # Interpolate to (40, 512, 512)\n",
    "      volume = resize_volume(volume, 40, 512, 512) # max data size (40, 512, 512)\n",
    "\n",
    "      # Store results\n",
    "      study_names_all.append(study_name)\n",
    "      volumes_all.append(volume)\n",
    "      labels_all.append(labels)\n",
    "      labels_record.append(labels)\n",
    "\n",
    "      #if volume2 is not None:\n",
    "      #  study_names_all.append(study_name + \"_flip\")\n",
    "      #  volumes_all.append(volume2)\n",
    "      #  labels_all.append(labels)\n",
    "      #  labels_record.append(labels)\n",
    "\n",
    "      # Save results to shard every 32nd image to clear out RAM\n",
    "      if i % 32 == 0 and i > 0:\n",
    "        for idx in range(len(study_names_all)):\n",
    "            sink.write({\n",
    "                '__key__': \"%06d\"%idx, # the index within each shard -- e.g. data point 33 would be in shard 2 with key value 1\n",
    "                'volumes.pyd': volumes_all[idx],\n",
    "                'labels.pyd': labels_all[idx],\n",
    "                'studynames.pyd': np.array([study_names_all[idx]])\n",
    "                })\n",
    "    \n",
    "        #print(getsizeof(study_names_all))\n",
    "        #print(getsizeof(volumes_all))\n",
    "        #print(getsizeof(labels_all))\n",
    "\n",
    "        # Save pickled files\n",
    "        #studynames_filename = '../data/CTscans_studynames_train_{}.sav'.format(i)\n",
    "        #joblib.dump(study_names_all, studynames_filename)  \n",
    "\n",
    "        #volumes_filename = '../data/CTscans_3Dvolumes_interp_train_{}'.format(i)\n",
    "        #joblib.dump(volumes_all, volumes_filename) \n",
    "\n",
    "        #labels_filename = '../data/CTscans_3Dlabels_train_{}'.format(i)\n",
    "        #joblib.dump(labels_all, labels_filename) \n",
    "\n",
    "        # Clear out working memory\n",
    "        study_names_all = []\n",
    "        volumes_all = []\n",
    "        labels_all = []\n",
    "\n",
    "      if i % 100 == 0:\n",
    "        print(\"On scan #\" + str(i+1))\n",
    "        \n",
    "      # Update largest depth, width, height\n",
    "      #shape = volume.shape\n",
    "      #if shape[0] > largest_depth:\n",
    "      #  largest_depth = shape[0]\n",
    "      #if shape[1] > largest_width:\n",
    "      #  largest_width = shape[1]\n",
    "      #if shape[2] > largest_height:\n",
    "      #  largest_height = shape[2]\n",
    "\n",
    "print(\"DONE!\")\n",
    "#print(\"Largest depth, width, height are: \" + str(largest_depth) + \", \" + str(largest_width) + \", \" + str(largest_height))\n",
    "# corrupted file somewhere around 1501-1601"
   ]
  },
  {
   "cell_type": "code",
   "execution_count": 6,
   "id": "9c6012f1",
   "metadata": {},
   "outputs": [
    {
     "name": "stdout",
     "output_type": "stream",
     "text": [
      "Adjusting all scans to be of same size.............\n",
      "On scan #101\n"
     ]
    },
    {
     "ename": "MemoryError",
     "evalue": "Unable to allocate 64.0 MiB for an array with shape (8388608,) and data type float64",
     "output_type": "error",
     "traceback": [
      "\u001b[0;31m---------------------------------------------------------------------------\u001b[0m",
      "\u001b[0;31mMemoryError\u001b[0m                               Traceback (most recent call last)",
      "\u001b[0;32m<ipython-input-6-cf913d522958>\u001b[0m in \u001b[0;36m<module>\u001b[0;34m\u001b[0m\n\u001b[1;32m      7\u001b[0m   \u001b[0;31m# read the saved data files\u001b[0m\u001b[0;34m\u001b[0m\u001b[0;34m\u001b[0m\u001b[0;34m\u001b[0m\u001b[0m\n\u001b[1;32m      8\u001b[0m   \u001b[0mvolumes_filename\u001b[0m \u001b[0;34m=\u001b[0m \u001b[0;34m'../data/CTscans_3Dvolumes_train_{}'\u001b[0m\u001b[0;34m.\u001b[0m\u001b[0mformat\u001b[0m\u001b[0;34m(\u001b[0m\u001b[0mi\u001b[0m\u001b[0;34m)\u001b[0m\u001b[0;34m\u001b[0m\u001b[0;34m\u001b[0m\u001b[0m\n\u001b[0;32m----> 9\u001b[0;31m   \u001b[0mvolumes_all\u001b[0m \u001b[0;34m=\u001b[0m \u001b[0mjoblib\u001b[0m\u001b[0;34m.\u001b[0m\u001b[0mload\u001b[0m\u001b[0;34m(\u001b[0m\u001b[0mvolumes_filename\u001b[0m\u001b[0;34m)\u001b[0m\u001b[0;34m\u001b[0m\u001b[0;34m\u001b[0m\u001b[0m\n\u001b[0m\u001b[1;32m     10\u001b[0m \u001b[0;34m\u001b[0m\u001b[0m\n\u001b[1;32m     11\u001b[0m   \u001b[0mvolumes_all_interp\u001b[0m \u001b[0;34m=\u001b[0m \u001b[0;34m[\u001b[0m\u001b[0;34m]\u001b[0m\u001b[0;34m\u001b[0m\u001b[0;34m\u001b[0m\u001b[0m\n",
      "\u001b[0;32m/opt/conda/lib/python3.7/site-packages/joblib/numpy_pickle.py\u001b[0m in \u001b[0;36mload\u001b[0;34m(filename, mmap_mode)\u001b[0m\n\u001b[1;32m    583\u001b[0m                     \u001b[0;32mreturn\u001b[0m \u001b[0mload_compatibility\u001b[0m\u001b[0;34m(\u001b[0m\u001b[0mfobj\u001b[0m\u001b[0;34m)\u001b[0m\u001b[0;34m\u001b[0m\u001b[0;34m\u001b[0m\u001b[0m\n\u001b[1;32m    584\u001b[0m \u001b[0;34m\u001b[0m\u001b[0m\n\u001b[0;32m--> 585\u001b[0;31m                 \u001b[0mobj\u001b[0m \u001b[0;34m=\u001b[0m \u001b[0m_unpickle\u001b[0m\u001b[0;34m(\u001b[0m\u001b[0mfobj\u001b[0m\u001b[0;34m,\u001b[0m \u001b[0mfilename\u001b[0m\u001b[0;34m,\u001b[0m \u001b[0mmmap_mode\u001b[0m\u001b[0;34m)\u001b[0m\u001b[0;34m\u001b[0m\u001b[0;34m\u001b[0m\u001b[0m\n\u001b[0m\u001b[1;32m    586\u001b[0m     \u001b[0;32mreturn\u001b[0m \u001b[0mobj\u001b[0m\u001b[0;34m\u001b[0m\u001b[0;34m\u001b[0m\u001b[0m\n",
      "\u001b[0;32m/opt/conda/lib/python3.7/site-packages/joblib/numpy_pickle.py\u001b[0m in \u001b[0;36m_unpickle\u001b[0;34m(fobj, filename, mmap_mode)\u001b[0m\n\u001b[1;32m    502\u001b[0m     \u001b[0mobj\u001b[0m \u001b[0;34m=\u001b[0m \u001b[0;32mNone\u001b[0m\u001b[0;34m\u001b[0m\u001b[0;34m\u001b[0m\u001b[0m\n\u001b[1;32m    503\u001b[0m     \u001b[0;32mtry\u001b[0m\u001b[0;34m:\u001b[0m\u001b[0;34m\u001b[0m\u001b[0;34m\u001b[0m\u001b[0m\n\u001b[0;32m--> 504\u001b[0;31m         \u001b[0mobj\u001b[0m \u001b[0;34m=\u001b[0m \u001b[0munpickler\u001b[0m\u001b[0;34m.\u001b[0m\u001b[0mload\u001b[0m\u001b[0;34m(\u001b[0m\u001b[0;34m)\u001b[0m\u001b[0;34m\u001b[0m\u001b[0;34m\u001b[0m\u001b[0m\n\u001b[0m\u001b[1;32m    505\u001b[0m         \u001b[0;32mif\u001b[0m \u001b[0munpickler\u001b[0m\u001b[0;34m.\u001b[0m\u001b[0mcompat_mode\u001b[0m\u001b[0;34m:\u001b[0m\u001b[0;34m\u001b[0m\u001b[0;34m\u001b[0m\u001b[0m\n\u001b[1;32m    506\u001b[0m             warnings.warn(\"The file '%s' has been generated with a \"\n",
      "\u001b[0;32m/opt/conda/lib/python3.7/pickle.py\u001b[0m in \u001b[0;36mload\u001b[0;34m(self)\u001b[0m\n\u001b[1;32m   1086\u001b[0m                     \u001b[0;32mraise\u001b[0m \u001b[0mEOFError\u001b[0m\u001b[0;34m\u001b[0m\u001b[0;34m\u001b[0m\u001b[0m\n\u001b[1;32m   1087\u001b[0m                 \u001b[0;32massert\u001b[0m \u001b[0misinstance\u001b[0m\u001b[0;34m(\u001b[0m\u001b[0mkey\u001b[0m\u001b[0;34m,\u001b[0m \u001b[0mbytes_types\u001b[0m\u001b[0;34m)\u001b[0m\u001b[0;34m\u001b[0m\u001b[0;34m\u001b[0m\u001b[0m\n\u001b[0;32m-> 1088\u001b[0;31m                 \u001b[0mdispatch\u001b[0m\u001b[0;34m[\u001b[0m\u001b[0mkey\u001b[0m\u001b[0;34m[\u001b[0m\u001b[0;36m0\u001b[0m\u001b[0;34m]\u001b[0m\u001b[0;34m]\u001b[0m\u001b[0;34m(\u001b[0m\u001b[0mself\u001b[0m\u001b[0;34m)\u001b[0m\u001b[0;34m\u001b[0m\u001b[0;34m\u001b[0m\u001b[0m\n\u001b[0m\u001b[1;32m   1089\u001b[0m         \u001b[0;32mexcept\u001b[0m \u001b[0m_Stop\u001b[0m \u001b[0;32mas\u001b[0m \u001b[0mstopinst\u001b[0m\u001b[0;34m:\u001b[0m\u001b[0;34m\u001b[0m\u001b[0;34m\u001b[0m\u001b[0m\n\u001b[1;32m   1090\u001b[0m             \u001b[0;32mreturn\u001b[0m \u001b[0mstopinst\u001b[0m\u001b[0;34m.\u001b[0m\u001b[0mvalue\u001b[0m\u001b[0;34m\u001b[0m\u001b[0;34m\u001b[0m\u001b[0m\n",
      "\u001b[0;32m/opt/conda/lib/python3.7/site-packages/joblib/numpy_pickle.py\u001b[0m in \u001b[0;36mload_build\u001b[0;34m(self)\u001b[0m\n\u001b[1;32m    340\u001b[0m             \u001b[0;32mif\u001b[0m \u001b[0misinstance\u001b[0m\u001b[0;34m(\u001b[0m\u001b[0marray_wrapper\u001b[0m\u001b[0;34m,\u001b[0m \u001b[0mNDArrayWrapper\u001b[0m\u001b[0;34m)\u001b[0m\u001b[0;34m:\u001b[0m\u001b[0;34m\u001b[0m\u001b[0;34m\u001b[0m\u001b[0m\n\u001b[1;32m    341\u001b[0m                 \u001b[0mself\u001b[0m\u001b[0;34m.\u001b[0m\u001b[0mcompat_mode\u001b[0m \u001b[0;34m=\u001b[0m \u001b[0;32mTrue\u001b[0m\u001b[0;34m\u001b[0m\u001b[0;34m\u001b[0m\u001b[0m\n\u001b[0;32m--> 342\u001b[0;31m             \u001b[0mself\u001b[0m\u001b[0;34m.\u001b[0m\u001b[0mstack\u001b[0m\u001b[0;34m.\u001b[0m\u001b[0mappend\u001b[0m\u001b[0;34m(\u001b[0m\u001b[0marray_wrapper\u001b[0m\u001b[0;34m.\u001b[0m\u001b[0mread\u001b[0m\u001b[0;34m(\u001b[0m\u001b[0mself\u001b[0m\u001b[0;34m)\u001b[0m\u001b[0;34m)\u001b[0m\u001b[0;34m\u001b[0m\u001b[0;34m\u001b[0m\u001b[0m\n\u001b[0m\u001b[1;32m    343\u001b[0m \u001b[0;34m\u001b[0m\u001b[0m\n\u001b[1;32m    344\u001b[0m     \u001b[0;31m# Be careful to register our new method.\u001b[0m\u001b[0;34m\u001b[0m\u001b[0;34m\u001b[0m\u001b[0;34m\u001b[0m\u001b[0m\n",
      "\u001b[0;32m/opt/conda/lib/python3.7/site-packages/joblib/numpy_pickle.py\u001b[0m in \u001b[0;36mread\u001b[0;34m(self, unpickler)\u001b[0m\n\u001b[1;32m    185\u001b[0m             \u001b[0marray\u001b[0m \u001b[0;34m=\u001b[0m \u001b[0mself\u001b[0m\u001b[0;34m.\u001b[0m\u001b[0mread_mmap\u001b[0m\u001b[0;34m(\u001b[0m\u001b[0munpickler\u001b[0m\u001b[0;34m)\u001b[0m\u001b[0;34m\u001b[0m\u001b[0;34m\u001b[0m\u001b[0m\n\u001b[1;32m    186\u001b[0m         \u001b[0;32melse\u001b[0m\u001b[0;34m:\u001b[0m\u001b[0;34m\u001b[0m\u001b[0;34m\u001b[0m\u001b[0m\n\u001b[0;32m--> 187\u001b[0;31m             \u001b[0marray\u001b[0m \u001b[0;34m=\u001b[0m \u001b[0mself\u001b[0m\u001b[0;34m.\u001b[0m\u001b[0mread_array\u001b[0m\u001b[0;34m(\u001b[0m\u001b[0munpickler\u001b[0m\u001b[0;34m)\u001b[0m\u001b[0;34m\u001b[0m\u001b[0;34m\u001b[0m\u001b[0m\n\u001b[0m\u001b[1;32m    188\u001b[0m \u001b[0;34m\u001b[0m\u001b[0m\n\u001b[1;32m    189\u001b[0m         \u001b[0;31m# Manage array subclass case\u001b[0m\u001b[0;34m\u001b[0m\u001b[0;34m\u001b[0m\u001b[0;34m\u001b[0m\u001b[0m\n",
      "\u001b[0;32m/opt/conda/lib/python3.7/site-packages/joblib/numpy_pickle.py\u001b[0m in \u001b[0;36mread_array\u001b[0;34m(self, unpickler)\u001b[0m\n\u001b[1;32m    131\u001b[0m                                                 self.dtype.itemsize)\n\u001b[1;32m    132\u001b[0m \u001b[0;34m\u001b[0m\u001b[0m\n\u001b[0;32m--> 133\u001b[0;31m             \u001b[0marray\u001b[0m \u001b[0;34m=\u001b[0m \u001b[0munpickler\u001b[0m\u001b[0;34m.\u001b[0m\u001b[0mnp\u001b[0m\u001b[0;34m.\u001b[0m\u001b[0mempty\u001b[0m\u001b[0;34m(\u001b[0m\u001b[0mcount\u001b[0m\u001b[0;34m,\u001b[0m \u001b[0mdtype\u001b[0m\u001b[0;34m=\u001b[0m\u001b[0mself\u001b[0m\u001b[0;34m.\u001b[0m\u001b[0mdtype\u001b[0m\u001b[0;34m)\u001b[0m\u001b[0;34m\u001b[0m\u001b[0;34m\u001b[0m\u001b[0m\n\u001b[0m\u001b[1;32m    134\u001b[0m             \u001b[0;32mfor\u001b[0m \u001b[0mi\u001b[0m \u001b[0;32min\u001b[0m \u001b[0mrange\u001b[0m\u001b[0;34m(\u001b[0m\u001b[0;36m0\u001b[0m\u001b[0;34m,\u001b[0m \u001b[0mcount\u001b[0m\u001b[0;34m,\u001b[0m \u001b[0mmax_read_count\u001b[0m\u001b[0;34m)\u001b[0m\u001b[0;34m:\u001b[0m\u001b[0;34m\u001b[0m\u001b[0;34m\u001b[0m\u001b[0m\n\u001b[1;32m    135\u001b[0m                 \u001b[0mread_count\u001b[0m \u001b[0;34m=\u001b[0m \u001b[0mmin\u001b[0m\u001b[0;34m(\u001b[0m\u001b[0mmax_read_count\u001b[0m\u001b[0;34m,\u001b[0m \u001b[0mcount\u001b[0m \u001b[0;34m-\u001b[0m \u001b[0mi\u001b[0m\u001b[0;34m)\u001b[0m\u001b[0;34m\u001b[0m\u001b[0;34m\u001b[0m\u001b[0m\n",
      "\u001b[0;31mMemoryError\u001b[0m: Unable to allocate 64.0 MiB for an array with shape (8388608,) and data type float64"
     ]
    }
   ],
   "source": [
    "# First-order spline interpolation (so that data is all of same size)\n",
    "# Don't need this anymore, interpolation happening within loop above\n",
    "# print(\"Adjusting all scans to be of same size.............\")\n",
    "\n",
    "# for i in range(*{'start':100,'stop':200,'step':100}.values()): # change to number of data files\n",
    "#   print(\"On scan #\" + str(i+1))\n",
    "\n",
    "#   # read the saved data files \n",
    "#   volumes_filename = '../data/CTscans_3Dvolumes_train_{}'.format(i)\n",
    "#   volumes_all = joblib.load(volumes_filename) \n",
    "\n",
    "#   volumes_all_interp = []\n",
    "#   # resize the volumes one by one (another loop) and save into intermediate list\n",
    "#   for vol in volumes_all:\n",
    "#     resized_volume = resize_volume(vol, largest_depth, largest_width, largest_height)\n",
    "#     volumes_all_interp.append(resized_volume)\n",
    "\n",
    "#   # save interpolated volumes\n",
    "#     interpvolumes_filename = '../data/CTscans_3Dvolumes_interp_train_{}'.format(i)\n",
    "#     joblib.dump(volumes_all_interp, interpvolumes_filename) \n",
    "\n",
    "# print(\"DONE!\")"
   ]
  },
  {
   "cell_type": "markdown",
   "id": "e0731dc3",
   "metadata": {},
   "source": [
    "# SOME EDA"
   ]
  },
  {
   "cell_type": "code",
   "execution_count": 34,
   "id": "35cdff75",
   "metadata": {},
   "outputs": [
    {
     "name": "stdout",
     "output_type": "stream",
     "text": [
      "There are 1554 scans total in the dataset.\n",
      "\n",
      "Out of these, there are 516 scans with no ICH at all and 1038 with some type of ICH.\n",
      "\n",
      "To make sure that there are no scans that say no ICH but still have some type of ICH indicator, the following number should be the same as number of scans with no ICH: 516\n",
      "\n",
      "Out of scans with ICH, there are 124 with epidural ICH, 629 with intraparenchymal ICH,\n",
      " 470 with intraventricular ICH, 519 with subarachnoid ICH, and 485 with subdural ICH.\n",
      "\n",
      "709 scans have two or more types of ICH present.\n",
      "366 scans have three or more types of ICH present.\n",
      "108 scans have four or more types of ICH present.\n",
      "6 scans have all five types of ICH present.\n"
     ]
    }
   ],
   "source": [
    "# Check how many scans of each type we have in our dataset\n",
    "print(\"There are {} scans total in the dataset.\\n\".format(len(labels_record)))\n",
    "\n",
    "print(\"Out of these, there are {0} scans with no ICH at all and {1} with some type of ICH.\\n\".format(np.sum([1 for x in labels_record if x[0] == 0]), np.sum([1 for x in labels_record if x[0] == 1])))\n",
    "print(\"To make sure that there are no scans that say no ICH but still have some type of ICH indicator, the following number should be the same as number of scans with no ICH: {}\\n\".format(np.sum([1 for x in labels_record if x[0] == 0 and all(i == 0 for i in x[1:])])))\n",
    "\n",
    "print(\"Out of scans with ICH, there are {0} with epidural ICH, {1} with intraparenchymal ICH,\\n {2} with intraventricular ICH, {3} with subarachnoid ICH, and {4} with subdural ICH.\\n\".format(\\\n",
    "np.sum([1 for x in labels_record if x[1] == 1]),\n",
    "np.sum([1 for x in labels_record if x[2] == 1]),\n",
    "np.sum([1 for x in labels_record if x[3] == 1]),\n",
    "np.sum([1 for x in labels_record if x[4] == 1]),\n",
    "np.sum([1 for x in labels_record if x[5] == 1])))\n",
    "\n",
    "print(\"{} scans have two or more types of ICH present.\".format(np.sum([1 for x in labels_record if np.sum(x[1:]) > 1])))\n",
    "print(\"{} scans have three or more types of ICH present.\".format(np.sum([1 for x in labels_record if np.sum(x[1:]) > 2])))\n",
    "print(\"{} scans have four or more types of ICH present.\".format(np.sum([1 for x in labels_record if np.sum(x[1:]) > 3])))\n",
    "print(\"{} scans have all five types of ICH present.\".format(np.sum([1 for x in labels_record if np.sum(x[1:]) > 4])))"
   ]
  },
  {
   "cell_type": "code",
   "execution_count": null,
   "id": "0f08e494",
   "metadata": {},
   "outputs": [],
   "source": []
  }
 ],
 "metadata": {
  "environment": {
   "name": "pytorch-gpu.1-8.m68",
   "type": "gcloud",
   "uri": "gcr.io/deeplearning-platform-release/pytorch-gpu.1-8:m68"
  },
  "kernelspec": {
   "display_name": "Python 3",
   "language": "python",
   "name": "python3"
  },
  "language_info": {
   "codemirror_mode": {
    "name": "ipython",
    "version": 3
   },
   "file_extension": ".py",
   "mimetype": "text/x-python",
   "name": "python",
   "nbconvert_exporter": "python",
   "pygments_lexer": "ipython3",
   "version": "3.7.10"
  }
 },
 "nbformat": 4,
 "nbformat_minor": 5
}
