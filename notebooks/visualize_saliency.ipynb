{
 "cells": [
  {
   "cell_type": "markdown",
   "metadata": {
    "id": "w3xiDs0EGNQl"
   },
   "source": [
    "## Visualize image-specific class saliency with backpropagation\n",
    "\n",
    "---\n",
    "\n",
    "The gradients obtained can be used to visualise an image-specific class saliency map, which can gives some intuition on regions within the input image that contribute the most (and least) to the corresponding output.\n",
    "\n",
    "More details on saliency maps: [Deep Inside Convolutional Networks: Visualising Image Classification Models and Saliency Maps](https://arxiv.org/pdf/1312.6034.pdf)."
   ]
  },
  {
   "cell_type": "markdown",
   "metadata": {
    "id": "hCTTe6LrGNQo"
   },
   "source": [
    "### 0. Set up (Colab only)"
   ]
  },
  {
   "cell_type": "code",
   "execution_count": 1,
   "metadata": {
    "colab": {
     "base_uri": "https://localhost:8080/"
    },
    "executionInfo": {
     "elapsed": 10,
     "status": "ok",
     "timestamp": 1622616577358,
     "user": {
      "displayName": "Jong Ha Lee",
      "photoUrl": "",
      "userId": "00384829411400968083"
     },
     "user_tz": 420
    },
    "id": "iL2cM5yQGNQo",
    "outputId": "3b6ce1b5-d387-475b-ebfe-83c663ea8d1d"
   },
   "outputs": [],
   "source": [
    "# # Install flashtorch if you don't have it\n",
    "\n",
    "# !pip install webdataset\n",
    "\n",
    "\n",
    "# # This mounts your Google Drive to th?e Colab VM.\n",
    "# from google.colab import drive\n",
    "# drive.mount('/content/drive')\n",
    "\n",
    "# # TODO: Enter the foldername in your Drive where you have saved the unzipped\n",
    "# # assignment folder, e.g. 'cs231n/assignments/assignment3/'\n",
    "# FOLDERNAME = 'Courses/Spring 2021/CS 231N/cs231n_final_proj/netviz'\n",
    "# assert FOLDERNAME is not None, \"[!] Enter the foldername.\"\n",
    "\n",
    "# # Now that we've mounted your Drive, this ensures that\n",
    "# # the Python interpreter of the Colab VM can load\n",
    "# # python files from within it.\n",
    "# import sys\n",
    "# sys.path.append('/content/drive/My Drive/{}'.format(FOLDERNAME))\n",
    "\n",
    "# os.chdir('/content/drive/My Drive/{}'.format(FOLDERNAME+'/notebooks'))"
   ]
  },
  {
   "cell_type": "code",
   "execution_count": 31,
   "metadata": {
    "executionInfo": {
     "elapsed": 13222,
     "status": "ok",
     "timestamp": 1622616592425,
     "user": {
      "displayName": "Jong Ha Lee",
      "photoUrl": "",
      "userId": "00384829411400968083"
     },
     "user_tz": 420
    },
    "id": "lENR9nxyGNQp"
   },
   "outputs": [
    {
     "name": "stdout",
     "output_type": "stream",
     "text": [
      "The autoreload extension is already loaded. To reload it, use:\n",
      "  %reload_ext autoreload\n"
     ]
    }
   ],
   "source": [
    "# %matplotlib inline\n",
    "%config InlineBackend.figure_format = 'retina'\n",
    "\n",
    "import os\n",
    "import gc\n",
    "import sys\n",
    "import json\n",
    "import webdataset as wds\n",
    "\n",
    "sys.path.append('..')\n",
    "\n",
    "import matplotlib.pyplot as plt\n",
    "import pandas as pd\n",
    "import numpy as np\n",
    "from tqdm import tqdm\n",
    "import psutil\n",
    "\n",
    "\n",
    "from model.baseline_3d_cnn import *\n",
    "from model.selfattn_3d_cnn import *\n",
    "from model.resattn_3d_cnn import *\n",
    "from utils.saliency_map import *\n",
    "%load_ext autoreload\n",
    "%autoreload 2"
   ]
  },
  {
   "cell_type": "code",
   "execution_count": 3,
   "metadata": {
    "colab": {
     "base_uri": "https://localhost:8080/"
    },
    "executionInfo": {
     "elapsed": 620,
     "status": "ok",
     "timestamp": 1622616593042,
     "user": {
      "displayName": "Jong Ha Lee",
      "photoUrl": "",
      "userId": "00384829411400968083"
     },
     "user_tz": 420
    },
    "id": "2h1g4znhGNQp",
    "outputId": "9ed8032a-ae16-463d-cd3d-6e3957706b7c"
   },
   "outputs": [
    {
     "data": {
      "text/plain": [
       "{'batch_size': 4, 'shard_size': 16}"
      ]
     },
     "execution_count": 3,
     "metadata": {},
     "output_type": "execute_result"
    }
   ],
   "source": [
    "data_dir = '../data'\n",
    "shards_dir = os.path.join(data_dir, 'shards_new')\n",
    "\n",
    "# Opening JSON file\n",
    "with open('../parameters.json') as json_file:\n",
    "    parameters = json.load(json_file)\n",
    "\n",
    "batch_size = parameters['batch_size']\n",
    "shard_size = parameters['shard_size']\n",
    "parameters"
   ]
  },
  {
   "cell_type": "code",
   "execution_count": 4,
   "metadata": {
    "colab": {
     "base_uri": "https://localhost:8080/"
    },
    "executionInfo": {
     "elapsed": 382,
     "status": "ok",
     "timestamp": 1622616593421,
     "user": {
      "displayName": "Jong Ha Lee",
      "photoUrl": "",
      "userId": "00384829411400968083"
     },
     "user_tz": 420
    },
    "id": "yYroJud1GNQq",
    "outputId": "b9faa13f-5c13-46a8-e847-3eb4d680393b"
   },
   "outputs": [
    {
     "name": "stdout",
     "output_type": "stream",
     "text": [
      "['../data/shards_new/shard-000076.tar', '../data/shards_new/shard-000003.tar', '../data/shards_new/shard-000081.tar', '../data/shards_new/shard-000065.tar', '../data/shards_new/shard-000051.tar', '../data/shards_new/shard-000044.tar', '../data/shards_new/shard-000037.tar', '../data/shards_new/shard-000095.tar', '../data/shards_new/shard-000084.tar', '../data/shards_new/shard-000090.tar', '../data/shards_new/shard-000040.tar', '../data/shards_new/shard-000062.tar', '../data/shards_new/shard-000022.tar', '../data/shards_new/shard-000078.tar', '../data/shards_new/shard-000045.tar', '../data/shards_new/shard-000023.tar', '../data/shards_new/shard-000058.tar', '../data/shards_new/shard-000063.tar', '../data/shards_new/shard-000086.tar', '../data/shards_new/shard-000071.tar', '../data/shards_new/shard-000067.tar', '../data/shards_new/shard-000013.tar', '../data/shards_new/shard-000034.tar', '../data/shards_new/shard-000072.tar', '../data/shards_new/shard-000082.tar', '../data/shards_new/shard-000070.tar', '../data/shards_new/shard-000009.tar', '../data/shards_new/shard-000012.tar', '../data/shards_new/shard-000010.tar', '../data/shards_new/shard-000032.tar', '../data/shards_new/shard-000036.tar', '../data/shards_new/shard-000061.tar', '../data/shards_new/shard-000048.tar', '../data/shards_new/shard-000031.tar', '../data/shards_new/shard-000055.tar', '../data/shards_new/shard-000046.tar', '../data/shards_new/shard-000080.tar', '../data/shards_new/shard-000041.tar', '../data/shards_new/shard-000050.tar', '../data/shards_new/shard-000085.tar', '../data/shards_new/shard-000017.tar', '../data/shards_new/shard-000083.tar', '../data/shards_new/shard-000004.tar', '../data/shards_new/shard-000060.tar', '../data/shards_new/shard-000057.tar', '../data/shards_new/shard-000069.tar', '../data/shards_new/shard-000006.tar', '../data/shards_new/shard-000020.tar', '../data/shards_new/shard-000042.tar', '../data/shards_new/shard-000087.tar', '../data/shards_new/shard-000035.tar', '../data/shards_new/shard-000047.tar', '../data/shards_new/shard-000089.tar', '../data/shards_new/shard-000059.tar', '../data/shards_new/shard-000002.tar', '../data/shards_new/shard-000056.tar', '../data/shards_new/shard-000096.tar', '../data/shards_new/shard-000025.tar', '../data/shards_new/shard-000018.tar', '../data/shards_new/shard-000033.tar', '../data/shards_new/shard-000019.tar', '../data/shards_new/shard-000079.tar', '../data/shards_new/shard-000014.tar', '../data/shards_new/shard-000039.tar', '../data/shards_new/shard-000075.tar', '../data/shards_new/shard-000066.tar', '../data/shards_new/shard-000094.tar', '../data/shards_new/shard-000077.tar', '../data/shards_new/shard-000011.tar', '../data/shards_new/shard-000028.tar', '../data/shards_new/shard-000091.tar', '../data/shards_new/shard-000064.tar', '../data/shards_new/shard-000008.tar', '../data/shards_new/shard-000030.tar', '../data/shards_new/shard-000007.tar', '../data/shards_new/shard-000043.tar', '../data/shards_new/shard-000005.tar', '../data/shards_new/shard-000092.tar', '../data/shards_new/shard-000024.tar', '../data/shards_new/shard-000053.tar', '../data/shards_new/shard-000029.tar', '../data/shards_new/shard-000074.tar', '../data/shards_new/shard-000073.tar', '../data/shards_new/shard-000001.tar', '../data/shards_new/shard-000038.tar', '../data/shards_new/shard-000027.tar', '../data/shards_new/shard-000068.tar', '../data/shards_new/shard-000052.tar', '../data/shards_new/shard-000088.tar', '../data/shards_new/shard-000093.tar', '../data/shards_new/shard-000021.tar', '../data/shards_new/shard-000015.tar', '../data/shards_new/shard-000016.tar', '../data/shards_new/shard-000054.tar', '../data/shards_new/shard-000049.tar', '../data/shards_new/shard-000026.tar']\n"
     ]
    }
   ],
   "source": [
    "urls = [os.path.join(shards_dir, it) for it in os.listdir(shards_dir) if it.endswith('.tar')]\n",
    "print(urls)\n",
    "wds_len = len(urls)*shard_size//batch_size\n",
    "\n",
    "image_dataset = (\n",
    "    wds\n",
    "    .WebDataset(urls, length=wds_len)\n",
    "    .shuffle(shard_size)\n",
    "    .decode('torch')\n",
    "    .to_tuple('volumes.pyd', 'labels.pyd', 'studynames.pyd')\n",
    "    .batched(batch_size)\n",
    "#     .map_tuple(pre_transforms, identity, identity)\n",
    ")\n",
    "\n",
    "\n",
    "image_loader = torch.utils.data.DataLoader(image_dataset, num_workers=0, batch_size=None)"
   ]
  },
  {
   "cell_type": "markdown",
   "metadata": {
    "id": "AwUtipxTGNQq"
   },
   "source": [
    "### 1. Load an image "
   ]
  },
  {
   "cell_type": "code",
   "execution_count": 5,
   "metadata": {
    "executionInfo": {
     "elapsed": 8,
     "status": "ok",
     "timestamp": 1622616593423,
     "user": {
      "displayName": "Jong Ha Lee",
      "photoUrl": "",
      "userId": "00384829411400968083"
     },
     "user_tz": 420
    },
    "id": "iIdnH_AVGNQr"
   },
   "outputs": [],
   "source": [
    "# patient_num = 1\n",
    "\n",
    "# for t, (x, y, z) in enumerate(image_loader):\n",
    "#     if t > 0:\n",
    "#         break\n",
    "#     img_df = x[patient_num, :, :, :].detach().numpy()\n",
    "#     img_y = y[patient_num, :]\n",
    "# del x # For now for memory reasons"
   ]
  },
  {
   "cell_type": "code",
   "execution_count": 6,
   "metadata": {
    "executionInfo": {
     "elapsed": 8,
     "status": "ok",
     "timestamp": 1622616593424,
     "user": {
      "displayName": "Jong Ha Lee",
      "photoUrl": "",
      "userId": "00384829411400968083"
     },
     "user_tz": 420
    },
    "id": "NAfZ9dTCGNQr"
   },
   "outputs": [],
   "source": [
    "# fig, axs = plt.subplots(5,8, figsize=(15, 6))\n",
    "# axs = axs.ravel()\n",
    "# for i in range(40):\n",
    "#     axs[i].imshow(img_df[i,:,:])"
   ]
  },
  {
   "cell_type": "markdown",
   "metadata": {
    "id": "rtSeabbvGNQs"
   },
   "source": [
    "### 2. Load a pre-trained Model"
   ]
  },
  {
   "cell_type": "code",
   "execution_count": 61,
   "metadata": {},
   "outputs": [],
   "source": [
    "ckpt_dir = os.path.join('..', 'runs', 'baseline')\n",
    "ckpt_path = os.path.join(ckpt_dir, 'baseline_final_model.pt') # COLAB\n",
    "ckpt = torch.load(ckpt_path)\n",
    "\n",
    "ckpt_model = baseline_3DCNN(in_num_ch=1)\n",
    "ckpt_model.load_state_dict(ckpt)\n",
    "\n",
    "plot_dir = os.path.join('..', 'net_visualization', 'baseline')\n"
   ]
  },
  {
   "cell_type": "code",
   "execution_count": 58,
   "metadata": {},
   "outputs": [],
   "source": [
    "# ckpt_dir = os.path.join('..', 'runs', 'experiment_att')\n",
    "# ckpt_path = os.path.join(ckpt_dir, 'experiment_final_model.pt') \n",
    "# ckpt = torch.load(ckpt_path)\n",
    "\n",
    "# ckpt_model = selfattn_3DCNN(in_num_ch=1)\n",
    "# ckpt_model.load_state_dict(ckpt)\n",
    "\n",
    "# plot_dir = os.path.join('..', 'net_visualization', 'experiment_att')\n"
   ]
  },
  {
   "cell_type": "code",
   "execution_count": 32,
   "metadata": {},
   "outputs": [
    {
     "data": {
      "text/plain": [
       "<All keys matched successfully>"
      ]
     },
     "execution_count": 32,
     "metadata": {},
     "output_type": "execute_result"
    }
   ],
   "source": [
    "# ckpt_dir = os.path.join('..', 'runs', 'experiment_res')\n",
    "# ckpt_path = os.path.join(ckpt_dir, 'experimentres_final_model.pt') \n",
    "# ckpt = torch.load(ckpt_path)\n",
    "\n",
    "# ckpt_model = resattn_3DCNN(in_num_ch=1)\n",
    "# ckpt_model.load_state_dict(ckpt)\n",
    "\n",
    "# plot_dir = os.path.join('..', 'net_visualization', 'experiment_res')\n"
   ]
  },
  {
   "cell_type": "markdown",
   "metadata": {
    "id": "h8Vb5EQqMKvc"
   },
   "source": [
    "### 3. Saliency map"
   ]
  },
  {
   "cell_type": "code",
   "execution_count": 62,
   "metadata": {
    "colab": {
     "base_uri": "https://localhost:8080/"
    },
    "executionInfo": {
     "elapsed": 269,
     "status": "ok",
     "timestamp": 1622616622945,
     "user": {
      "displayName": "Jong Ha Lee",
      "photoUrl": "",
      "userId": "00384829411400968083"
     },
     "user_tz": 420
    },
    "id": "_Bw8x2W9iTpS",
    "outputId": "eb09eb16-c224-4e0c-bba7-35fbb74a0eac"
   },
   "outputs": [
    {
     "name": "stdout",
     "output_type": "stream",
     "text": [
      "cuda\n"
     ]
    }
   ],
   "source": [
    "USE_GPU = True\n",
    "\n",
    "if USE_GPU and torch.cuda.is_available():\n",
    "    device = torch.device('cuda')\n",
    "#     dtype = torch.cuda.FloatTensor\n",
    "else:\n",
    "    device = torch.device('cpu')\n",
    "print(device)"
   ]
  },
  {
   "cell_type": "code",
   "execution_count": 63,
   "metadata": {},
   "outputs": [
    {
     "data": {
      "text/plain": [
       "61206"
      ]
     },
     "execution_count": 63,
     "metadata": {},
     "output_type": "execute_result"
    }
   ],
   "source": [
    "gc.collect()"
   ]
  },
  {
   "cell_type": "code",
   "execution_count": null,
   "metadata": {
    "colab": {
     "base_uri": "https://localhost:8080/",
     "height": 487
    },
    "executionInfo": {
     "elapsed": 23975,
     "status": "error",
     "timestamp": 1622618523806,
     "user": {
      "displayName": "Jong Ha Lee",
      "photoUrl": "",
      "userId": "00384829411400968083"
     },
     "user_tz": 420
    },
    "id": "SpD_zYtuMMxA",
    "outputId": "8ca56328-b912-4bd4-8c69-af0e7c1bc409"
   },
   "outputs": [
    {
     "name": "stderr",
     "output_type": "stream",
     "text": [
      "Batch 0:   0%|          | 1/384 [01:40<10:39:10, 100.13s/batch]"
     ]
    },
    {
     "name": "stdout",
     "output_type": "stream",
     "text": [
      "CUDA: 318632960\n",
      "RAM: 39.9\n"
     ]
    },
    {
     "name": "stderr",
     "output_type": "stream",
     "text": [
      "Batch 1:   1%|          | 2/384 [03:28<11:07:43, 104.88s/batch]"
     ]
    },
    {
     "name": "stdout",
     "output_type": "stream",
     "text": [
      "CUDA: 318632960\n",
      "RAM: 42.9\n"
     ]
    },
    {
     "name": "stderr",
     "output_type": "stream",
     "text": [
      "Batch 2:   1%|          | 3/384 [04:21<8:34:40, 81.05s/batch]  "
     ]
    },
    {
     "name": "stdout",
     "output_type": "stream",
     "text": [
      "CUDA: 318632960\n",
      "RAM: 44.8\n"
     ]
    },
    {
     "name": "stderr",
     "output_type": "stream",
     "text": [
      "Batch 3:   1%|          | 4/384 [05:27<7:56:44, 75.27s/batch]"
     ]
    },
    {
     "name": "stdout",
     "output_type": "stream",
     "text": [
      "CUDA: 318632960\n",
      "RAM: 46.9\n"
     ]
    },
    {
     "name": "stderr",
     "output_type": "stream",
     "text": [
      "Batch 4:   1%|▏         | 5/384 [06:54<8:23:16, 79.67s/batch]"
     ]
    },
    {
     "name": "stdout",
     "output_type": "stream",
     "text": [
      "CUDA: 318632960\n",
      "RAM: 49.7\n"
     ]
    },
    {
     "name": "stderr",
     "output_type": "stream",
     "text": [
      "Batch 5:   2%|▏         | 6/384 [07:53<7:36:06, 72.40s/batch]"
     ]
    },
    {
     "name": "stdout",
     "output_type": "stream",
     "text": [
      "CUDA: 318632960\n",
      "RAM: 51.6\n"
     ]
    },
    {
     "name": "stderr",
     "output_type": "stream",
     "text": [
      "Batch 6:   2%|▏         | 7/384 [09:12<7:48:58, 74.64s/batch]"
     ]
    },
    {
     "name": "stdout",
     "output_type": "stream",
     "text": [
      "CUDA: 318632960\n",
      "RAM: 54.2\n"
     ]
    },
    {
     "name": "stderr",
     "output_type": "stream",
     "text": [
      "Batch 7:   2%|▏         | 8/384 [09:50<6:34:06, 62.89s/batch]"
     ]
    },
    {
     "name": "stdout",
     "output_type": "stream",
     "text": [
      "CUDA: 318632960\n",
      "RAM: 55.4\n"
     ]
    },
    {
     "name": "stderr",
     "output_type": "stream",
     "text": [
      "Batch 8:   2%|▏         | 9/384 [11:03<6:52:50, 66.06s/batch]"
     ]
    },
    {
     "name": "stdout",
     "output_type": "stream",
     "text": [
      "CUDA: 318632960\n",
      "RAM: 57.7\n"
     ]
    },
    {
     "name": "stderr",
     "output_type": "stream",
     "text": [
      "Batch 9:   3%|▎         | 10/384 [11:48<6:11:16, 59.56s/batch]"
     ]
    },
    {
     "name": "stdout",
     "output_type": "stream",
     "text": [
      "CUDA: 318632960\n",
      "RAM: 59.1\n"
     ]
    },
    {
     "name": "stderr",
     "output_type": "stream",
     "text": [
      "Batch 10:   3%|▎         | 11/384 [11:53<4:26:03, 42.80s/batch]"
     ]
    },
    {
     "name": "stdout",
     "output_type": "stream",
     "text": [
      "CUDA: 318632960\n",
      "RAM: 59.2\n"
     ]
    },
    {
     "name": "stderr",
     "output_type": "stream",
     "text": [
      "Batch 11:   3%|▎         | 12/384 [11:57<3:12:34, 31.06s/batch]"
     ]
    },
    {
     "name": "stdout",
     "output_type": "stream",
     "text": [
      "CUDA: 318632960\n",
      "RAM: 59.8\n"
     ]
    },
    {
     "name": "stderr",
     "output_type": "stream",
     "text": [
      "Batch 12:   3%|▎         | 13/384 [12:01<2:22:17, 23.01s/batch]"
     ]
    },
    {
     "name": "stdout",
     "output_type": "stream",
     "text": [
      "CUDA: 318632960\n",
      "RAM: 59.2\n"
     ]
    },
    {
     "name": "stderr",
     "output_type": "stream",
     "text": [
      "Batch 13:   4%|▎         | 14/384 [12:06<1:47:21, 17.41s/batch]"
     ]
    },
    {
     "name": "stdout",
     "output_type": "stream",
     "text": [
      "CUDA: 318632960\n",
      "RAM: 59.2\n"
     ]
    },
    {
     "name": "stderr",
     "output_type": "stream",
     "text": [
      "Batch 14:   4%|▍         | 15/384 [12:10<1:22:19, 13.38s/batch]"
     ]
    },
    {
     "name": "stdout",
     "output_type": "stream",
     "text": [
      "CUDA: 318632960\n",
      "RAM: 59.2\n"
     ]
    },
    {
     "name": "stderr",
     "output_type": "stream",
     "text": [
      "Batch 15:   4%|▍         | 16/384 [12:14<1:05:40, 10.71s/batch]"
     ]
    },
    {
     "name": "stdout",
     "output_type": "stream",
     "text": [
      "CUDA: 318632960\n",
      "RAM: 59.2\n"
     ]
    },
    {
     "name": "stderr",
     "output_type": "stream",
     "text": [
      "Batch 16:   4%|▍         | 17/384 [12:19<53:43,  8.78s/batch]  "
     ]
    },
    {
     "name": "stdout",
     "output_type": "stream",
     "text": [
      "CUDA: 318632960\n",
      "RAM: 59.8\n"
     ]
    },
    {
     "name": "stderr",
     "output_type": "stream",
     "text": [
      "Batch 17:   5%|▍         | 18/384 [12:23<46:03,  7.55s/batch]"
     ]
    },
    {
     "name": "stdout",
     "output_type": "stream",
     "text": [
      "CUDA: 318632960\n",
      "RAM: 59.2\n"
     ]
    },
    {
     "name": "stderr",
     "output_type": "stream",
     "text": [
      "Batch 18:   5%|▍         | 19/384 [12:28<40:16,  6.62s/batch]"
     ]
    },
    {
     "name": "stdout",
     "output_type": "stream",
     "text": [
      "CUDA: 318632960\n",
      "RAM: 59.2\n"
     ]
    },
    {
     "name": "stderr",
     "output_type": "stream",
     "text": [
      "Batch 19:   5%|▌         | 20/384 [12:32<36:53,  6.08s/batch]"
     ]
    },
    {
     "name": "stdout",
     "output_type": "stream",
     "text": [
      "CUDA: 318632960\n",
      "RAM: 59.8\n"
     ]
    },
    {
     "name": "stderr",
     "output_type": "stream",
     "text": [
      "Batch 20:   5%|▌         | 21/384 [12:36<32:19,  5.34s/batch]"
     ]
    },
    {
     "name": "stdout",
     "output_type": "stream",
     "text": [
      "CUDA: 318632960\n",
      "RAM: 59.2\n"
     ]
    },
    {
     "name": "stderr",
     "output_type": "stream",
     "text": [
      "Batch 21:   6%|▌         | 22/384 [12:41<31:04,  5.15s/batch]"
     ]
    },
    {
     "name": "stdout",
     "output_type": "stream",
     "text": [
      "CUDA: 318632960\n",
      "RAM: 59.2\n"
     ]
    },
    {
     "name": "stderr",
     "output_type": "stream",
     "text": [
      "Batch 22:   6%|▌         | 23/384 [12:45<29:31,  4.91s/batch]"
     ]
    },
    {
     "name": "stdout",
     "output_type": "stream",
     "text": [
      "CUDA: 318632960\n",
      "RAM: 59.8\n"
     ]
    },
    {
     "name": "stderr",
     "output_type": "stream",
     "text": [
      "Batch 23:   6%|▋         | 24/384 [12:50<29:16,  4.88s/batch]"
     ]
    },
    {
     "name": "stdout",
     "output_type": "stream",
     "text": [
      "CUDA: 318632960\n",
      "RAM: 59.8\n"
     ]
    },
    {
     "name": "stderr",
     "output_type": "stream",
     "text": [
      "Batch 24:   7%|▋         | 25/384 [12:54<27:15,  4.56s/batch]"
     ]
    },
    {
     "name": "stdout",
     "output_type": "stream",
     "text": [
      "CUDA: 318632960\n",
      "RAM: 59.8\n"
     ]
    },
    {
     "name": "stderr",
     "output_type": "stream",
     "text": [
      "Batch 25:   7%|▋         | 26/384 [12:57<25:39,  4.30s/batch]"
     ]
    },
    {
     "name": "stdout",
     "output_type": "stream",
     "text": [
      "CUDA: 318632960\n",
      "RAM: 59.2\n"
     ]
    },
    {
     "name": "stderr",
     "output_type": "stream",
     "text": [
      "Batch 26:   7%|▋         | 27/384 [13:01<24:10,  4.06s/batch]"
     ]
    },
    {
     "name": "stdout",
     "output_type": "stream",
     "text": [
      "CUDA: 318632960\n",
      "RAM: 59.2\n"
     ]
    },
    {
     "name": "stderr",
     "output_type": "stream",
     "text": [
      "Batch 27:   7%|▋         | 28/384 [13:05<23:40,  3.99s/batch]"
     ]
    },
    {
     "name": "stdout",
     "output_type": "stream",
     "text": [
      "CUDA: 318632960\n",
      "RAM: 59.2\n"
     ]
    },
    {
     "name": "stderr",
     "output_type": "stream",
     "text": [
      "Batch 28:   8%|▊         | 29/384 [13:09<23:26,  3.96s/batch]"
     ]
    },
    {
     "name": "stdout",
     "output_type": "stream",
     "text": [
      "CUDA: 318632960\n",
      "RAM: 59.2\n"
     ]
    },
    {
     "name": "stderr",
     "output_type": "stream",
     "text": [
      "Batch 29:   8%|▊         | 30/384 [13:12<22:48,  3.86s/batch]"
     ]
    },
    {
     "name": "stdout",
     "output_type": "stream",
     "text": [
      "CUDA: 318632960\n",
      "RAM: 59.8\n"
     ]
    },
    {
     "name": "stderr",
     "output_type": "stream",
     "text": [
      "Batch 30:   8%|▊         | 31/384 [13:17<23:27,  3.99s/batch]"
     ]
    },
    {
     "name": "stdout",
     "output_type": "stream",
     "text": [
      "CUDA: 318632960\n",
      "RAM: 59.8\n"
     ]
    },
    {
     "name": "stderr",
     "output_type": "stream",
     "text": [
      "Batch 31:   8%|▊         | 32/384 [13:20<22:49,  3.89s/batch]"
     ]
    },
    {
     "name": "stdout",
     "output_type": "stream",
     "text": [
      "CUDA: 318632960\n",
      "RAM: 59.2\n"
     ]
    },
    {
     "name": "stderr",
     "output_type": "stream",
     "text": [
      "Batch 32:   9%|▊         | 33/384 [13:24<22:17,  3.81s/batch]"
     ]
    },
    {
     "name": "stdout",
     "output_type": "stream",
     "text": [
      "CUDA: 318632960\n",
      "RAM: 59.2\n"
     ]
    },
    {
     "name": "stderr",
     "output_type": "stream",
     "text": [
      "Batch 33:   9%|▉         | 34/384 [13:29<23:38,  4.05s/batch]"
     ]
    },
    {
     "name": "stdout",
     "output_type": "stream",
     "text": [
      "CUDA: 318632960\n",
      "RAM: 59.3\n"
     ]
    },
    {
     "name": "stderr",
     "output_type": "stream",
     "text": [
      "Batch 34:   9%|▉         | 35/384 [13:32<23:20,  4.01s/batch]"
     ]
    },
    {
     "name": "stdout",
     "output_type": "stream",
     "text": [
      "CUDA: 318632960\n",
      "RAM: 59.2\n"
     ]
    },
    {
     "name": "stderr",
     "output_type": "stream",
     "text": [
      "Batch 35:   9%|▉         | 36/384 [13:37<23:30,  4.05s/batch]"
     ]
    },
    {
     "name": "stdout",
     "output_type": "stream",
     "text": [
      "CUDA: 318632960\n",
      "RAM: 59.8\n"
     ]
    },
    {
     "name": "stderr",
     "output_type": "stream",
     "text": [
      "Batch 36:  10%|▉         | 37/384 [13:41<23:12,  4.01s/batch]"
     ]
    },
    {
     "name": "stdout",
     "output_type": "stream",
     "text": [
      "CUDA: 318632960\n",
      "RAM: 59.2\n"
     ]
    },
    {
     "name": "stderr",
     "output_type": "stream",
     "text": [
      "Batch 37:  10%|▉         | 38/384 [13:45<23:55,  4.15s/batch]"
     ]
    },
    {
     "name": "stdout",
     "output_type": "stream",
     "text": [
      "CUDA: 318632960\n",
      "RAM: 59.2\n"
     ]
    },
    {
     "name": "stderr",
     "output_type": "stream",
     "text": [
      "Batch 38:  10%|█         | 39/384 [13:50<24:43,  4.30s/batch]"
     ]
    },
    {
     "name": "stdout",
     "output_type": "stream",
     "text": [
      "CUDA: 318632960\n",
      "RAM: 59.9\n"
     ]
    },
    {
     "name": "stderr",
     "output_type": "stream",
     "text": [
      "Batch 39:  10%|█         | 40/384 [13:54<24:53,  4.34s/batch]"
     ]
    },
    {
     "name": "stdout",
     "output_type": "stream",
     "text": [
      "CUDA: 318632960\n",
      "RAM: 59.2\n"
     ]
    },
    {
     "name": "stderr",
     "output_type": "stream",
     "text": [
      "Batch 40:  11%|█         | 41/384 [13:58<24:50,  4.35s/batch]"
     ]
    },
    {
     "name": "stdout",
     "output_type": "stream",
     "text": [
      "CUDA: 318632960\n",
      "RAM: 59.2\n"
     ]
    },
    {
     "name": "stderr",
     "output_type": "stream",
     "text": [
      "Batch 41:  11%|█         | 42/384 [14:03<25:11,  4.42s/batch]"
     ]
    },
    {
     "name": "stdout",
     "output_type": "stream",
     "text": [
      "CUDA: 318632960\n",
      "RAM: 59.2\n"
     ]
    },
    {
     "name": "stderr",
     "output_type": "stream",
     "text": [
      "Batch 42:  11%|█         | 43/384 [14:07<24:10,  4.25s/batch]"
     ]
    },
    {
     "name": "stdout",
     "output_type": "stream",
     "text": [
      "CUDA: 318632960\n",
      "RAM: 59.3\n"
     ]
    },
    {
     "name": "stderr",
     "output_type": "stream",
     "text": [
      "Batch 43:  11%|█▏        | 44/384 [14:11<23:25,  4.13s/batch]"
     ]
    },
    {
     "name": "stdout",
     "output_type": "stream",
     "text": [
      "CUDA: 318632960\n",
      "RAM: 59.3\n"
     ]
    },
    {
     "name": "stderr",
     "output_type": "stream",
     "text": [
      "Batch 44:  12%|█▏        | 45/384 [14:15<23:22,  4.14s/batch]"
     ]
    },
    {
     "name": "stdout",
     "output_type": "stream",
     "text": [
      "CUDA: 318632960\n",
      "RAM: 59.2\n"
     ]
    },
    {
     "name": "stderr",
     "output_type": "stream",
     "text": [
      "Batch 45:  12%|█▏        | 46/384 [14:19<23:46,  4.22s/batch]"
     ]
    },
    {
     "name": "stdout",
     "output_type": "stream",
     "text": [
      "CUDA: 318632960\n",
      "RAM: 59.2\n"
     ]
    },
    {
     "name": "stderr",
     "output_type": "stream",
     "text": [
      "Batch 46:  12%|█▏        | 47/384 [14:24<24:11,  4.31s/batch]"
     ]
    },
    {
     "name": "stdout",
     "output_type": "stream",
     "text": [
      "CUDA: 318632960\n",
      "RAM: 59.3\n"
     ]
    },
    {
     "name": "stderr",
     "output_type": "stream",
     "text": [
      "Batch 47:  12%|█▎        | 48/384 [14:28<23:51,  4.26s/batch]"
     ]
    },
    {
     "name": "stdout",
     "output_type": "stream",
     "text": [
      "CUDA: 318632960\n",
      "RAM: 59.9\n"
     ]
    },
    {
     "name": "stderr",
     "output_type": "stream",
     "text": [
      "Batch 48:  13%|█▎        | 49/384 [14:32<23:52,  4.27s/batch]"
     ]
    },
    {
     "name": "stdout",
     "output_type": "stream",
     "text": [
      "CUDA: 318632960\n",
      "RAM: 59.9\n"
     ]
    },
    {
     "name": "stderr",
     "output_type": "stream",
     "text": [
      "Batch 49:  13%|█▎        | 50/384 [14:36<23:37,  4.24s/batch]"
     ]
    },
    {
     "name": "stdout",
     "output_type": "stream",
     "text": [
      "CUDA: 318632960\n",
      "RAM: 59.3\n"
     ]
    },
    {
     "name": "stderr",
     "output_type": "stream",
     "text": [
      "Batch 50:  13%|█▎        | 51/384 [14:41<24:03,  4.34s/batch]"
     ]
    },
    {
     "name": "stdout",
     "output_type": "stream",
     "text": [
      "CUDA: 318632960\n",
      "RAM: 59.3\n"
     ]
    },
    {
     "name": "stderr",
     "output_type": "stream",
     "text": [
      "Batch 51:  14%|█▎        | 52/384 [14:45<24:09,  4.37s/batch]"
     ]
    },
    {
     "name": "stdout",
     "output_type": "stream",
     "text": [
      "CUDA: 318632960\n",
      "RAM: 59.3\n"
     ]
    },
    {
     "name": "stderr",
     "output_type": "stream",
     "text": [
      "Batch 52:  14%|█▍        | 53/384 [14:50<24:13,  4.39s/batch]"
     ]
    },
    {
     "name": "stdout",
     "output_type": "stream",
     "text": [
      "CUDA: 318632960\n",
      "RAM: 59.3\n"
     ]
    },
    {
     "name": "stderr",
     "output_type": "stream",
     "text": [
      "Batch 53:  14%|█▍        | 54/384 [14:53<22:40,  4.12s/batch]"
     ]
    },
    {
     "name": "stdout",
     "output_type": "stream",
     "text": [
      "CUDA: 318632960\n",
      "RAM: 59.3\n"
     ]
    },
    {
     "name": "stderr",
     "output_type": "stream",
     "text": [
      "Batch 54:  14%|█▍        | 55/384 [14:57<21:36,  3.94s/batch]"
     ]
    },
    {
     "name": "stdout",
     "output_type": "stream",
     "text": [
      "CUDA: 318632960\n",
      "RAM: 59.3\n"
     ]
    },
    {
     "name": "stderr",
     "output_type": "stream",
     "text": [
      "Batch 55:  15%|█▍        | 56/384 [15:01<21:43,  3.97s/batch]"
     ]
    },
    {
     "name": "stdout",
     "output_type": "stream",
     "text": [
      "CUDA: 318632960\n",
      "RAM: 59.3\n"
     ]
    },
    {
     "name": "stderr",
     "output_type": "stream",
     "text": [
      "Batch 56:  15%|█▍        | 57/384 [15:06<22:41,  4.16s/batch]"
     ]
    },
    {
     "name": "stdout",
     "output_type": "stream",
     "text": [
      "CUDA: 318632960\n",
      "RAM: 59.3\n"
     ]
    },
    {
     "name": "stderr",
     "output_type": "stream",
     "text": [
      "Batch 57:  15%|█▌        | 58/384 [15:09<21:21,  3.93s/batch]"
     ]
    },
    {
     "name": "stdout",
     "output_type": "stream",
     "text": [
      "CUDA: 318632960\n",
      "RAM: 59.9\n"
     ]
    },
    {
     "name": "stderr",
     "output_type": "stream",
     "text": [
      "Batch 58:  15%|█▌        | 59/384 [15:13<22:10,  4.09s/batch]"
     ]
    },
    {
     "name": "stdout",
     "output_type": "stream",
     "text": [
      "CUDA: 318632960\n",
      "RAM: 59.3\n"
     ]
    },
    {
     "name": "stderr",
     "output_type": "stream",
     "text": [
      "Batch 59:  16%|█▌        | 60/384 [15:17<21:15,  3.94s/batch]"
     ]
    },
    {
     "name": "stdout",
     "output_type": "stream",
     "text": [
      "CUDA: 318632960\n",
      "RAM: 59.3\n"
     ]
    },
    {
     "name": "stderr",
     "output_type": "stream",
     "text": [
      "Batch 60:  16%|█▌        | 61/384 [15:21<21:24,  3.98s/batch]"
     ]
    },
    {
     "name": "stdout",
     "output_type": "stream",
     "text": [
      "CUDA: 318632960\n",
      "RAM: 59.3\n"
     ]
    },
    {
     "name": "stderr",
     "output_type": "stream",
     "text": [
      "Batch 61:  16%|█▌        | 62/384 [15:25<21:27,  4.00s/batch]"
     ]
    },
    {
     "name": "stdout",
     "output_type": "stream",
     "text": [
      "CUDA: 318632960\n",
      "RAM: 59.3\n"
     ]
    },
    {
     "name": "stderr",
     "output_type": "stream",
     "text": [
      "Batch 62:  16%|█▋        | 63/384 [15:29<20:59,  3.92s/batch]"
     ]
    },
    {
     "name": "stdout",
     "output_type": "stream",
     "text": [
      "CUDA: 318632960\n",
      "RAM: 59.9\n"
     ]
    },
    {
     "name": "stderr",
     "output_type": "stream",
     "text": [
      "Batch 63:  17%|█▋        | 64/384 [15:33<20:35,  3.86s/batch]"
     ]
    },
    {
     "name": "stdout",
     "output_type": "stream",
     "text": [
      "CUDA: 318632960\n",
      "RAM: 59.3\n"
     ]
    },
    {
     "name": "stderr",
     "output_type": "stream",
     "text": [
      "Batch 64:  17%|█▋        | 65/384 [15:36<20:10,  3.80s/batch]"
     ]
    },
    {
     "name": "stdout",
     "output_type": "stream",
     "text": [
      "CUDA: 318632960\n",
      "RAM: 59.3\n"
     ]
    },
    {
     "name": "stderr",
     "output_type": "stream",
     "text": [
      "Batch 65:  17%|█▋        | 66/384 [15:41<21:02,  3.97s/batch]"
     ]
    },
    {
     "name": "stdout",
     "output_type": "stream",
     "text": [
      "CUDA: 318632960\n",
      "RAM: 59.9\n"
     ]
    },
    {
     "name": "stderr",
     "output_type": "stream",
     "text": [
      "Batch 66:  17%|█▋        | 67/384 [15:45<21:21,  4.04s/batch]"
     ]
    },
    {
     "name": "stdout",
     "output_type": "stream",
     "text": [
      "CUDA: 318632960\n",
      "RAM: 59.3\n"
     ]
    },
    {
     "name": "stderr",
     "output_type": "stream",
     "text": [
      "Batch 67:  18%|█▊        | 68/384 [15:49<21:39,  4.11s/batch]"
     ]
    },
    {
     "name": "stdout",
     "output_type": "stream",
     "text": [
      "CUDA: 318632960\n",
      "RAM: 59.3\n"
     ]
    },
    {
     "name": "stderr",
     "output_type": "stream",
     "text": [
      "Batch 68:  18%|█▊        | 69/384 [15:53<21:19,  4.06s/batch]"
     ]
    },
    {
     "name": "stdout",
     "output_type": "stream",
     "text": [
      "CUDA: 318632960\n",
      "RAM: 59.3\n"
     ]
    },
    {
     "name": "stderr",
     "output_type": "stream",
     "text": [
      "Batch 69:  18%|█▊        | 70/384 [15:57<21:24,  4.09s/batch]"
     ]
    },
    {
     "name": "stdout",
     "output_type": "stream",
     "text": [
      "CUDA: 318632960\n",
      "RAM: 59.3\n"
     ]
    },
    {
     "name": "stderr",
     "output_type": "stream",
     "text": [
      "Batch 70:  18%|█▊        | 71/384 [16:02<22:03,  4.23s/batch]"
     ]
    },
    {
     "name": "stdout",
     "output_type": "stream",
     "text": [
      "CUDA: 318632960\n",
      "RAM: 59.9\n"
     ]
    },
    {
     "name": "stderr",
     "output_type": "stream",
     "text": [
      "Batch 71:  19%|█▉        | 72/384 [16:06<21:23,  4.11s/batch]"
     ]
    },
    {
     "name": "stdout",
     "output_type": "stream",
     "text": [
      "CUDA: 318632960\n",
      "RAM: 59.3\n"
     ]
    },
    {
     "name": "stderr",
     "output_type": "stream",
     "text": [
      "Batch 72:  19%|█▉        | 73/384 [16:10<21:27,  4.14s/batch]"
     ]
    },
    {
     "name": "stdout",
     "output_type": "stream",
     "text": [
      "CUDA: 318632960\n",
      "RAM: 59.3\n"
     ]
    },
    {
     "name": "stderr",
     "output_type": "stream",
     "text": [
      "Batch 73:  19%|█▉        | 74/384 [16:14<22:02,  4.26s/batch]"
     ]
    },
    {
     "name": "stdout",
     "output_type": "stream",
     "text": [
      "CUDA: 318632960\n",
      "RAM: 59.4\n"
     ]
    },
    {
     "name": "stderr",
     "output_type": "stream",
     "text": [
      "Batch 74:  20%|█▉        | 75/384 [16:18<21:30,  4.17s/batch]"
     ]
    },
    {
     "name": "stdout",
     "output_type": "stream",
     "text": [
      "CUDA: 318632960\n",
      "RAM: 59.3\n"
     ]
    },
    {
     "name": "stderr",
     "output_type": "stream",
     "text": [
      "Batch 75:  20%|█▉        | 76/384 [16:23<21:46,  4.24s/batch]"
     ]
    },
    {
     "name": "stdout",
     "output_type": "stream",
     "text": [
      "CUDA: 318632960\n",
      "RAM: 59.3\n"
     ]
    },
    {
     "name": "stderr",
     "output_type": "stream",
     "text": [
      "Batch 76:  20%|██        | 77/384 [16:26<21:00,  4.10s/batch]"
     ]
    },
    {
     "name": "stdout",
     "output_type": "stream",
     "text": [
      "CUDA: 318632960\n",
      "RAM: 59.3\n"
     ]
    },
    {
     "name": "stderr",
     "output_type": "stream",
     "text": [
      "Batch 77:  20%|██        | 78/384 [16:31<21:30,  4.22s/batch]"
     ]
    },
    {
     "name": "stdout",
     "output_type": "stream",
     "text": [
      "CUDA: 318632960\n",
      "RAM: 59.3\n"
     ]
    },
    {
     "name": "stderr",
     "output_type": "stream",
     "text": [
      "Batch 78:  21%|██        | 79/384 [16:35<20:52,  4.11s/batch]"
     ]
    },
    {
     "name": "stdout",
     "output_type": "stream",
     "text": [
      "CUDA: 318632960\n",
      "RAM: 59.3\n"
     ]
    },
    {
     "name": "stderr",
     "output_type": "stream",
     "text": [
      "Batch 79:  21%|██        | 80/384 [16:39<21:00,  4.15s/batch]"
     ]
    },
    {
     "name": "stdout",
     "output_type": "stream",
     "text": [
      "CUDA: 318632960\n",
      "RAM: 60.0\n"
     ]
    },
    {
     "name": "stderr",
     "output_type": "stream",
     "text": [
      "Batch 80:  21%|██        | 81/384 [16:43<21:10,  4.19s/batch]"
     ]
    },
    {
     "name": "stdout",
     "output_type": "stream",
     "text": [
      "CUDA: 318632960\n",
      "RAM: 59.3\n"
     ]
    },
    {
     "name": "stderr",
     "output_type": "stream",
     "text": [
      "Batch 81:  21%|██▏       | 82/384 [16:47<20:32,  4.08s/batch]"
     ]
    },
    {
     "name": "stdout",
     "output_type": "stream",
     "text": [
      "CUDA: 318632960\n",
      "RAM: 59.4\n"
     ]
    },
    {
     "name": "stderr",
     "output_type": "stream",
     "text": [
      "Batch 82:  22%|██▏       | 83/384 [16:50<18:59,  3.78s/batch]"
     ]
    },
    {
     "name": "stdout",
     "output_type": "stream",
     "text": [
      "CUDA: 318632960\n",
      "RAM: 59.3\n"
     ]
    },
    {
     "name": "stderr",
     "output_type": "stream",
     "text": [
      "Batch 83:  22%|██▏       | 84/384 [16:54<19:16,  3.86s/batch]"
     ]
    },
    {
     "name": "stdout",
     "output_type": "stream",
     "text": [
      "CUDA: 318632960\n",
      "RAM: 59.4\n"
     ]
    },
    {
     "name": "stderr",
     "output_type": "stream",
     "text": [
      "Batch 84:  22%|██▏       | 85/384 [16:58<18:47,  3.77s/batch]"
     ]
    },
    {
     "name": "stdout",
     "output_type": "stream",
     "text": [
      "CUDA: 318632960\n",
      "RAM: 59.4\n"
     ]
    },
    {
     "name": "stderr",
     "output_type": "stream",
     "text": [
      "Batch 85:  22%|██▏       | 86/384 [17:02<19:29,  3.92s/batch]"
     ]
    },
    {
     "name": "stdout",
     "output_type": "stream",
     "text": [
      "CUDA: 318632960\n",
      "RAM: 59.4\n"
     ]
    },
    {
     "name": "stderr",
     "output_type": "stream",
     "text": [
      "Batch 86:  23%|██▎       | 87/384 [17:06<19:05,  3.86s/batch]"
     ]
    },
    {
     "name": "stdout",
     "output_type": "stream",
     "text": [
      "CUDA: 318632960\n",
      "RAM: 59.4\n"
     ]
    },
    {
     "name": "stderr",
     "output_type": "stream",
     "text": [
      "Batch 87:  23%|██▎       | 88/384 [17:10<19:12,  3.89s/batch]"
     ]
    },
    {
     "name": "stdout",
     "output_type": "stream",
     "text": [
      "CUDA: 318632960\n",
      "RAM: 59.4\n"
     ]
    },
    {
     "name": "stderr",
     "output_type": "stream",
     "text": [
      "Batch 88:  23%|██▎       | 89/384 [17:13<18:35,  3.78s/batch]"
     ]
    },
    {
     "name": "stdout",
     "output_type": "stream",
     "text": [
      "CUDA: 318632960\n",
      "RAM: 59.4\n"
     ]
    },
    {
     "name": "stderr",
     "output_type": "stream",
     "text": [
      "Batch 89:  23%|██▎       | 90/384 [17:17<18:46,  3.83s/batch]"
     ]
    },
    {
     "name": "stdout",
     "output_type": "stream",
     "text": [
      "CUDA: 318632960\n",
      "RAM: 59.4\n"
     ]
    },
    {
     "name": "stderr",
     "output_type": "stream",
     "text": [
      "Batch 90:  24%|██▎       | 91/384 [17:22<19:27,  3.99s/batch]"
     ]
    },
    {
     "name": "stdout",
     "output_type": "stream",
     "text": [
      "CUDA: 318632960\n",
      "RAM: 59.4\n"
     ]
    },
    {
     "name": "stderr",
     "output_type": "stream",
     "text": [
      "Batch 91:  24%|██▍       | 92/384 [17:26<19:55,  4.10s/batch]"
     ]
    },
    {
     "name": "stdout",
     "output_type": "stream",
     "text": [
      "CUDA: 318632960\n",
      "RAM: 59.4\n"
     ]
    },
    {
     "name": "stderr",
     "output_type": "stream",
     "text": [
      "Batch 92:  24%|██▍       | 93/384 [17:30<20:19,  4.19s/batch]"
     ]
    },
    {
     "name": "stdout",
     "output_type": "stream",
     "text": [
      "CUDA: 318632960\n",
      "RAM: 59.4\n"
     ]
    },
    {
     "name": "stderr",
     "output_type": "stream",
     "text": [
      "Batch 93:  24%|██▍       | 94/384 [17:34<19:49,  4.10s/batch]"
     ]
    },
    {
     "name": "stdout",
     "output_type": "stream",
     "text": [
      "CUDA: 318632960\n",
      "RAM: 59.4\n"
     ]
    },
    {
     "name": "stderr",
     "output_type": "stream",
     "text": [
      "Batch 94:  25%|██▍       | 95/384 [17:39<20:08,  4.18s/batch]"
     ]
    },
    {
     "name": "stdout",
     "output_type": "stream",
     "text": [
      "CUDA: 318632960\n",
      "RAM: 60.0\n"
     ]
    },
    {
     "name": "stderr",
     "output_type": "stream",
     "text": [
      "Batch 95:  25%|██▌       | 96/384 [17:43<19:41,  4.10s/batch]"
     ]
    },
    {
     "name": "stdout",
     "output_type": "stream",
     "text": [
      "CUDA: 318632960\n",
      "RAM: 59.4\n"
     ]
    },
    {
     "name": "stderr",
     "output_type": "stream",
     "text": [
      "Batch 96:  25%|██▌       | 97/384 [17:46<18:27,  3.86s/batch]"
     ]
    },
    {
     "name": "stdout",
     "output_type": "stream",
     "text": [
      "CUDA: 318632960\n",
      "RAM: 59.5\n"
     ]
    },
    {
     "name": "stderr",
     "output_type": "stream",
     "text": [
      "Batch 97:  26%|██▌       | 98/384 [17:49<17:58,  3.77s/batch]"
     ]
    },
    {
     "name": "stdout",
     "output_type": "stream",
     "text": [
      "CUDA: 318632960\n",
      "RAM: 60.0\n"
     ]
    },
    {
     "name": "stderr",
     "output_type": "stream",
     "text": [
      "Batch 98:  26%|██▌       | 99/384 [17:53<17:23,  3.66s/batch]"
     ]
    },
    {
     "name": "stdout",
     "output_type": "stream",
     "text": [
      "CUDA: 318632960\n",
      "RAM: 59.4\n"
     ]
    },
    {
     "name": "stderr",
     "output_type": "stream",
     "text": [
      "Batch 99:  26%|██▌       | 100/384 [17:56<16:53,  3.57s/batch]"
     ]
    },
    {
     "name": "stdout",
     "output_type": "stream",
     "text": [
      "CUDA: 318632960\n",
      "RAM: 59.4\n"
     ]
    },
    {
     "name": "stderr",
     "output_type": "stream",
     "text": [
      "Batch 100:  26%|██▋       | 101/384 [18:00<17:31,  3.71s/batch]"
     ]
    },
    {
     "name": "stdout",
     "output_type": "stream",
     "text": [
      "CUDA: 318632960\n",
      "RAM: 59.4\n"
     ]
    },
    {
     "name": "stderr",
     "output_type": "stream",
     "text": [
      "Batch 101:  27%|██▋       | 102/384 [18:04<17:14,  3.67s/batch]"
     ]
    },
    {
     "name": "stdout",
     "output_type": "stream",
     "text": [
      "CUDA: 318632960\n",
      "RAM: 59.4\n"
     ]
    },
    {
     "name": "stderr",
     "output_type": "stream",
     "text": [
      "Batch 102:  27%|██▋       | 103/384 [18:07<16:57,  3.62s/batch]"
     ]
    },
    {
     "name": "stdout",
     "output_type": "stream",
     "text": [
      "CUDA: 318632960\n",
      "RAM: 59.4\n"
     ]
    },
    {
     "name": "stderr",
     "output_type": "stream",
     "text": [
      "Batch 103:  27%|██▋       | 104/384 [18:12<18:08,  3.89s/batch]"
     ]
    },
    {
     "name": "stdout",
     "output_type": "stream",
     "text": [
      "CUDA: 318632960\n",
      "RAM: 59.4\n"
     ]
    },
    {
     "name": "stderr",
     "output_type": "stream",
     "text": [
      "Batch 104:  27%|██▋       | 105/384 [18:16<18:59,  4.09s/batch]"
     ]
    },
    {
     "name": "stdout",
     "output_type": "stream",
     "text": [
      "CUDA: 318632960\n",
      "RAM: 59.4\n"
     ]
    },
    {
     "name": "stderr",
     "output_type": "stream",
     "text": [
      "Batch 105:  28%|██▊       | 106/384 [18:20<18:09,  3.92s/batch]"
     ]
    },
    {
     "name": "stdout",
     "output_type": "stream",
     "text": [
      "CUDA: 318632960\n",
      "RAM: 59.4\n"
     ]
    },
    {
     "name": "stderr",
     "output_type": "stream",
     "text": [
      "Batch 106:  28%|██▊       | 107/384 [18:24<17:48,  3.86s/batch]"
     ]
    },
    {
     "name": "stdout",
     "output_type": "stream",
     "text": [
      "CUDA: 318632960\n",
      "RAM: 59.5\n"
     ]
    },
    {
     "name": "stderr",
     "output_type": "stream",
     "text": [
      "Batch 107:  28%|██▊       | 108/384 [18:28<17:52,  3.89s/batch]"
     ]
    },
    {
     "name": "stdout",
     "output_type": "stream",
     "text": [
      "CUDA: 318632960\n",
      "RAM: 59.5\n"
     ]
    },
    {
     "name": "stderr",
     "output_type": "stream",
     "text": [
      "Batch 108:  28%|██▊       | 109/384 [18:30<16:26,  3.59s/batch]"
     ]
    },
    {
     "name": "stdout",
     "output_type": "stream",
     "text": [
      "CUDA: 318632960\n",
      "RAM: 59.5\n"
     ]
    },
    {
     "name": "stderr",
     "output_type": "stream",
     "text": [
      "Batch 109:  29%|██▊       | 110/384 [18:34<16:12,  3.55s/batch]"
     ]
    },
    {
     "name": "stdout",
     "output_type": "stream",
     "text": [
      "CUDA: 318632960\n",
      "RAM: 59.5\n"
     ]
    },
    {
     "name": "stderr",
     "output_type": "stream",
     "text": [
      "Batch 110:  29%|██▉       | 111/384 [18:38<16:24,  3.61s/batch]"
     ]
    },
    {
     "name": "stdout",
     "output_type": "stream",
     "text": [
      "CUDA: 318632960\n",
      "RAM: 59.5\n"
     ]
    },
    {
     "name": "stderr",
     "output_type": "stream",
     "text": [
      "Batch 111:  29%|██▉       | 112/384 [18:42<17:33,  3.87s/batch]"
     ]
    },
    {
     "name": "stdout",
     "output_type": "stream",
     "text": [
      "CUDA: 318632960\n",
      "RAM: 59.6\n"
     ]
    },
    {
     "name": "stderr",
     "output_type": "stream",
     "text": [
      "Batch 112:  29%|██▉       | 113/384 [18:46<17:53,  3.96s/batch]"
     ]
    },
    {
     "name": "stdout",
     "output_type": "stream",
     "text": [
      "CUDA: 318632960\n",
      "RAM: 59.5\n"
     ]
    },
    {
     "name": "stderr",
     "output_type": "stream",
     "text": [
      "Batch 113:  30%|██▉       | 114/384 [18:50<18:04,  4.02s/batch]"
     ]
    },
    {
     "name": "stdout",
     "output_type": "stream",
     "text": [
      "CUDA: 318632960\n",
      "RAM: 59.5\n"
     ]
    },
    {
     "name": "stderr",
     "output_type": "stream",
     "text": [
      "Batch 114:  30%|██▉       | 115/384 [18:54<17:37,  3.93s/batch]"
     ]
    },
    {
     "name": "stdout",
     "output_type": "stream",
     "text": [
      "CUDA: 318632960\n",
      "RAM: 60.1\n"
     ]
    },
    {
     "name": "stderr",
     "output_type": "stream",
     "text": [
      "Batch 115:  30%|███       | 116/384 [18:58<17:41,  3.96s/batch]"
     ]
    },
    {
     "name": "stdout",
     "output_type": "stream",
     "text": [
      "CUDA: 318632960\n",
      "RAM: 60.1\n"
     ]
    },
    {
     "name": "stderr",
     "output_type": "stream",
     "text": [
      "Batch 116:  30%|███       | 117/384 [19:02<17:25,  3.92s/batch]"
     ]
    },
    {
     "name": "stdout",
     "output_type": "stream",
     "text": [
      "CUDA: 318632960\n",
      "RAM: 59.5\n"
     ]
    },
    {
     "name": "stderr",
     "output_type": "stream",
     "text": [
      "Batch 117:  31%|███       | 118/384 [19:06<17:21,  3.91s/batch]"
     ]
    },
    {
     "name": "stdout",
     "output_type": "stream",
     "text": [
      "CUDA: 318632960\n",
      "RAM: 59.5\n"
     ]
    },
    {
     "name": "stderr",
     "output_type": "stream",
     "text": [
      "Batch 118:  31%|███       | 119/384 [19:09<16:45,  3.80s/batch]"
     ]
    },
    {
     "name": "stdout",
     "output_type": "stream",
     "text": [
      "CUDA: 318632960\n",
      "RAM: 59.5\n"
     ]
    },
    {
     "name": "stderr",
     "output_type": "stream",
     "text": [
      "Batch 119:  31%|███▏      | 120/384 [19:14<17:39,  4.01s/batch]"
     ]
    },
    {
     "name": "stdout",
     "output_type": "stream",
     "text": [
      "CUDA: 318632960\n",
      "RAM: 59.5\n"
     ]
    },
    {
     "name": "stderr",
     "output_type": "stream",
     "text": [
      "Batch 120:  32%|███▏      | 121/384 [19:18<17:14,  3.93s/batch]"
     ]
    },
    {
     "name": "stdout",
     "output_type": "stream",
     "text": [
      "CUDA: 318632960\n",
      "RAM: 59.5\n"
     ]
    },
    {
     "name": "stderr",
     "output_type": "stream",
     "text": [
      "Batch 121:  32%|███▏      | 122/384 [19:21<15:59,  3.66s/batch]"
     ]
    },
    {
     "name": "stdout",
     "output_type": "stream",
     "text": [
      "CUDA: 318632960\n",
      "RAM: 59.5\n"
     ]
    },
    {
     "name": "stderr",
     "output_type": "stream",
     "text": [
      "Batch 122:  32%|███▏      | 123/384 [19:25<16:14,  3.73s/batch]"
     ]
    },
    {
     "name": "stdout",
     "output_type": "stream",
     "text": [
      "CUDA: 318632960\n",
      "RAM: 60.1\n"
     ]
    },
    {
     "name": "stderr",
     "output_type": "stream",
     "text": [
      "Batch 123:  32%|███▏      | 124/384 [19:29<16:53,  3.90s/batch]"
     ]
    },
    {
     "name": "stdout",
     "output_type": "stream",
     "text": [
      "CUDA: 318632960\n",
      "RAM: 60.1\n"
     ]
    },
    {
     "name": "stderr",
     "output_type": "stream",
     "text": [
      "Batch 124:  33%|███▎      | 125/384 [19:33<17:21,  4.02s/batch]"
     ]
    },
    {
     "name": "stdout",
     "output_type": "stream",
     "text": [
      "CUDA: 318632960\n",
      "RAM: 59.5\n"
     ]
    },
    {
     "name": "stderr",
     "output_type": "stream",
     "text": [
      "Batch 125:  33%|███▎      | 126/384 [19:37<16:54,  3.93s/batch]"
     ]
    },
    {
     "name": "stdout",
     "output_type": "stream",
     "text": [
      "CUDA: 318632960\n",
      "RAM: 59.5\n"
     ]
    },
    {
     "name": "stderr",
     "output_type": "stream",
     "text": [
      "Batch 126:  33%|███▎      | 127/384 [19:41<16:53,  3.94s/batch]"
     ]
    },
    {
     "name": "stdout",
     "output_type": "stream",
     "text": [
      "CUDA: 318632960\n",
      "RAM: 59.5\n"
     ]
    },
    {
     "name": "stderr",
     "output_type": "stream",
     "text": [
      "Batch 127:  33%|███▎      | 128/384 [19:45<17:08,  4.02s/batch]"
     ]
    },
    {
     "name": "stdout",
     "output_type": "stream",
     "text": [
      "CUDA: 318632960\n",
      "RAM: 59.5\n"
     ]
    },
    {
     "name": "stderr",
     "output_type": "stream",
     "text": [
      "Batch 128:  34%|███▎      | 129/384 [19:49<16:51,  3.97s/batch]"
     ]
    },
    {
     "name": "stdout",
     "output_type": "stream",
     "text": [
      "CUDA: 318632960\n",
      "RAM: 59.5\n"
     ]
    },
    {
     "name": "stderr",
     "output_type": "stream",
     "text": [
      "Batch 129:  34%|███▍      | 130/384 [19:53<17:14,  4.07s/batch]"
     ]
    },
    {
     "name": "stdout",
     "output_type": "stream",
     "text": [
      "CUDA: 318632960\n",
      "RAM: 59.5\n"
     ]
    },
    {
     "name": "stderr",
     "output_type": "stream",
     "text": [
      "Batch 130:  34%|███▍      | 131/384 [19:58<17:22,  4.12s/batch]"
     ]
    },
    {
     "name": "stdout",
     "output_type": "stream",
     "text": [
      "CUDA: 318632960\n",
      "RAM: 59.5\n"
     ]
    },
    {
     "name": "stderr",
     "output_type": "stream",
     "text": [
      "Batch 131:  34%|███▍      | 132/384 [20:02<17:16,  4.11s/batch]"
     ]
    },
    {
     "name": "stdout",
     "output_type": "stream",
     "text": [
      "CUDA: 318632960\n",
      "RAM: 59.5\n"
     ]
    },
    {
     "name": "stderr",
     "output_type": "stream",
     "text": [
      "Batch 132:  35%|███▍      | 133/384 [20:06<17:41,  4.23s/batch]"
     ]
    },
    {
     "name": "stdout",
     "output_type": "stream",
     "text": [
      "CUDA: 318632960\n",
      "RAM: 59.5\n"
     ]
    },
    {
     "name": "stderr",
     "output_type": "stream",
     "text": [
      "Batch 133:  35%|███▍      | 134/384 [20:10<17:13,  4.13s/batch]"
     ]
    },
    {
     "name": "stdout",
     "output_type": "stream",
     "text": [
      "CUDA: 318632960\n",
      "RAM: 59.5\n"
     ]
    },
    {
     "name": "stderr",
     "output_type": "stream",
     "text": [
      "Batch 134:  35%|███▌      | 135/384 [20:14<17:10,  4.14s/batch]"
     ]
    },
    {
     "name": "stdout",
     "output_type": "stream",
     "text": [
      "CUDA: 318632960\n",
      "RAM: 59.5\n"
     ]
    },
    {
     "name": "stderr",
     "output_type": "stream",
     "text": [
      "Batch 135:  35%|███▌      | 136/384 [20:18<16:33,  4.01s/batch]"
     ]
    },
    {
     "name": "stdout",
     "output_type": "stream",
     "text": [
      "CUDA: 318632960\n",
      "RAM: 59.5\n"
     ]
    },
    {
     "name": "stderr",
     "output_type": "stream",
     "text": [
      "Batch 136:  36%|███▌      | 137/384 [20:22<17:08,  4.16s/batch]"
     ]
    },
    {
     "name": "stdout",
     "output_type": "stream",
     "text": [
      "CUDA: 318632960\n",
      "RAM: 59.5\n"
     ]
    },
    {
     "name": "stderr",
     "output_type": "stream",
     "text": [
      "Batch 137:  36%|███▌      | 138/384 [20:26<16:37,  4.05s/batch]"
     ]
    },
    {
     "name": "stdout",
     "output_type": "stream",
     "text": [
      "CUDA: 318632960\n",
      "RAM: 59.5\n"
     ]
    },
    {
     "name": "stderr",
     "output_type": "stream",
     "text": [
      "Batch 138:  36%|███▌      | 139/384 [20:30<16:36,  4.07s/batch]"
     ]
    },
    {
     "name": "stdout",
     "output_type": "stream",
     "text": [
      "CUDA: 318632960\n",
      "RAM: 59.5\n"
     ]
    },
    {
     "name": "stderr",
     "output_type": "stream",
     "text": [
      "Batch 139:  36%|███▋      | 140/384 [20:34<16:03,  3.95s/batch]"
     ]
    },
    {
     "name": "stdout",
     "output_type": "stream",
     "text": [
      "CUDA: 318632960\n",
      "RAM: 59.5\n"
     ]
    },
    {
     "name": "stderr",
     "output_type": "stream",
     "text": [
      "Batch 140:  37%|███▋      | 141/384 [20:38<15:56,  3.94s/batch]"
     ]
    },
    {
     "name": "stdout",
     "output_type": "stream",
     "text": [
      "CUDA: 318632960\n",
      "RAM: 60.1\n"
     ]
    },
    {
     "name": "stderr",
     "output_type": "stream",
     "text": [
      "Batch 141:  37%|███▋      | 142/384 [20:42<16:35,  4.11s/batch]"
     ]
    },
    {
     "name": "stdout",
     "output_type": "stream",
     "text": [
      "CUDA: 318632960\n",
      "RAM: 59.5\n"
     ]
    },
    {
     "name": "stderr",
     "output_type": "stream",
     "text": [
      "Batch 142:  37%|███▋      | 143/384 [20:47<17:02,  4.24s/batch]"
     ]
    },
    {
     "name": "stdout",
     "output_type": "stream",
     "text": [
      "CUDA: 318632960\n",
      "RAM: 59.5\n"
     ]
    },
    {
     "name": "stderr",
     "output_type": "stream",
     "text": [
      "Batch 143:  38%|███▊      | 144/384 [20:50<15:58,  3.99s/batch]"
     ]
    },
    {
     "name": "stdout",
     "output_type": "stream",
     "text": [
      "CUDA: 318632960\n",
      "RAM: 59.5\n"
     ]
    },
    {
     "name": "stderr",
     "output_type": "stream",
     "text": [
      "Batch 144:  38%|███▊      | 145/384 [20:54<15:33,  3.90s/batch]"
     ]
    },
    {
     "name": "stdout",
     "output_type": "stream",
     "text": [
      "CUDA: 318632960\n",
      "RAM: 59.5\n"
     ]
    },
    {
     "name": "stderr",
     "output_type": "stream",
     "text": [
      "Batch 145:  38%|███▊      | 146/384 [20:58<15:03,  3.80s/batch]"
     ]
    },
    {
     "name": "stdout",
     "output_type": "stream",
     "text": [
      "CUDA: 318632960\n",
      "RAM: 59.5\n"
     ]
    },
    {
     "name": "stderr",
     "output_type": "stream",
     "text": [
      "Batch 146:  38%|███▊      | 147/384 [21:02<15:07,  3.83s/batch]"
     ]
    },
    {
     "name": "stdout",
     "output_type": "stream",
     "text": [
      "CUDA: 318632960\n",
      "RAM: 59.5\n"
     ]
    },
    {
     "name": "stderr",
     "output_type": "stream",
     "text": [
      "Batch 147:  39%|███▊      | 148/384 [21:06<15:53,  4.04s/batch]"
     ]
    },
    {
     "name": "stdout",
     "output_type": "stream",
     "text": [
      "CUDA: 318632960\n",
      "RAM: 60.1\n"
     ]
    },
    {
     "name": "stderr",
     "output_type": "stream",
     "text": [
      "Batch 148:  39%|███▉      | 149/384 [21:10<15:25,  3.94s/batch]"
     ]
    },
    {
     "name": "stdout",
     "output_type": "stream",
     "text": [
      "CUDA: 318632960\n",
      "RAM: 59.5\n"
     ]
    },
    {
     "name": "stderr",
     "output_type": "stream",
     "text": [
      "Batch 149:  39%|███▉      | 150/384 [21:14<15:26,  3.96s/batch]"
     ]
    },
    {
     "name": "stdout",
     "output_type": "stream",
     "text": [
      "CUDA: 318632960\n",
      "RAM: 59.5\n"
     ]
    },
    {
     "name": "stderr",
     "output_type": "stream",
     "text": [
      "Batch 150:  39%|███▉      | 151/384 [21:18<15:52,  4.09s/batch]"
     ]
    },
    {
     "name": "stdout",
     "output_type": "stream",
     "text": [
      "CUDA: 318632960\n",
      "RAM: 59.5\n"
     ]
    },
    {
     "name": "stderr",
     "output_type": "stream",
     "text": [
      "Batch 151:  40%|███▉      | 152/384 [21:23<16:25,  4.25s/batch]"
     ]
    },
    {
     "name": "stdout",
     "output_type": "stream",
     "text": [
      "CUDA: 318632960\n",
      "RAM: 59.5\n"
     ]
    },
    {
     "name": "stderr",
     "output_type": "stream",
     "text": [
      "Batch 152:  40%|███▉      | 153/384 [21:27<16:07,  4.19s/batch]"
     ]
    },
    {
     "name": "stdout",
     "output_type": "stream",
     "text": [
      "CUDA: 318632960\n",
      "RAM: 60.1\n"
     ]
    },
    {
     "name": "stderr",
     "output_type": "stream",
     "text": [
      "Batch 153:  40%|████      | 154/384 [21:30<15:23,  4.02s/batch]"
     ]
    },
    {
     "name": "stdout",
     "output_type": "stream",
     "text": [
      "CUDA: 318632960\n",
      "RAM: 59.5\n"
     ]
    },
    {
     "name": "stderr",
     "output_type": "stream",
     "text": [
      "Batch 154:  40%|████      | 155/384 [21:35<15:38,  4.10s/batch]"
     ]
    },
    {
     "name": "stdout",
     "output_type": "stream",
     "text": [
      "CUDA: 318632960\n",
      "RAM: 59.5\n"
     ]
    },
    {
     "name": "stderr",
     "output_type": "stream",
     "text": [
      "Batch 155:  41%|████      | 156/384 [21:39<15:21,  4.04s/batch]"
     ]
    },
    {
     "name": "stdout",
     "output_type": "stream",
     "text": [
      "CUDA: 318632960\n",
      "RAM: 59.5\n"
     ]
    },
    {
     "name": "stderr",
     "output_type": "stream",
     "text": [
      "Batch 156:  41%|████      | 157/384 [21:43<15:06,  3.99s/batch]"
     ]
    },
    {
     "name": "stdout",
     "output_type": "stream",
     "text": [
      "CUDA: 318632960\n",
      "RAM: 59.5\n"
     ]
    },
    {
     "name": "stderr",
     "output_type": "stream",
     "text": [
      "Batch 157:  41%|████      | 158/384 [21:46<14:41,  3.90s/batch]"
     ]
    },
    {
     "name": "stdout",
     "output_type": "stream",
     "text": [
      "CUDA: 318632960\n",
      "RAM: 59.5\n"
     ]
    },
    {
     "name": "stderr",
     "output_type": "stream",
     "text": [
      "Batch 158:  41%|████▏     | 159/384 [21:51<15:43,  4.19s/batch]"
     ]
    },
    {
     "name": "stdout",
     "output_type": "stream",
     "text": [
      "CUDA: 318632960\n",
      "RAM: 59.5\n"
     ]
    },
    {
     "name": "stderr",
     "output_type": "stream",
     "text": [
      "Batch 159:  42%|████▏     | 160/384 [21:55<15:20,  4.11s/batch]"
     ]
    },
    {
     "name": "stdout",
     "output_type": "stream",
     "text": [
      "CUDA: 318632960\n",
      "RAM: 60.1\n"
     ]
    },
    {
     "name": "stderr",
     "output_type": "stream",
     "text": [
      "Batch 160:  42%|████▏     | 161/384 [21:59<14:43,  3.96s/batch]"
     ]
    },
    {
     "name": "stdout",
     "output_type": "stream",
     "text": [
      "CUDA: 318632960\n",
      "RAM: 59.5\n"
     ]
    },
    {
     "name": "stderr",
     "output_type": "stream",
     "text": [
      "Batch 161:  42%|████▏     | 162/384 [22:03<15:07,  4.09s/batch]"
     ]
    },
    {
     "name": "stdout",
     "output_type": "stream",
     "text": [
      "CUDA: 318632960\n",
      "RAM: 59.5\n"
     ]
    },
    {
     "name": "stderr",
     "output_type": "stream",
     "text": [
      "Batch 162:  42%|████▏     | 163/384 [22:07<15:05,  4.10s/batch]"
     ]
    },
    {
     "name": "stdout",
     "output_type": "stream",
     "text": [
      "CUDA: 318632960\n",
      "RAM: 60.1\n"
     ]
    },
    {
     "name": "stderr",
     "output_type": "stream",
     "text": [
      "Batch 163:  43%|████▎     | 164/384 [22:11<14:44,  4.02s/batch]"
     ]
    },
    {
     "name": "stdout",
     "output_type": "stream",
     "text": [
      "CUDA: 318632960\n",
      "RAM: 59.5\n"
     ]
    },
    {
     "name": "stderr",
     "output_type": "stream",
     "text": [
      "Batch 164:  43%|████▎     | 165/384 [22:14<14:01,  3.84s/batch]"
     ]
    },
    {
     "name": "stdout",
     "output_type": "stream",
     "text": [
      "CUDA: 318632960\n",
      "RAM: 59.5\n"
     ]
    },
    {
     "name": "stderr",
     "output_type": "stream",
     "text": [
      "Batch 165:  43%|████▎     | 166/384 [22:18<13:25,  3.70s/batch]"
     ]
    },
    {
     "name": "stdout",
     "output_type": "stream",
     "text": [
      "CUDA: 318632960\n",
      "RAM: 60.1\n"
     ]
    },
    {
     "name": "stderr",
     "output_type": "stream",
     "text": [
      "Batch 166:  43%|████▎     | 167/384 [22:22<14:24,  3.98s/batch]"
     ]
    },
    {
     "name": "stdout",
     "output_type": "stream",
     "text": [
      "CUDA: 318632960\n",
      "RAM: 59.5\n"
     ]
    },
    {
     "name": "stderr",
     "output_type": "stream",
     "text": [
      "Batch 167:  44%|████▍     | 168/384 [22:27<14:30,  4.03s/batch]"
     ]
    },
    {
     "name": "stdout",
     "output_type": "stream",
     "text": [
      "CUDA: 318632960\n",
      "RAM: 59.5\n"
     ]
    },
    {
     "name": "stderr",
     "output_type": "stream",
     "text": [
      "Batch 168:  44%|████▍     | 169/384 [22:30<14:19,  4.00s/batch]"
     ]
    },
    {
     "name": "stdout",
     "output_type": "stream",
     "text": [
      "CUDA: 318632960\n",
      "RAM: 60.1\n"
     ]
    },
    {
     "name": "stderr",
     "output_type": "stream",
     "text": [
      "Batch 169:  44%|████▍     | 170/384 [22:35<14:23,  4.04s/batch]"
     ]
    },
    {
     "name": "stdout",
     "output_type": "stream",
     "text": [
      "CUDA: 318632960\n",
      "RAM: 59.5\n"
     ]
    },
    {
     "name": "stderr",
     "output_type": "stream",
     "text": [
      "Batch 170:  45%|████▍     | 171/384 [22:38<13:46,  3.88s/batch]"
     ]
    },
    {
     "name": "stdout",
     "output_type": "stream",
     "text": [
      "CUDA: 318632960\n",
      "RAM: 59.5\n"
     ]
    },
    {
     "name": "stderr",
     "output_type": "stream",
     "text": [
      "Batch 171:  45%|████▍     | 172/384 [22:41<13:02,  3.69s/batch]"
     ]
    },
    {
     "name": "stdout",
     "output_type": "stream",
     "text": [
      "CUDA: 318632960\n",
      "RAM: 60.1\n"
     ]
    },
    {
     "name": "stderr",
     "output_type": "stream",
     "text": [
      "Batch 172:  45%|████▌     | 173/384 [22:46<13:28,  3.83s/batch]"
     ]
    },
    {
     "name": "stdout",
     "output_type": "stream",
     "text": [
      "CUDA: 318632960\n",
      "RAM: 60.1\n"
     ]
    },
    {
     "name": "stderr",
     "output_type": "stream",
     "text": [
      "Batch 173:  45%|████▌     | 174/384 [22:49<13:17,  3.80s/batch]"
     ]
    },
    {
     "name": "stdout",
     "output_type": "stream",
     "text": [
      "CUDA: 318632960\n",
      "RAM: 59.5\n"
     ]
    },
    {
     "name": "stderr",
     "output_type": "stream",
     "text": [
      "Batch 174:  46%|████▌     | 175/384 [22:53<13:30,  3.88s/batch]"
     ]
    },
    {
     "name": "stdout",
     "output_type": "stream",
     "text": [
      "CUDA: 318632960\n",
      "RAM: 59.5\n"
     ]
    },
    {
     "name": "stderr",
     "output_type": "stream",
     "text": [
      "Batch 175:  46%|████▌     | 176/384 [22:57<13:35,  3.92s/batch]"
     ]
    },
    {
     "name": "stdout",
     "output_type": "stream",
     "text": [
      "CUDA: 318632960\n",
      "RAM: 59.5\n"
     ]
    },
    {
     "name": "stderr",
     "output_type": "stream",
     "text": [
      "Batch 176:  46%|████▌     | 177/384 [23:02<13:51,  4.02s/batch]"
     ]
    },
    {
     "name": "stdout",
     "output_type": "stream",
     "text": [
      "CUDA: 318632960\n",
      "RAM: 59.5\n"
     ]
    },
    {
     "name": "stderr",
     "output_type": "stream",
     "text": [
      "Batch 177:  46%|████▋     | 178/384 [23:06<13:50,  4.03s/batch]"
     ]
    },
    {
     "name": "stdout",
     "output_type": "stream",
     "text": [
      "CUDA: 318632960\n",
      "RAM: 59.5\n"
     ]
    },
    {
     "name": "stderr",
     "output_type": "stream",
     "text": [
      "Batch 178:  47%|████▋     | 179/384 [23:10<14:27,  4.23s/batch]"
     ]
    },
    {
     "name": "stdout",
     "output_type": "stream",
     "text": [
      "CUDA: 318632960\n",
      "RAM: 59.5\n"
     ]
    },
    {
     "name": "stderr",
     "output_type": "stream",
     "text": [
      "Batch 179:  47%|████▋     | 180/384 [23:14<14:18,  4.21s/batch]"
     ]
    },
    {
     "name": "stdout",
     "output_type": "stream",
     "text": [
      "CUDA: 318632960\n",
      "RAM: 59.5\n"
     ]
    },
    {
     "name": "stderr",
     "output_type": "stream",
     "text": [
      "Batch 180:  47%|████▋     | 181/384 [23:19<14:10,  4.19s/batch]"
     ]
    },
    {
     "name": "stdout",
     "output_type": "stream",
     "text": [
      "CUDA: 318632960\n",
      "RAM: 59.5\n"
     ]
    },
    {
     "name": "stderr",
     "output_type": "stream",
     "text": [
      "Batch 181:  47%|████▋     | 182/384 [23:22<13:38,  4.05s/batch]"
     ]
    },
    {
     "name": "stdout",
     "output_type": "stream",
     "text": [
      "CUDA: 318632960\n",
      "RAM: 59.5\n"
     ]
    },
    {
     "name": "stderr",
     "output_type": "stream",
     "text": [
      "Batch 182:  48%|████▊     | 183/384 [23:26<13:32,  4.04s/batch]"
     ]
    },
    {
     "name": "stdout",
     "output_type": "stream",
     "text": [
      "CUDA: 318632960\n",
      "RAM: 59.5\n"
     ]
    },
    {
     "name": "stderr",
     "output_type": "stream",
     "text": [
      "Batch 183:  48%|████▊     | 184/384 [23:30<13:24,  4.02s/batch]"
     ]
    },
    {
     "name": "stdout",
     "output_type": "stream",
     "text": [
      "CUDA: 318632960\n",
      "RAM: 59.5\n"
     ]
    },
    {
     "name": "stderr",
     "output_type": "stream",
     "text": [
      "Batch 184:  48%|████▊     | 185/384 [23:34<13:06,  3.95s/batch]"
     ]
    },
    {
     "name": "stdout",
     "output_type": "stream",
     "text": [
      "CUDA: 318632960\n",
      "RAM: 59.5\n"
     ]
    },
    {
     "name": "stderr",
     "output_type": "stream",
     "text": [
      "Batch 185:  48%|████▊     | 186/384 [23:38<12:47,  3.88s/batch]"
     ]
    },
    {
     "name": "stdout",
     "output_type": "stream",
     "text": [
      "CUDA: 318632960\n",
      "RAM: 60.1\n"
     ]
    },
    {
     "name": "stderr",
     "output_type": "stream",
     "text": [
      "Batch 186:  49%|████▊     | 187/384 [23:42<12:40,  3.86s/batch]"
     ]
    },
    {
     "name": "stdout",
     "output_type": "stream",
     "text": [
      "CUDA: 318632960\n",
      "RAM: 60.1\n"
     ]
    },
    {
     "name": "stderr",
     "output_type": "stream",
     "text": [
      "Batch 187:  49%|████▉     | 188/384 [23:46<12:50,  3.93s/batch]"
     ]
    },
    {
     "name": "stdout",
     "output_type": "stream",
     "text": [
      "CUDA: 318632960\n",
      "RAM: 59.5\n"
     ]
    },
    {
     "name": "stderr",
     "output_type": "stream",
     "text": [
      "Batch 188:  49%|████▉     | 189/384 [23:50<12:52,  3.96s/batch]"
     ]
    },
    {
     "name": "stdout",
     "output_type": "stream",
     "text": [
      "CUDA: 318632960\n",
      "RAM: 59.5\n"
     ]
    },
    {
     "name": "stderr",
     "output_type": "stream",
     "text": [
      "Batch 189:  49%|████▉     | 190/384 [23:55<13:35,  4.20s/batch]"
     ]
    },
    {
     "name": "stdout",
     "output_type": "stream",
     "text": [
      "CUDA: 318632960\n",
      "RAM: 59.5\n"
     ]
    },
    {
     "name": "stderr",
     "output_type": "stream",
     "text": [
      "Batch 190:  50%|████▉     | 191/384 [23:59<13:49,  4.30s/batch]"
     ]
    },
    {
     "name": "stdout",
     "output_type": "stream",
     "text": [
      "CUDA: 318632960\n",
      "RAM: 59.5\n"
     ]
    },
    {
     "name": "stderr",
     "output_type": "stream",
     "text": [
      "Batch 191:  50%|█████     | 192/384 [24:03<13:47,  4.31s/batch]"
     ]
    },
    {
     "name": "stdout",
     "output_type": "stream",
     "text": [
      "CUDA: 318632960\n",
      "RAM: 60.1\n"
     ]
    },
    {
     "name": "stderr",
     "output_type": "stream",
     "text": [
      "Batch 192:  50%|█████     | 193/384 [24:08<13:47,  4.33s/batch]"
     ]
    },
    {
     "name": "stdout",
     "output_type": "stream",
     "text": [
      "CUDA: 318632960\n",
      "RAM: 59.5\n"
     ]
    },
    {
     "name": "stderr",
     "output_type": "stream",
     "text": [
      "Batch 193:  51%|█████     | 194/384 [24:12<13:18,  4.20s/batch]"
     ]
    },
    {
     "name": "stdout",
     "output_type": "stream",
     "text": [
      "CUDA: 318632960\n",
      "RAM: 59.5\n"
     ]
    },
    {
     "name": "stderr",
     "output_type": "stream",
     "text": [
      "Batch 194:  51%|█████     | 195/384 [24:16<13:27,  4.27s/batch]"
     ]
    },
    {
     "name": "stdout",
     "output_type": "stream",
     "text": [
      "CUDA: 318632960\n",
      "RAM: 59.5\n"
     ]
    },
    {
     "name": "stderr",
     "output_type": "stream",
     "text": [
      "Batch 195:  51%|█████     | 196/384 [24:20<13:15,  4.23s/batch]"
     ]
    },
    {
     "name": "stdout",
     "output_type": "stream",
     "text": [
      "CUDA: 318632960\n",
      "RAM: 59.5\n"
     ]
    },
    {
     "name": "stderr",
     "output_type": "stream",
     "text": [
      "Batch 196:  51%|█████▏    | 197/384 [24:25<13:38,  4.38s/batch]"
     ]
    },
    {
     "name": "stdout",
     "output_type": "stream",
     "text": [
      "CUDA: 318632960\n",
      "RAM: 59.5\n"
     ]
    },
    {
     "name": "stderr",
     "output_type": "stream",
     "text": [
      "Batch 197:  52%|█████▏    | 198/384 [24:29<13:21,  4.31s/batch]"
     ]
    },
    {
     "name": "stdout",
     "output_type": "stream",
     "text": [
      "CUDA: 318632960\n",
      "RAM: 59.5\n"
     ]
    },
    {
     "name": "stderr",
     "output_type": "stream",
     "text": [
      "Batch 198:  52%|█████▏    | 199/384 [24:33<13:09,  4.27s/batch]"
     ]
    },
    {
     "name": "stdout",
     "output_type": "stream",
     "text": [
      "CUDA: 318632960\n",
      "RAM: 60.1\n"
     ]
    },
    {
     "name": "stderr",
     "output_type": "stream",
     "text": [
      "Batch 199:  52%|█████▏    | 200/384 [24:37<12:55,  4.21s/batch]"
     ]
    },
    {
     "name": "stdout",
     "output_type": "stream",
     "text": [
      "CUDA: 318632960\n",
      "RAM: 59.5\n"
     ]
    },
    {
     "name": "stderr",
     "output_type": "stream",
     "text": [
      "Batch 200:  52%|█████▏    | 201/384 [24:42<13:00,  4.27s/batch]"
     ]
    },
    {
     "name": "stdout",
     "output_type": "stream",
     "text": [
      "CUDA: 318632960\n",
      "RAM: 59.5\n"
     ]
    },
    {
     "name": "stderr",
     "output_type": "stream",
     "text": [
      "Batch 201:  53%|█████▎    | 202/384 [24:46<12:41,  4.18s/batch]"
     ]
    },
    {
     "name": "stdout",
     "output_type": "stream",
     "text": [
      "CUDA: 318632960\n",
      "RAM: 59.5\n"
     ]
    },
    {
     "name": "stderr",
     "output_type": "stream",
     "text": [
      "Batch 202:  53%|█████▎    | 203/384 [24:49<12:11,  4.04s/batch]"
     ]
    },
    {
     "name": "stdout",
     "output_type": "stream",
     "text": [
      "CUDA: 318632960\n",
      "RAM: 59.5\n"
     ]
    },
    {
     "name": "stderr",
     "output_type": "stream",
     "text": [
      "Batch 203:  53%|█████▎    | 204/384 [24:54<12:09,  4.05s/batch]"
     ]
    },
    {
     "name": "stdout",
     "output_type": "stream",
     "text": [
      "CUDA: 318632960\n",
      "RAM: 60.1\n"
     ]
    },
    {
     "name": "stderr",
     "output_type": "stream",
     "text": [
      "Batch 204:  53%|█████▎    | 205/384 [24:58<12:10,  4.08s/batch]"
     ]
    },
    {
     "name": "stdout",
     "output_type": "stream",
     "text": [
      "CUDA: 318632960\n",
      "RAM: 59.5\n"
     ]
    },
    {
     "name": "stderr",
     "output_type": "stream",
     "text": [
      "Batch 205:  54%|█████▎    | 206/384 [25:02<12:28,  4.20s/batch]"
     ]
    },
    {
     "name": "stdout",
     "output_type": "stream",
     "text": [
      "CUDA: 318632960\n",
      "RAM: 59.5\n"
     ]
    },
    {
     "name": "stderr",
     "output_type": "stream",
     "text": [
      "Batch 206:  54%|█████▍    | 207/384 [25:07<12:31,  4.25s/batch]"
     ]
    },
    {
     "name": "stdout",
     "output_type": "stream",
     "text": [
      "CUDA: 318632960\n",
      "RAM: 59.5\n"
     ]
    },
    {
     "name": "stderr",
     "output_type": "stream",
     "text": [
      "Batch 207:  54%|█████▍    | 208/384 [25:11<12:32,  4.28s/batch]"
     ]
    },
    {
     "name": "stdout",
     "output_type": "stream",
     "text": [
      "CUDA: 318632960\n",
      "RAM: 59.5\n"
     ]
    },
    {
     "name": "stderr",
     "output_type": "stream",
     "text": [
      "Batch 208:  54%|█████▍    | 209/384 [25:15<12:18,  4.22s/batch]"
     ]
    },
    {
     "name": "stdout",
     "output_type": "stream",
     "text": [
      "CUDA: 318632960\n",
      "RAM: 59.5\n"
     ]
    },
    {
     "name": "stderr",
     "output_type": "stream",
     "text": [
      "Batch 209:  55%|█████▍    | 210/384 [25:19<11:58,  4.13s/batch]"
     ]
    },
    {
     "name": "stdout",
     "output_type": "stream",
     "text": [
      "CUDA: 318632960\n",
      "RAM: 59.5\n"
     ]
    },
    {
     "name": "stderr",
     "output_type": "stream",
     "text": [
      "Batch 210:  55%|█████▍    | 211/384 [25:24<12:23,  4.30s/batch]"
     ]
    },
    {
     "name": "stdout",
     "output_type": "stream",
     "text": [
      "CUDA: 318632960\n",
      "RAM: 60.1\n"
     ]
    },
    {
     "name": "stderr",
     "output_type": "stream",
     "text": [
      "Batch 211:  55%|█████▌    | 212/384 [25:28<12:09,  4.24s/batch]"
     ]
    },
    {
     "name": "stdout",
     "output_type": "stream",
     "text": [
      "CUDA: 318632960\n",
      "RAM: 59.5\n"
     ]
    },
    {
     "name": "stderr",
     "output_type": "stream",
     "text": [
      "Batch 212:  55%|█████▌    | 213/384 [25:32<12:09,  4.26s/batch]"
     ]
    },
    {
     "name": "stdout",
     "output_type": "stream",
     "text": [
      "CUDA: 318632960\n",
      "RAM: 59.5\n"
     ]
    },
    {
     "name": "stderr",
     "output_type": "stream",
     "text": [
      "Batch 213:  56%|█████▌    | 214/384 [25:36<12:15,  4.32s/batch]"
     ]
    },
    {
     "name": "stdout",
     "output_type": "stream",
     "text": [
      "CUDA: 318632960\n",
      "RAM: 59.5\n"
     ]
    },
    {
     "name": "stderr",
     "output_type": "stream",
     "text": [
      "Batch 214:  56%|█████▌    | 215/384 [25:41<12:17,  4.36s/batch]"
     ]
    },
    {
     "name": "stdout",
     "output_type": "stream",
     "text": [
      "CUDA: 318632960\n",
      "RAM: 59.5\n"
     ]
    },
    {
     "name": "stderr",
     "output_type": "stream",
     "text": [
      "Batch 215:  56%|█████▋    | 216/384 [25:45<12:07,  4.33s/batch]"
     ]
    },
    {
     "name": "stdout",
     "output_type": "stream",
     "text": [
      "CUDA: 318632960\n",
      "RAM: 60.1\n"
     ]
    },
    {
     "name": "stderr",
     "output_type": "stream",
     "text": [
      "Batch 216:  57%|█████▋    | 217/384 [25:49<11:51,  4.26s/batch]"
     ]
    },
    {
     "name": "stdout",
     "output_type": "stream",
     "text": [
      "CUDA: 318632960\n",
      "RAM: 60.1\n"
     ]
    },
    {
     "name": "stderr",
     "output_type": "stream",
     "text": [
      "Batch 217:  57%|█████▋    | 218/384 [25:53<11:37,  4.20s/batch]"
     ]
    },
    {
     "name": "stdout",
     "output_type": "stream",
     "text": [
      "CUDA: 318632960\n",
      "RAM: 59.6\n"
     ]
    },
    {
     "name": "stderr",
     "output_type": "stream",
     "text": [
      "Batch 218:  57%|█████▋    | 219/384 [25:58<11:45,  4.28s/batch]"
     ]
    },
    {
     "name": "stdout",
     "output_type": "stream",
     "text": [
      "CUDA: 318632960\n",
      "RAM: 59.5\n"
     ]
    },
    {
     "name": "stderr",
     "output_type": "stream",
     "text": [
      "Batch 219:  57%|█████▋    | 220/384 [26:02<11:54,  4.36s/batch]"
     ]
    },
    {
     "name": "stdout",
     "output_type": "stream",
     "text": [
      "CUDA: 318632960\n",
      "RAM: 59.5\n"
     ]
    },
    {
     "name": "stderr",
     "output_type": "stream",
     "text": [
      "Batch 220:  58%|█████▊    | 221/384 [26:07<11:50,  4.36s/batch]"
     ]
    },
    {
     "name": "stdout",
     "output_type": "stream",
     "text": [
      "CUDA: 318632960\n",
      "RAM: 59.5\n"
     ]
    },
    {
     "name": "stderr",
     "output_type": "stream",
     "text": [
      "Batch 221:  58%|█████▊    | 222/384 [26:11<11:50,  4.38s/batch]"
     ]
    },
    {
     "name": "stdout",
     "output_type": "stream",
     "text": [
      "CUDA: 318632960\n",
      "RAM: 60.1\n"
     ]
    },
    {
     "name": "stderr",
     "output_type": "stream",
     "text": [
      "Batch 222:  58%|█████▊    | 223/384 [26:15<11:05,  4.13s/batch]"
     ]
    },
    {
     "name": "stdout",
     "output_type": "stream",
     "text": [
      "CUDA: 318632960\n",
      "RAM: 60.1\n"
     ]
    },
    {
     "name": "stderr",
     "output_type": "stream",
     "text": [
      "Batch 223:  58%|█████▊    | 224/384 [26:19<10:59,  4.12s/batch]"
     ]
    },
    {
     "name": "stdout",
     "output_type": "stream",
     "text": [
      "CUDA: 318632960\n",
      "RAM: 60.1\n"
     ]
    },
    {
     "name": "stderr",
     "output_type": "stream",
     "text": [
      "Batch 224:  59%|█████▊    | 225/384 [26:23<10:58,  4.14s/batch]"
     ]
    },
    {
     "name": "stdout",
     "output_type": "stream",
     "text": [
      "CUDA: 318632960\n",
      "RAM: 60.1\n"
     ]
    },
    {
     "name": "stderr",
     "output_type": "stream",
     "text": [
      "Batch 225:  59%|█████▉    | 226/384 [26:27<10:34,  4.02s/batch]"
     ]
    },
    {
     "name": "stdout",
     "output_type": "stream",
     "text": [
      "CUDA: 318632960\n",
      "RAM: 59.5\n"
     ]
    },
    {
     "name": "stderr",
     "output_type": "stream",
     "text": [
      "Batch 226:  59%|█████▉    | 227/384 [26:31<10:32,  4.03s/batch]"
     ]
    },
    {
     "name": "stdout",
     "output_type": "stream",
     "text": [
      "CUDA: 318632960\n",
      "RAM: 59.5\n"
     ]
    },
    {
     "name": "stderr",
     "output_type": "stream",
     "text": [
      "Batch 227:  59%|█████▉    | 228/384 [26:35<10:17,  3.96s/batch]"
     ]
    },
    {
     "name": "stdout",
     "output_type": "stream",
     "text": [
      "CUDA: 318632960\n",
      "RAM: 60.1\n"
     ]
    },
    {
     "name": "stderr",
     "output_type": "stream",
     "text": [
      "Batch 228:  60%|█████▉    | 229/384 [26:39<10:12,  3.95s/batch]"
     ]
    },
    {
     "name": "stdout",
     "output_type": "stream",
     "text": [
      "CUDA: 318632960\n",
      "RAM: 60.1\n"
     ]
    },
    {
     "name": "stderr",
     "output_type": "stream",
     "text": [
      "Batch 229:  60%|█████▉    | 230/384 [26:43<10:14,  3.99s/batch]"
     ]
    },
    {
     "name": "stdout",
     "output_type": "stream",
     "text": [
      "CUDA: 318632960\n",
      "RAM: 60.1\n"
     ]
    },
    {
     "name": "stderr",
     "output_type": "stream",
     "text": [
      "Batch 230:  60%|██████    | 231/384 [26:46<10:03,  3.94s/batch]"
     ]
    },
    {
     "name": "stdout",
     "output_type": "stream",
     "text": [
      "CUDA: 318632960\n",
      "RAM: 59.5\n"
     ]
    },
    {
     "name": "stderr",
     "output_type": "stream",
     "text": [
      "Batch 231:  60%|██████    | 232/384 [26:50<09:55,  3.92s/batch]"
     ]
    },
    {
     "name": "stdout",
     "output_type": "stream",
     "text": [
      "CUDA: 318632960\n",
      "RAM: 59.5\n"
     ]
    },
    {
     "name": "stderr",
     "output_type": "stream",
     "text": [
      "Batch 232:  61%|██████    | 233/384 [26:54<09:48,  3.90s/batch]"
     ]
    },
    {
     "name": "stdout",
     "output_type": "stream",
     "text": [
      "CUDA: 318632960\n",
      "RAM: 59.5\n"
     ]
    },
    {
     "name": "stderr",
     "output_type": "stream",
     "text": [
      "Batch 233:  61%|██████    | 234/384 [26:58<09:48,  3.92s/batch]"
     ]
    },
    {
     "name": "stdout",
     "output_type": "stream",
     "text": [
      "CUDA: 318632960\n",
      "RAM: 59.5\n"
     ]
    },
    {
     "name": "stderr",
     "output_type": "stream",
     "text": [
      "Batch 234:  61%|██████    | 235/384 [27:02<10:00,  4.03s/batch]"
     ]
    },
    {
     "name": "stdout",
     "output_type": "stream",
     "text": [
      "CUDA: 318632960\n",
      "RAM: 59.5\n"
     ]
    },
    {
     "name": "stderr",
     "output_type": "stream",
     "text": [
      "Batch 235:  61%|██████▏   | 236/384 [27:07<10:07,  4.10s/batch]"
     ]
    },
    {
     "name": "stdout",
     "output_type": "stream",
     "text": [
      "CUDA: 318632960\n",
      "RAM: 59.5\n"
     ]
    },
    {
     "name": "stderr",
     "output_type": "stream",
     "text": [
      "Batch 236:  62%|██████▏   | 237/384 [27:11<10:03,  4.10s/batch]"
     ]
    },
    {
     "name": "stdout",
     "output_type": "stream",
     "text": [
      "CUDA: 318632960\n",
      "RAM: 60.1\n"
     ]
    },
    {
     "name": "stderr",
     "output_type": "stream",
     "text": [
      "Batch 237:  62%|██████▏   | 238/384 [27:15<09:58,  4.10s/batch]"
     ]
    },
    {
     "name": "stdout",
     "output_type": "stream",
     "text": [
      "CUDA: 318632960\n",
      "RAM: 60.1\n"
     ]
    },
    {
     "name": "stderr",
     "output_type": "stream",
     "text": [
      "Batch 238:  62%|██████▏   | 239/384 [27:19<10:11,  4.22s/batch]"
     ]
    },
    {
     "name": "stdout",
     "output_type": "stream",
     "text": [
      "CUDA: 318632960\n",
      "RAM: 59.5\n"
     ]
    },
    {
     "name": "stderr",
     "output_type": "stream",
     "text": [
      "Batch 239:  62%|██████▎   | 240/384 [27:23<09:59,  4.16s/batch]"
     ]
    },
    {
     "name": "stdout",
     "output_type": "stream",
     "text": [
      "CUDA: 318632960\n",
      "RAM: 59.5\n"
     ]
    },
    {
     "name": "stderr",
     "output_type": "stream",
     "text": [
      "Batch 240:  63%|██████▎   | 241/384 [27:28<09:54,  4.16s/batch]"
     ]
    },
    {
     "name": "stdout",
     "output_type": "stream",
     "text": [
      "CUDA: 318632960\n",
      "RAM: 60.1\n"
     ]
    },
    {
     "name": "stderr",
     "output_type": "stream",
     "text": [
      "Batch 241:  63%|██████▎   | 242/384 [27:32<09:49,  4.15s/batch]"
     ]
    },
    {
     "name": "stdout",
     "output_type": "stream",
     "text": [
      "CUDA: 318632960\n",
      "RAM: 60.1\n"
     ]
    },
    {
     "name": "stderr",
     "output_type": "stream",
     "text": [
      "Batch 242:  63%|██████▎   | 243/384 [27:36<09:32,  4.06s/batch]"
     ]
    },
    {
     "name": "stdout",
     "output_type": "stream",
     "text": [
      "CUDA: 318632960\n",
      "RAM: 60.1\n"
     ]
    },
    {
     "name": "stderr",
     "output_type": "stream",
     "text": [
      "Batch 243:  64%|██████▎   | 244/384 [27:39<09:08,  3.92s/batch]"
     ]
    },
    {
     "name": "stdout",
     "output_type": "stream",
     "text": [
      "CUDA: 318632960\n",
      "RAM: 59.5\n"
     ]
    },
    {
     "name": "stderr",
     "output_type": "stream",
     "text": [
      "Batch 244:  64%|██████▍   | 245/384 [27:44<09:28,  4.09s/batch]"
     ]
    },
    {
     "name": "stdout",
     "output_type": "stream",
     "text": [
      "CUDA: 318632960\n",
      "RAM: 59.5\n"
     ]
    },
    {
     "name": "stderr",
     "output_type": "stream",
     "text": [
      "Batch 245:  64%|██████▍   | 246/384 [27:47<09:09,  3.98s/batch]"
     ]
    },
    {
     "name": "stdout",
     "output_type": "stream",
     "text": [
      "CUDA: 318632960\n",
      "RAM: 60.1\n"
     ]
    },
    {
     "name": "stderr",
     "output_type": "stream",
     "text": [
      "Batch 246:  64%|██████▍   | 247/384 [27:51<08:43,  3.82s/batch]"
     ]
    },
    {
     "name": "stdout",
     "output_type": "stream",
     "text": [
      "CUDA: 318632960\n",
      "RAM: 60.1\n"
     ]
    },
    {
     "name": "stderr",
     "output_type": "stream",
     "text": [
      "Batch 247:  65%|██████▍   | 248/384 [27:55<09:11,  4.05s/batch]"
     ]
    },
    {
     "name": "stdout",
     "output_type": "stream",
     "text": [
      "CUDA: 318632960\n",
      "RAM: 60.1\n"
     ]
    },
    {
     "name": "stderr",
     "output_type": "stream",
     "text": [
      "Batch 248:  65%|██████▍   | 249/384 [27:59<09:07,  4.05s/batch]"
     ]
    },
    {
     "name": "stdout",
     "output_type": "stream",
     "text": [
      "CUDA: 318632960\n",
      "RAM: 59.5\n"
     ]
    },
    {
     "name": "stderr",
     "output_type": "stream",
     "text": [
      "Batch 249:  65%|██████▌   | 250/384 [28:03<08:37,  3.86s/batch]"
     ]
    },
    {
     "name": "stdout",
     "output_type": "stream",
     "text": [
      "CUDA: 318632960\n",
      "RAM: 60.1\n"
     ]
    },
    {
     "name": "stderr",
     "output_type": "stream",
     "text": [
      "Batch 250:  65%|██████▌   | 251/384 [28:07<08:39,  3.91s/batch]"
     ]
    },
    {
     "name": "stdout",
     "output_type": "stream",
     "text": [
      "CUDA: 318632960\n",
      "RAM: 60.1\n"
     ]
    },
    {
     "name": "stderr",
     "output_type": "stream",
     "text": [
      "Batch 251:  66%|██████▌   | 252/384 [28:11<08:43,  3.96s/batch]"
     ]
    },
    {
     "name": "stdout",
     "output_type": "stream",
     "text": [
      "CUDA: 318632960\n",
      "RAM: 59.5\n"
     ]
    },
    {
     "name": "stderr",
     "output_type": "stream",
     "text": [
      "Batch 252:  66%|██████▌   | 253/384 [28:16<09:09,  4.20s/batch]"
     ]
    },
    {
     "name": "stdout",
     "output_type": "stream",
     "text": [
      "CUDA: 318632960\n",
      "RAM: 59.5\n"
     ]
    },
    {
     "name": "stderr",
     "output_type": "stream",
     "text": [
      "Batch 253:  66%|██████▌   | 254/384 [28:20<09:16,  4.28s/batch]"
     ]
    },
    {
     "name": "stdout",
     "output_type": "stream",
     "text": [
      "CUDA: 318632960\n",
      "RAM: 59.5\n"
     ]
    },
    {
     "name": "stderr",
     "output_type": "stream",
     "text": [
      "Batch 254:  66%|██████▋   | 255/384 [28:24<09:10,  4.27s/batch]"
     ]
    },
    {
     "name": "stdout",
     "output_type": "stream",
     "text": [
      "CUDA: 318632960\n",
      "RAM: 59.5\n"
     ]
    },
    {
     "name": "stderr",
     "output_type": "stream",
     "text": [
      "Batch 255:  67%|██████▋   | 256/384 [28:28<08:47,  4.12s/batch]"
     ]
    },
    {
     "name": "stdout",
     "output_type": "stream",
     "text": [
      "CUDA: 318632960\n",
      "RAM: 59.5\n"
     ]
    },
    {
     "name": "stderr",
     "output_type": "stream",
     "text": [
      "Batch 256:  67%|██████▋   | 257/384 [28:32<08:43,  4.12s/batch]"
     ]
    },
    {
     "name": "stdout",
     "output_type": "stream",
     "text": [
      "CUDA: 318632960\n",
      "RAM: 59.5\n"
     ]
    },
    {
     "name": "stderr",
     "output_type": "stream",
     "text": [
      "Batch 257:  67%|██████▋   | 258/384 [28:36<08:38,  4.12s/batch]"
     ]
    },
    {
     "name": "stdout",
     "output_type": "stream",
     "text": [
      "CUDA: 318632960\n",
      "RAM: 60.1\n"
     ]
    },
    {
     "name": "stderr",
     "output_type": "stream",
     "text": [
      "Batch 258:  67%|██████▋   | 259/384 [28:42<09:17,  4.46s/batch]"
     ]
    },
    {
     "name": "stdout",
     "output_type": "stream",
     "text": [
      "CUDA: 318632960\n",
      "RAM: 59.5\n"
     ]
    },
    {
     "name": "stderr",
     "output_type": "stream",
     "text": [
      "Batch 259:  68%|██████▊   | 260/384 [28:46<08:49,  4.27s/batch]"
     ]
    },
    {
     "name": "stdout",
     "output_type": "stream",
     "text": [
      "CUDA: 318632960\n",
      "RAM: 59.5\n"
     ]
    },
    {
     "name": "stderr",
     "output_type": "stream",
     "text": [
      "Batch 260:  68%|██████▊   | 261/384 [28:51<09:11,  4.48s/batch]"
     ]
    },
    {
     "name": "stdout",
     "output_type": "stream",
     "text": [
      "CUDA: 318632960\n",
      "RAM: 59.5\n"
     ]
    },
    {
     "name": "stderr",
     "output_type": "stream",
     "text": [
      "Batch 261:  68%|██████▊   | 262/384 [28:55<09:08,  4.50s/batch]"
     ]
    },
    {
     "name": "stdout",
     "output_type": "stream",
     "text": [
      "CUDA: 318632960\n",
      "RAM: 59.5\n"
     ]
    },
    {
     "name": "stderr",
     "output_type": "stream",
     "text": [
      "Batch 262:  68%|██████▊   | 263/384 [28:59<08:47,  4.36s/batch]"
     ]
    },
    {
     "name": "stdout",
     "output_type": "stream",
     "text": [
      "CUDA: 318632960\n",
      "RAM: 59.5\n"
     ]
    },
    {
     "name": "stderr",
     "output_type": "stream",
     "text": [
      "Batch 263:  69%|██████▉   | 264/384 [29:03<08:27,  4.23s/batch]"
     ]
    },
    {
     "name": "stdout",
     "output_type": "stream",
     "text": [
      "CUDA: 318632960\n",
      "RAM: 59.5\n"
     ]
    },
    {
     "name": "stderr",
     "output_type": "stream",
     "text": [
      "Batch 264:  69%|██████▉   | 265/384 [29:07<08:26,  4.25s/batch]"
     ]
    },
    {
     "name": "stdout",
     "output_type": "stream",
     "text": [
      "CUDA: 318632960\n",
      "RAM: 60.1\n"
     ]
    },
    {
     "name": "stderr",
     "output_type": "stream",
     "text": [
      "Batch 265:  69%|██████▉   | 266/384 [29:12<08:20,  4.24s/batch]"
     ]
    },
    {
     "name": "stdout",
     "output_type": "stream",
     "text": [
      "CUDA: 318632960\n",
      "RAM: 59.5\n"
     ]
    },
    {
     "name": "stderr",
     "output_type": "stream",
     "text": [
      "Batch 266:  70%|██████▉   | 267/384 [29:15<07:34,  3.88s/batch]"
     ]
    },
    {
     "name": "stdout",
     "output_type": "stream",
     "text": [
      "CUDA: 318632960\n",
      "RAM: 59.5\n"
     ]
    },
    {
     "name": "stderr",
     "output_type": "stream",
     "text": [
      "Batch 267:  70%|██████▉   | 268/384 [29:18<07:28,  3.87s/batch]"
     ]
    },
    {
     "name": "stdout",
     "output_type": "stream",
     "text": [
      "CUDA: 318632960\n",
      "RAM: 60.1\n"
     ]
    },
    {
     "name": "stderr",
     "output_type": "stream",
     "text": [
      "Batch 268:  70%|███████   | 269/384 [29:22<07:27,  3.89s/batch]"
     ]
    },
    {
     "name": "stdout",
     "output_type": "stream",
     "text": [
      "CUDA: 318632960\n",
      "RAM: 59.5\n"
     ]
    },
    {
     "name": "stderr",
     "output_type": "stream",
     "text": [
      "Batch 269:  70%|███████   | 270/384 [29:27<07:43,  4.07s/batch]"
     ]
    },
    {
     "name": "stdout",
     "output_type": "stream",
     "text": [
      "CUDA: 318632960\n",
      "RAM: 59.5\n"
     ]
    },
    {
     "name": "stderr",
     "output_type": "stream",
     "text": [
      "Batch 270:  71%|███████   | 271/384 [29:31<07:53,  4.19s/batch]"
     ]
    },
    {
     "name": "stdout",
     "output_type": "stream",
     "text": [
      "CUDA: 318632960\n",
      "RAM: 59.5\n"
     ]
    },
    {
     "name": "stderr",
     "output_type": "stream",
     "text": [
      "Batch 271:  71%|███████   | 272/384 [29:35<07:48,  4.18s/batch]"
     ]
    },
    {
     "name": "stdout",
     "output_type": "stream",
     "text": [
      "CUDA: 318632960\n",
      "RAM: 59.5\n"
     ]
    },
    {
     "name": "stderr",
     "output_type": "stream",
     "text": [
      "Batch 272:  71%|███████   | 273/384 [29:40<07:44,  4.18s/batch]"
     ]
    },
    {
     "name": "stdout",
     "output_type": "stream",
     "text": [
      "CUDA: 318632960\n",
      "RAM: 60.1\n"
     ]
    },
    {
     "name": "stderr",
     "output_type": "stream",
     "text": [
      "Batch 273:  71%|███████▏  | 274/384 [29:43<07:23,  4.03s/batch]"
     ]
    },
    {
     "name": "stdout",
     "output_type": "stream",
     "text": [
      "CUDA: 318632960\n",
      "RAM: 60.1\n"
     ]
    },
    {
     "name": "stderr",
     "output_type": "stream",
     "text": [
      "Batch 274:  72%|███████▏  | 275/384 [29:47<07:06,  3.91s/batch]"
     ]
    },
    {
     "name": "stdout",
     "output_type": "stream",
     "text": [
      "CUDA: 318632960\n",
      "RAM: 60.1\n"
     ]
    },
    {
     "name": "stderr",
     "output_type": "stream",
     "text": [
      "Batch 275:  72%|███████▏  | 276/384 [29:51<07:06,  3.95s/batch]"
     ]
    },
    {
     "name": "stdout",
     "output_type": "stream",
     "text": [
      "CUDA: 318632960\n",
      "RAM: 59.5\n"
     ]
    },
    {
     "name": "stderr",
     "output_type": "stream",
     "text": [
      "Batch 276:  72%|███████▏  | 277/384 [29:55<07:05,  3.97s/batch]"
     ]
    },
    {
     "name": "stdout",
     "output_type": "stream",
     "text": [
      "CUDA: 318632960\n",
      "RAM: 60.1\n"
     ]
    },
    {
     "name": "stderr",
     "output_type": "stream",
     "text": [
      "Batch 277:  72%|███████▏  | 278/384 [29:59<07:15,  4.11s/batch]"
     ]
    },
    {
     "name": "stdout",
     "output_type": "stream",
     "text": [
      "CUDA: 318632960\n",
      "RAM: 59.5\n"
     ]
    },
    {
     "name": "stderr",
     "output_type": "stream",
     "text": [
      "Batch 278:  73%|███████▎  | 279/384 [30:04<07:22,  4.22s/batch]"
     ]
    },
    {
     "name": "stdout",
     "output_type": "stream",
     "text": [
      "CUDA: 318632960\n",
      "RAM: 59.5\n"
     ]
    },
    {
     "name": "stderr",
     "output_type": "stream",
     "text": [
      "Batch 279:  73%|███████▎  | 280/384 [30:09<07:31,  4.35s/batch]"
     ]
    },
    {
     "name": "stdout",
     "output_type": "stream",
     "text": [
      "CUDA: 318632960\n",
      "RAM: 59.5\n"
     ]
    },
    {
     "name": "stderr",
     "output_type": "stream",
     "text": [
      "Batch 280:  73%|███████▎  | 281/384 [30:13<07:21,  4.29s/batch]"
     ]
    },
    {
     "name": "stdout",
     "output_type": "stream",
     "text": [
      "CUDA: 318632960\n",
      "RAM: 59.5\n"
     ]
    },
    {
     "name": "stderr",
     "output_type": "stream",
     "text": [
      "Batch 281:  73%|███████▎  | 282/384 [30:16<06:58,  4.10s/batch]"
     ]
    },
    {
     "name": "stdout",
     "output_type": "stream",
     "text": [
      "CUDA: 318632960\n",
      "RAM: 59.5\n"
     ]
    },
    {
     "name": "stderr",
     "output_type": "stream",
     "text": [
      "Batch 282:  74%|███████▎  | 283/384 [30:20<06:53,  4.09s/batch]"
     ]
    },
    {
     "name": "stdout",
     "output_type": "stream",
     "text": [
      "CUDA: 318632960\n",
      "RAM: 59.5\n"
     ]
    },
    {
     "name": "stderr",
     "output_type": "stream",
     "text": [
      "Batch 283:  74%|███████▍  | 284/384 [30:25<07:09,  4.29s/batch]"
     ]
    },
    {
     "name": "stdout",
     "output_type": "stream",
     "text": [
      "CUDA: 318632960\n",
      "RAM: 59.5\n"
     ]
    },
    {
     "name": "stderr",
     "output_type": "stream",
     "text": [
      "Batch 284:  74%|███████▍  | 285/384 [30:29<06:40,  4.04s/batch]"
     ]
    },
    {
     "name": "stdout",
     "output_type": "stream",
     "text": [
      "CUDA: 318632960\n",
      "RAM: 59.5\n"
     ]
    },
    {
     "name": "stderr",
     "output_type": "stream",
     "text": [
      "Batch 285:  74%|███████▍  | 286/384 [30:32<06:26,  3.94s/batch]"
     ]
    },
    {
     "name": "stdout",
     "output_type": "stream",
     "text": [
      "CUDA: 318632960\n",
      "RAM: 59.5\n"
     ]
    },
    {
     "name": "stderr",
     "output_type": "stream",
     "text": [
      "Batch 286:  75%|███████▍  | 287/384 [30:36<06:13,  3.86s/batch]"
     ]
    },
    {
     "name": "stdout",
     "output_type": "stream",
     "text": [
      "CUDA: 318632960\n",
      "RAM: 59.5\n"
     ]
    },
    {
     "name": "stderr",
     "output_type": "stream",
     "text": [
      "Batch 287:  75%|███████▌  | 288/384 [30:41<06:28,  4.05s/batch]"
     ]
    },
    {
     "name": "stdout",
     "output_type": "stream",
     "text": [
      "CUDA: 318632960\n",
      "RAM: 59.5\n"
     ]
    },
    {
     "name": "stderr",
     "output_type": "stream",
     "text": [
      "Batch 288:  75%|███████▌  | 289/384 [30:45<06:50,  4.32s/batch]"
     ]
    },
    {
     "name": "stdout",
     "output_type": "stream",
     "text": [
      "CUDA: 318632960\n",
      "RAM: 59.5\n"
     ]
    },
    {
     "name": "stderr",
     "output_type": "stream",
     "text": [
      "Batch 289:  76%|███████▌  | 290/384 [30:49<06:36,  4.22s/batch]"
     ]
    },
    {
     "name": "stdout",
     "output_type": "stream",
     "text": [
      "CUDA: 318632960\n",
      "RAM: 59.5\n"
     ]
    },
    {
     "name": "stderr",
     "output_type": "stream",
     "text": [
      "Batch 290:  76%|███████▌  | 291/384 [30:54<06:29,  4.19s/batch]"
     ]
    },
    {
     "name": "stdout",
     "output_type": "stream",
     "text": [
      "CUDA: 318632960\n",
      "RAM: 59.5\n"
     ]
    },
    {
     "name": "stderr",
     "output_type": "stream",
     "text": [
      "Batch 291:  76%|███████▌  | 292/384 [30:57<06:14,  4.08s/batch]"
     ]
    },
    {
     "name": "stdout",
     "output_type": "stream",
     "text": [
      "CUDA: 318632960\n",
      "RAM: 60.1\n"
     ]
    },
    {
     "name": "stderr",
     "output_type": "stream",
     "text": [
      "Batch 292:  76%|███████▋  | 293/384 [31:01<06:02,  3.99s/batch]"
     ]
    },
    {
     "name": "stdout",
     "output_type": "stream",
     "text": [
      "CUDA: 318632960\n",
      "RAM: 60.1\n"
     ]
    },
    {
     "name": "stderr",
     "output_type": "stream",
     "text": [
      "Batch 293:  77%|███████▋  | 294/384 [31:05<05:41,  3.79s/batch]"
     ]
    },
    {
     "name": "stdout",
     "output_type": "stream",
     "text": [
      "CUDA: 318632960\n",
      "RAM: 59.5\n"
     ]
    },
    {
     "name": "stderr",
     "output_type": "stream",
     "text": [
      "Batch 294:  77%|███████▋  | 295/384 [31:09<05:48,  3.91s/batch]"
     ]
    },
    {
     "name": "stdout",
     "output_type": "stream",
     "text": [
      "CUDA: 318632960\n",
      "RAM: 59.5\n"
     ]
    },
    {
     "name": "stderr",
     "output_type": "stream",
     "text": [
      "Batch 295:  77%|███████▋  | 296/384 [31:13<06:03,  4.13s/batch]"
     ]
    },
    {
     "name": "stdout",
     "output_type": "stream",
     "text": [
      "CUDA: 318632960\n",
      "RAM: 59.5\n"
     ]
    },
    {
     "name": "stderr",
     "output_type": "stream",
     "text": [
      "Batch 296:  77%|███████▋  | 297/384 [31:18<06:05,  4.20s/batch]"
     ]
    },
    {
     "name": "stdout",
     "output_type": "stream",
     "text": [
      "CUDA: 318632960\n",
      "RAM: 59.5\n"
     ]
    },
    {
     "name": "stderr",
     "output_type": "stream",
     "text": [
      "Batch 297:  78%|███████▊  | 298/384 [31:22<05:58,  4.16s/batch]"
     ]
    },
    {
     "name": "stdout",
     "output_type": "stream",
     "text": [
      "CUDA: 318632960\n",
      "RAM: 59.5\n"
     ]
    },
    {
     "name": "stderr",
     "output_type": "stream",
     "text": [
      "Batch 298:  78%|███████▊  | 299/384 [31:26<05:57,  4.20s/batch]"
     ]
    },
    {
     "name": "stdout",
     "output_type": "stream",
     "text": [
      "CUDA: 318632960\n",
      "RAM: 59.5\n"
     ]
    },
    {
     "name": "stderr",
     "output_type": "stream",
     "text": [
      "Batch 299:  78%|███████▊  | 300/384 [31:30<05:55,  4.23s/batch]"
     ]
    },
    {
     "name": "stdout",
     "output_type": "stream",
     "text": [
      "CUDA: 318632960\n",
      "RAM: 59.5\n"
     ]
    },
    {
     "name": "stderr",
     "output_type": "stream",
     "text": [
      "Batch 300:  78%|███████▊  | 301/384 [31:34<05:46,  4.17s/batch]"
     ]
    },
    {
     "name": "stdout",
     "output_type": "stream",
     "text": [
      "CUDA: 318632960\n",
      "RAM: 59.5\n"
     ]
    },
    {
     "name": "stderr",
     "output_type": "stream",
     "text": [
      "Batch 301:  79%|███████▊  | 302/384 [31:39<05:49,  4.27s/batch]"
     ]
    },
    {
     "name": "stdout",
     "output_type": "stream",
     "text": [
      "CUDA: 318632960\n",
      "RAM: 59.5\n"
     ]
    },
    {
     "name": "stderr",
     "output_type": "stream",
     "text": [
      "Batch 302:  79%|███████▉  | 303/384 [31:43<05:41,  4.21s/batch]"
     ]
    },
    {
     "name": "stdout",
     "output_type": "stream",
     "text": [
      "CUDA: 318632960\n",
      "RAM: 59.5\n"
     ]
    },
    {
     "name": "stderr",
     "output_type": "stream",
     "text": [
      "Batch 303:  79%|███████▉  | 304/384 [31:47<05:39,  4.24s/batch]"
     ]
    },
    {
     "name": "stdout",
     "output_type": "stream",
     "text": [
      "CUDA: 318632960\n",
      "RAM: 59.5\n"
     ]
    },
    {
     "name": "stderr",
     "output_type": "stream",
     "text": [
      "Batch 304:  79%|███████▉  | 305/384 [31:52<05:36,  4.26s/batch]"
     ]
    },
    {
     "name": "stdout",
     "output_type": "stream",
     "text": [
      "CUDA: 318632960\n",
      "RAM: 59.5\n"
     ]
    },
    {
     "name": "stderr",
     "output_type": "stream",
     "text": [
      "Batch 305:  80%|███████▉  | 306/384 [31:56<05:29,  4.23s/batch]"
     ]
    },
    {
     "name": "stdout",
     "output_type": "stream",
     "text": [
      "CUDA: 318632960\n",
      "RAM: 59.5\n"
     ]
    },
    {
     "name": "stderr",
     "output_type": "stream",
     "text": [
      "Batch 306:  80%|███████▉  | 307/384 [32:00<05:20,  4.17s/batch]"
     ]
    },
    {
     "name": "stdout",
     "output_type": "stream",
     "text": [
      "CUDA: 318632960\n",
      "RAM: 59.5\n"
     ]
    },
    {
     "name": "stderr",
     "output_type": "stream",
     "text": [
      "Batch 307:  80%|████████  | 308/384 [32:04<05:10,  4.08s/batch]"
     ]
    },
    {
     "name": "stdout",
     "output_type": "stream",
     "text": [
      "CUDA: 318632960\n",
      "RAM: 59.5\n"
     ]
    },
    {
     "name": "stderr",
     "output_type": "stream",
     "text": [
      "Batch 308:  80%|████████  | 309/384 [32:07<04:58,  3.98s/batch]"
     ]
    },
    {
     "name": "stdout",
     "output_type": "stream",
     "text": [
      "CUDA: 318632960\n",
      "RAM: 59.5\n"
     ]
    },
    {
     "name": "stderr",
     "output_type": "stream",
     "text": [
      "Batch 309:  81%|████████  | 310/384 [32:11<04:49,  3.91s/batch]"
     ]
    },
    {
     "name": "stdout",
     "output_type": "stream",
     "text": [
      "CUDA: 318632960\n",
      "RAM: 59.5\n"
     ]
    },
    {
     "name": "stderr",
     "output_type": "stream",
     "text": [
      "Batch 310:  81%|████████  | 311/384 [32:15<04:42,  3.87s/batch]"
     ]
    },
    {
     "name": "stdout",
     "output_type": "stream",
     "text": [
      "CUDA: 318632960\n",
      "RAM: 59.5\n"
     ]
    },
    {
     "name": "stderr",
     "output_type": "stream",
     "text": [
      "Batch 311:  81%|████████▏ | 312/384 [32:19<04:52,  4.06s/batch]"
     ]
    },
    {
     "name": "stdout",
     "output_type": "stream",
     "text": [
      "CUDA: 318632960\n",
      "RAM: 60.1\n"
     ]
    },
    {
     "name": "stderr",
     "output_type": "stream",
     "text": [
      "Batch 312:  82%|████████▏ | 313/384 [32:24<04:48,  4.06s/batch]"
     ]
    },
    {
     "name": "stdout",
     "output_type": "stream",
     "text": [
      "CUDA: 318632960\n",
      "RAM: 60.1\n"
     ]
    },
    {
     "name": "stderr",
     "output_type": "stream",
     "text": [
      "Batch 313:  82%|████████▏ | 314/384 [32:27<04:41,  4.03s/batch]"
     ]
    },
    {
     "name": "stdout",
     "output_type": "stream",
     "text": [
      "CUDA: 318632960\n",
      "RAM: 59.5\n"
     ]
    },
    {
     "name": "stderr",
     "output_type": "stream",
     "text": [
      "Batch 314:  82%|████████▏ | 315/384 [32:31<04:32,  3.95s/batch]"
     ]
    },
    {
     "name": "stdout",
     "output_type": "stream",
     "text": [
      "CUDA: 318632960\n",
      "RAM: 59.5\n"
     ]
    },
    {
     "name": "stderr",
     "output_type": "stream",
     "text": [
      "Batch 315:  82%|████████▏ | 316/384 [32:35<04:28,  3.95s/batch]"
     ]
    },
    {
     "name": "stdout",
     "output_type": "stream",
     "text": [
      "CUDA: 318632960\n",
      "RAM: 59.5\n"
     ]
    },
    {
     "name": "stderr",
     "output_type": "stream",
     "text": [
      "Batch 316:  83%|████████▎ | 317/384 [32:40<04:33,  4.08s/batch]"
     ]
    },
    {
     "name": "stdout",
     "output_type": "stream",
     "text": [
      "CUDA: 318632960\n",
      "RAM: 59.5\n"
     ]
    },
    {
     "name": "stderr",
     "output_type": "stream",
     "text": [
      "Batch 317:  83%|████████▎ | 318/384 [32:44<04:29,  4.08s/batch]"
     ]
    },
    {
     "name": "stdout",
     "output_type": "stream",
     "text": [
      "CUDA: 318632960\n",
      "RAM: 59.5\n"
     ]
    },
    {
     "name": "stderr",
     "output_type": "stream",
     "text": [
      "Batch 318:  83%|████████▎ | 319/384 [32:48<04:34,  4.22s/batch]"
     ]
    },
    {
     "name": "stdout",
     "output_type": "stream",
     "text": [
      "CUDA: 318632960\n",
      "RAM: 59.5\n"
     ]
    },
    {
     "name": "stderr",
     "output_type": "stream",
     "text": [
      "Batch 319:  83%|████████▎ | 320/384 [32:53<04:34,  4.29s/batch]"
     ]
    },
    {
     "name": "stdout",
     "output_type": "stream",
     "text": [
      "CUDA: 318632960\n",
      "RAM: 60.1\n"
     ]
    },
    {
     "name": "stderr",
     "output_type": "stream",
     "text": [
      "Batch 320:  84%|████████▎ | 321/384 [32:57<04:35,  4.37s/batch]"
     ]
    },
    {
     "name": "stdout",
     "output_type": "stream",
     "text": [
      "CUDA: 318632960\n",
      "RAM: 59.5\n"
     ]
    },
    {
     "name": "stderr",
     "output_type": "stream",
     "text": [
      "Batch 321:  84%|████████▍ | 322/384 [33:01<04:22,  4.23s/batch]"
     ]
    },
    {
     "name": "stdout",
     "output_type": "stream",
     "text": [
      "CUDA: 318632960\n",
      "RAM: 59.5\n"
     ]
    },
    {
     "name": "stderr",
     "output_type": "stream",
     "text": [
      "Batch 322:  84%|████████▍ | 323/384 [33:05<04:19,  4.26s/batch]"
     ]
    },
    {
     "name": "stdout",
     "output_type": "stream",
     "text": [
      "CUDA: 318632960\n",
      "RAM: 60.1\n"
     ]
    },
    {
     "name": "stderr",
     "output_type": "stream",
     "text": [
      "Batch 323:  84%|████████▍ | 324/384 [33:09<04:11,  4.19s/batch]"
     ]
    },
    {
     "name": "stdout",
     "output_type": "stream",
     "text": [
      "CUDA: 318632960\n",
      "RAM: 59.5\n"
     ]
    },
    {
     "name": "stderr",
     "output_type": "stream",
     "text": [
      "Batch 324:  85%|████████▍ | 325/384 [33:13<04:03,  4.14s/batch]"
     ]
    },
    {
     "name": "stdout",
     "output_type": "stream",
     "text": [
      "CUDA: 318632960\n",
      "RAM: 59.5\n"
     ]
    },
    {
     "name": "stderr",
     "output_type": "stream",
     "text": [
      "Batch 325:  85%|████████▍ | 326/384 [33:17<03:51,  3.99s/batch]"
     ]
    },
    {
     "name": "stdout",
     "output_type": "stream",
     "text": [
      "CUDA: 318632960\n",
      "RAM: 59.5\n"
     ]
    },
    {
     "name": "stderr",
     "output_type": "stream",
     "text": [
      "Batch 326:  85%|████████▌ | 327/384 [33:22<03:56,  4.15s/batch]"
     ]
    },
    {
     "name": "stdout",
     "output_type": "stream",
     "text": [
      "CUDA: 318632960\n",
      "RAM: 59.5\n"
     ]
    },
    {
     "name": "stderr",
     "output_type": "stream",
     "text": [
      "Batch 327:  85%|████████▌ | 328/384 [33:26<03:56,  4.22s/batch]"
     ]
    },
    {
     "name": "stdout",
     "output_type": "stream",
     "text": [
      "CUDA: 318632960\n",
      "RAM: 60.1\n"
     ]
    },
    {
     "name": "stderr",
     "output_type": "stream",
     "text": [
      "Batch 328:  86%|████████▌ | 329/384 [33:30<03:52,  4.22s/batch]"
     ]
    },
    {
     "name": "stdout",
     "output_type": "stream",
     "text": [
      "CUDA: 318632960\n",
      "RAM: 60.1\n"
     ]
    },
    {
     "name": "stderr",
     "output_type": "stream",
     "text": [
      "Batch 329:  86%|████████▌ | 330/384 [33:35<03:54,  4.34s/batch]"
     ]
    },
    {
     "name": "stdout",
     "output_type": "stream",
     "text": [
      "CUDA: 318632960\n",
      "RAM: 59.5\n"
     ]
    },
    {
     "name": "stderr",
     "output_type": "stream",
     "text": [
      "Batch 330:  86%|████████▌ | 331/384 [33:39<03:47,  4.30s/batch]"
     ]
    },
    {
     "name": "stdout",
     "output_type": "stream",
     "text": [
      "CUDA: 318632960\n",
      "RAM: 59.5\n"
     ]
    },
    {
     "name": "stderr",
     "output_type": "stream",
     "text": [
      "Batch 331:  86%|████████▋ | 332/384 [33:44<03:45,  4.34s/batch]"
     ]
    },
    {
     "name": "stdout",
     "output_type": "stream",
     "text": [
      "CUDA: 318632960\n",
      "RAM: 59.5\n"
     ]
    },
    {
     "name": "stderr",
     "output_type": "stream",
     "text": [
      "Batch 332:  87%|████████▋ | 333/384 [33:48<03:40,  4.33s/batch]"
     ]
    },
    {
     "name": "stdout",
     "output_type": "stream",
     "text": [
      "CUDA: 318632960\n",
      "RAM: 59.5\n"
     ]
    },
    {
     "name": "stderr",
     "output_type": "stream",
     "text": [
      "Batch 333:  87%|████████▋ | 334/384 [33:52<03:37,  4.34s/batch]"
     ]
    },
    {
     "name": "stdout",
     "output_type": "stream",
     "text": [
      "CUDA: 318632960\n",
      "RAM: 59.5\n"
     ]
    },
    {
     "name": "stderr",
     "output_type": "stream",
     "text": [
      "Batch 334:  87%|████████▋ | 335/384 [33:57<03:33,  4.37s/batch]"
     ]
    },
    {
     "name": "stdout",
     "output_type": "stream",
     "text": [
      "CUDA: 318632960\n",
      "RAM: 59.5\n"
     ]
    },
    {
     "name": "stderr",
     "output_type": "stream",
     "text": [
      "Batch 335:  87%|████████▋ | 335/384 [33:58<03:33,  4.37s/batch]"
     ]
    }
   ],
   "source": [
    "full_sal_df = pd.DataFrame()\n",
    "\n",
    "with tqdm(image_loader, unit=\"batch\") as tepoch:\n",
    "    for t, (x, y, z) in enumerate(tepoch): # For each batch\n",
    "        gc.collect()\n",
    "            \n",
    "        tepoch.set_description(\"Batch %d\" % t)\n",
    "        \n",
    "        # Some default constants\n",
    "        N = y.shape[0]\n",
    "        ICHD = y.shape[1]\n",
    "\n",
    "        # Compute saliency and rank of slices\n",
    "        saliency = compute_saliency_maps(x, y, ckpt_model, device) # (ICH_types, N, D, H, W)\n",
    "        saliency_rank = rank_saliency_slices(saliency) #(ICH_types, N, D)\n",
    "        \n",
    "        # Compute whether prediction was correct or not\n",
    "        ckpt_model = ckpt_model.to(device)\n",
    "        ckpt_model.eval()\n",
    "        \n",
    "        preds = (torch.sigmoid(ckpt_model(x.to(device, dtype=torch.float))) >= 0.5).long()\n",
    "        corr_bool = (y == preds.cpu()).long() # N X 6\n",
    "\n",
    "        # Save plot of saliency map in each patient directory\n",
    "        # Only do up to 10 batches for plotting (40 patients)\n",
    "        if t < 10:\n",
    "            for p_index in range(N):\n",
    "                patient_id = z[p_index].item()\n",
    "                patient_ichs_ind = y[p_index, :].nonzero(as_tuple=True)[0] # Only ICH nums which patients have\n",
    "                if len(patient_ichs_ind) == 0: # Skip patient if patient doesn't have any ICH\n",
    "                    continue \n",
    "                patient_corr = corr_bool[p_index, :]\n",
    "\n",
    "                # Make plot directory for patient\n",
    "                dir_nm = '_'.join([patient_id, \n",
    "                                   'numICHs', str(len(patient_ichs_ind)), \n",
    "                                   'numCorr', str(patient_corr[patient_ichs_ind].sum().item())\n",
    "                                  ])\n",
    "                patient_dir = os.path.join(plot_dir, dir_nm)\n",
    "                if not os.path.exists(patient_dir):\n",
    "                    os.mkdir(patient_dir)\n",
    "\n",
    "                for ich_num in patient_ichs_ind.cpu().numpy():\n",
    "                    sal_plot = plot_saliency_maps(x, saliency, ich_num=ich_num, patient_id=p_index, \n",
    "                                                  d_range=np.arange(0,40), num_rows = 2*8, num_cols = 5)\n",
    "                    sal_plot.savefig(os.path.join(patient_dir, '_'.join(['ICHNum', str(ich_num), 'Corr', str(patient_corr[ich_num].item())])))\n",
    "                    # Clear the current axes.\n",
    "                    plt.cla() \n",
    "                    # Clear the current figure.\n",
    "                    plt.clf() \n",
    "                    sal_plot.clear()\n",
    "                    plt.close('all')\n",
    "                    del sal_plot\n",
    "                \n",
    "        # Convert to pandas df to save general information (patient ID, num of ICH class, pred corr or not (per num ICH class), sal rank per ICH class)\n",
    "        save_df = pd.DataFrame(saliency_rank.detach().cpu().numpy().reshape(ICHD*N, -1)) # (ICH_types*N, D)\n",
    "        save_df.columns = ['rank_' + str(rk) for rk in save_df.columns]\n",
    "\n",
    "        save_df['patient_id'] = z.repeat(ICHD)\n",
    "        save_df['ICH_num'] = np.tile(np.arange(0, ICHD), N)\n",
    "        save_df['ICH_true'] = y.numpy().astype(int).reshape(-1)\n",
    "        save_df['ICH_pred'] = preds.detach().cpu().numpy().astype(int).reshape(-1)\n",
    "        save_df['corr_pred'] = corr_bool.detach().numpy().reshape(-1)\n",
    "        save_df = save_df[save_df.columns.tolist()[-5:] + save_df.columns.tolist()[:-5]]\n",
    "\n",
    "        full_sal_df = pd.concat([full_sal_df, save_df], axis=0)\n",
    "        \n",
    "        # Delete to free up memory?\n",
    "        del saliency\n",
    "        del saliency_rank\n",
    "        del x\n",
    "        \n",
    "        print('CUDA:', torch.cuda.memory_allocated())\n",
    "        print('RAM:', psutil.virtual_memory().percent)\n",
    "\n",
    "full_sal_df.shape\n"
   ]
  },
  {
   "cell_type": "code",
   "execution_count": 40,
   "metadata": {},
   "outputs": [],
   "source": [
    "full_sal_df.to_csv(os.path.join(plot_dir, 'saliency_statistics.csv'), index=False)"
   ]
  },
  {
   "cell_type": "code",
   "execution_count": 41,
   "metadata": {},
   "outputs": [
    {
     "data": {
      "text/plain": [
       "(9216, 45)"
      ]
     },
     "execution_count": 41,
     "metadata": {},
     "output_type": "execute_result"
    }
   ],
   "source": [
    "full_sal_df.shape"
   ]
  },
  {
   "cell_type": "markdown",
   "metadata": {},
   "source": [
    "### Plots only for top 10 slices for t=15 batches:"
   ]
  },
  {
   "cell_type": "code",
   "execution_count": 65,
   "metadata": {},
   "outputs": [
    {
     "name": "stderr",
     "output_type": "stream",
     "text": [
      "Batch 0:   0%|          | 1/384 [00:29<3:10:09, 29.79s/batch]"
     ]
    },
    {
     "name": "stdout",
     "output_type": "stream",
     "text": [
      "CUDA: 3997184\n",
      "RAM: 39.2\n"
     ]
    },
    {
     "name": "stderr",
     "output_type": "stream",
     "text": [
      "Batch 1:   1%|          | 2/384 [00:47<2:23:28, 22.53s/batch]"
     ]
    },
    {
     "name": "stdout",
     "output_type": "stream",
     "text": [
      "CUDA: 3997184\n",
      "RAM: 39.8\n"
     ]
    },
    {
     "name": "stderr",
     "output_type": "stream",
     "text": [
      "Batch 2:   1%|          | 3/384 [01:09<2:23:04, 22.53s/batch]"
     ]
    },
    {
     "name": "stdout",
     "output_type": "stream",
     "text": [
      "CUDA: 3997184\n",
      "RAM: 39.8\n"
     ]
    },
    {
     "name": "stderr",
     "output_type": "stream",
     "text": [
      "Batch 3:   1%|          | 4/384 [01:28<2:13:57, 21.15s/batch]"
     ]
    },
    {
     "name": "stdout",
     "output_type": "stream",
     "text": [
      "CUDA: 3997184\n",
      "RAM: 39.8\n"
     ]
    },
    {
     "name": "stderr",
     "output_type": "stream",
     "text": [
      "Batch 4:   1%|▏         | 5/384 [01:37<1:44:08, 16.49s/batch]"
     ]
    },
    {
     "name": "stdout",
     "output_type": "stream",
     "text": [
      "CUDA: 3997184\n",
      "RAM: 39.8\n"
     ]
    },
    {
     "name": "stderr",
     "output_type": "stream",
     "text": [
      "Batch 5:   2%|▏         | 6/384 [01:52<1:41:53, 16.17s/batch]"
     ]
    },
    {
     "name": "stdout",
     "output_type": "stream",
     "text": [
      "CUDA: 3997184\n",
      "RAM: 39.8\n"
     ]
    },
    {
     "name": "stderr",
     "output_type": "stream",
     "text": [
      "Batch 6:   2%|▏         | 7/384 [02:15<1:55:39, 18.41s/batch]"
     ]
    },
    {
     "name": "stdout",
     "output_type": "stream",
     "text": [
      "CUDA: 3997184\n",
      "RAM: 40.4\n"
     ]
    },
    {
     "name": "stderr",
     "output_type": "stream",
     "text": [
      "Batch 7:   2%|▏         | 8/384 [02:29<1:46:17, 16.96s/batch]"
     ]
    },
    {
     "name": "stdout",
     "output_type": "stream",
     "text": [
      "CUDA: 3997184\n",
      "RAM: 39.8\n"
     ]
    },
    {
     "name": "stderr",
     "output_type": "stream",
     "text": [
      "Batch 8:   2%|▏         | 9/384 [02:39<1:32:47, 14.85s/batch]"
     ]
    },
    {
     "name": "stdout",
     "output_type": "stream",
     "text": [
      "CUDA: 3997184\n",
      "RAM: 39.8\n"
     ]
    },
    {
     "name": "stderr",
     "output_type": "stream",
     "text": [
      "Batch 9:   3%|▎         | 10/384 [03:02<1:48:03, 17.34s/batch]"
     ]
    },
    {
     "name": "stdout",
     "output_type": "stream",
     "text": [
      "CUDA: 3997184\n",
      "RAM: 40.4\n"
     ]
    },
    {
     "name": "stderr",
     "output_type": "stream",
     "text": [
      "Batch 10:   3%|▎         | 11/384 [03:25<1:58:10, 19.01s/batch]"
     ]
    },
    {
     "name": "stdout",
     "output_type": "stream",
     "text": [
      "CUDA: 3997184\n",
      "RAM: 40.4\n"
     ]
    },
    {
     "name": "stderr",
     "output_type": "stream",
     "text": [
      "Batch 11:   3%|▎         | 12/384 [03:39<1:48:33, 17.51s/batch]"
     ]
    },
    {
     "name": "stdout",
     "output_type": "stream",
     "text": [
      "CUDA: 3997184\n",
      "RAM: 41.0\n"
     ]
    },
    {
     "name": "stderr",
     "output_type": "stream",
     "text": [
      "Batch 12:   3%|▎         | 13/384 [03:50<1:35:17, 15.41s/batch]"
     ]
    },
    {
     "name": "stdout",
     "output_type": "stream",
     "text": [
      "CUDA: 3997184\n",
      "RAM: 41.0\n"
     ]
    },
    {
     "name": "stderr",
     "output_type": "stream",
     "text": [
      "Batch 13:   4%|▎         | 14/384 [04:05<1:35:10, 15.43s/batch]"
     ]
    },
    {
     "name": "stdout",
     "output_type": "stream",
     "text": [
      "CUDA: 3997184\n",
      "RAM: 41.0\n"
     ]
    },
    {
     "name": "stderr",
     "output_type": "stream",
     "text": [
      "Batch 14:   4%|▍         | 15/384 [04:32<1:55:32, 18.79s/batch]"
     ]
    },
    {
     "name": "stdout",
     "output_type": "stream",
     "text": [
      "CUDA: 3997184\n",
      "RAM: 39.8\n"
     ]
    },
    {
     "name": "stderr",
     "output_type": "stream",
     "text": [
      "Batch 15:   4%|▍         | 16/384 [04:56<2:06:17, 20.59s/batch]"
     ]
    },
    {
     "name": "stdout",
     "output_type": "stream",
     "text": [
      "CUDA: 3997184\n",
      "RAM: 40.4\n"
     ]
    },
    {
     "name": "stderr",
     "output_type": "stream",
     "text": [
      "Batch 15:   4%|▍         | 16/384 [04:58<1:54:36, 18.69s/batch]\n"
     ]
    }
   ],
   "source": [
    "with tqdm(image_loader, unit=\"batch\") as tepoch:\n",
    "    for t, (x, y, z) in enumerate(tepoch): # For each batch\n",
    "        if t > 15:\n",
    "            break\n",
    "        gc.collect()\n",
    "            \n",
    "        tepoch.set_description(\"Batch %d\" % t)\n",
    "        \n",
    "        # Some default constants\n",
    "        N = y.shape[0]\n",
    "        ICHD = y.shape[1]\n",
    "\n",
    "        # Compute saliency and rank of slices\n",
    "        saliency = compute_saliency_maps(x, y, ckpt_model, device) # (ICH_types, N, D, H, W)\n",
    "        saliency_rank = rank_saliency_slices(saliency) #(ICH_types, N, D)\n",
    "        \n",
    "        # Compute whether prediction was correct or not\n",
    "        ckpt_model = ckpt_model.to(device)\n",
    "        ckpt_model.eval()\n",
    "        \n",
    "        preds = (torch.sigmoid(ckpt_model(x.to(device, dtype=torch.float))) >= 0.5).long()\n",
    "        corr_bool = (y == preds.cpu()).long() # N X 6\n",
    "\n",
    "        # Save plot of saliency map in each patient directory\n",
    "        # Only do up to 10 batches for plotting (40 patients)\n",
    "        for p_index in range(N):\n",
    "            patient_id = z[p_index].item()\n",
    "            patient_ichs_ind = y[p_index, :].nonzero(as_tuple=True)[0] # Only ICH nums which patients have\n",
    "            if len(patient_ichs_ind) == 0: # Skip patient if patient doesn't have any ICH\n",
    "                continue \n",
    "            patient_corr = corr_bool[p_index, :]\n",
    "\n",
    "            # Make plot directory for patient\n",
    "            dir_nm = '_'.join([patient_id, \n",
    "                               'numICHs', str(len(patient_ichs_ind)), \n",
    "                               'numCorr', str(patient_corr[patient_ichs_ind].sum().item())\n",
    "                              ])\n",
    "            patient_dir = os.path.join(plot_dir, 'top_10', dir_nm)\n",
    "            if not os.path.exists(patient_dir):\n",
    "                os.mkdir(patient_dir)\n",
    "\n",
    "            for ich_num in patient_ichs_ind.cpu().numpy():\n",
    "                sal_plot = plot_saliency_maps(x, saliency, ich_num=ich_num, patient_id=p_index, \n",
    "                                              d_range=saliency_rank[ich_num, p_index, :10].detach().cpu().numpy(),\n",
    "                                              num_rows=4, num_cols=5\n",
    "                                             ) # only top 10 slices\n",
    "                sal_plot.savefig(os.path.join(patient_dir, '_'.join(['ICHNum', str(ich_num), 'Corr', str(patient_corr[ich_num].item())])))\n",
    "                # Clear the current axes.\n",
    "                plt.cla() \n",
    "                # Clear the current figure.\n",
    "                plt.clf() \n",
    "                sal_plot.clear()\n",
    "                plt.close('all')\n",
    "                del sal_plot\n",
    "\n",
    "        # Delete to free up memory?\n",
    "        del saliency\n",
    "        del saliency_rank\n",
    "        del x\n",
    "        \n",
    "        print('CUDA:', torch.cuda.memory_allocated())\n",
    "        print('RAM:', psutil.virtual_memory().percent)\n"
   ]
  },
  {
   "cell_type": "code",
   "execution_count": null,
   "metadata": {
    "id": "3SoX3BJh3q05"
   },
   "outputs": [],
   "source": [
    "# # Getting which patients have non ICH types\n",
    "# patient_keys, nonzero_dims = y.nonzero(as_tuple=True)\n",
    "# patient_keys = list(patient_keys.numpy())\n",
    "# nonzero_dims = list(nonzero_dims.numpy())\n",
    "\n",
    "# nonzero_dict = {}\n",
    "# for i in range(len(patient_keys)):\n",
    "#     nonzero_dict[patient_keys[i]] = nonzero_dict.get(patient_keys[i], []) + [nonzero_dims[i]]\n",
    "# nonzero_dict"
   ]
  }
 ],
 "metadata": {
  "accelerator": "GPU",
  "colab": {
   "collapsed_sections": [],
   "name": "visualize_saliency_with_backprop.ipynb",
   "provenance": [],
   "toc_visible": true
  },
  "environment": {
   "name": "pytorch-gpu.1-8.m68",
   "type": "gcloud",
   "uri": "gcr.io/deeplearning-platform-release/pytorch-gpu.1-8:m68"
  },
  "kernelspec": {
   "display_name": "Python 3",
   "language": "python",
   "name": "python3"
  },
  "language_info": {
   "codemirror_mode": {
    "name": "ipython",
    "version": 3
   },
   "file_extension": ".py",
   "mimetype": "text/x-python",
   "name": "python",
   "nbconvert_exporter": "python",
   "pygments_lexer": "ipython3",
   "version": "3.7.10"
  }
 },
 "nbformat": 4,
 "nbformat_minor": 4
}
