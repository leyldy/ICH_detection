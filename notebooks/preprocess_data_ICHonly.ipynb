{
 "cells": [
  {
   "cell_type": "code",
   "execution_count": 1,
   "id": "28fb103b",
   "metadata": {},
   "outputs": [],
   "source": [
    "'''\n",
    "Primary author: Jiying Zou, Jong Ha Lee\n",
    "Purpose: Take subsetted CT scans (from subsample_raw_data.py) and create ordered, interpolated 3D volumes for scans with 30-50 slices\n",
    "Notes: This script is meant to be run after subsample_raw_data.py (which itself should only be run once)\n",
    "Code credits: Lines 29-67 adapted from a Kaggle notebook https://www.kaggle.com/anjum48/reconstructing-3d-volumes-from-metadata\n",
    "              Code credits for functions used are separately specified in the function files.\n",
    "'''\n",
    "\n",
    "import pandas as pd\n",
    "import numpy as np\n",
    "from scipy import ndimage\n",
    "import os\n",
    "from sys import getsizeof\n",
    "import joblib\n",
    "import random\n",
    "import sys\n",
    "import webdataset as wds\n",
    "import json\n",
    "# import pydicom\n",
    "# from tqdm import tqdm_notebook\n",
    "import matplotlib.pylab as plt\n",
    "%matplotlib inline\n",
    "\n",
    "sys.path.append('..') # may need to change to '.' if cannot find data_path, depends on what your current working directory is\n",
    "\n",
    "from utils.get_metadata import *\n",
    "#from utils.window import window_img\n",
    "from utils.create_3D_volume import *\n",
    "from utils.resize_volume import *\n",
    "\n",
    "random.seed(231)"
   ]
  },
  {
   "cell_type": "code",
   "execution_count": 2,
   "id": "ff7d4144",
   "metadata": {},
   "outputs": [],
   "source": [
    "# Set file paths \n",
    "data_path = '/home/jupyter/ICH_detection/data/stage_2_train'\n",
    "metadata_path = data_path\n",
    "label_path = '/home/jupyter/ICH_detection/data/stage_2_train.csv'"
   ]
  },
  {
   "cell_type": "code",
   "execution_count": 3,
   "id": "186a7d16",
   "metadata": {},
   "outputs": [],
   "source": [
    "# Prepare labels and metadata (for each image, is ICH present? if so, what type?)\n",
    "train_df = pd.read_csv(f'{label_path}').drop_duplicates()\n",
    "train_df['ImageID'] = train_df['ID'].str.slice(stop=12)\n",
    "train_df['Diagnosis'] = train_df['ID'].str.slice(start=13)\n",
    "train_labels = train_df.pivot(index=\"ImageID\", columns=\"Diagnosis\", values=\"Label\")"
   ]
  },
  {
   "cell_type": "code",
   "execution_count": 4,
   "id": "7af4516a",
   "metadata": {},
   "outputs": [],
   "source": [
    "# Generate metadata dataframe\n",
    "#train_metadata = get_metadata(data_path)\n",
    "#train_metadata[\"Dataset\"] = \"train\"\n",
    "\n",
    "# Save metadata dataframe (only have to do this once since it takes a while, results are saved)\n",
    "#train_metadata.to_parquet(f'{metadata_path}/train_metadata.parquet.gzip', compression='gzip')"
   ]
  },
  {
   "cell_type": "code",
   "execution_count": 5,
   "id": "c27b8492",
   "metadata": {},
   "outputs": [
    {
     "name": "stdout",
     "output_type": "stream",
     "text": [
      "There are  3386  CT scans in the subsampled dataset.\n"
     ]
    }
   ],
   "source": [
    "# Load metadata dataframe\n",
    "train_metadata = pd.read_parquet(f'{metadata_path}/train_metadata.parquet.gzip')\n",
    "\n",
    "# Join image metadata with outcome labels\n",
    "metadata = train_metadata.join(train_labels)\n",
    "\n",
    "# Organize the scans (top-down order)\n",
    "metadata.sort_values(by=\"ImagePositionPatient_2\", inplace=True, ascending=False) # sort so images are in top-down order\n",
    "\n",
    "# Count the number of CT scans\n",
    "print(\"There are \", metadata[\"StudyInstanceUID\"].nunique(), \" CT scans in the subsampled dataset.\")"
   ]
  },
  {
   "cell_type": "code",
   "execution_count": 6,
   "id": "daa6604d",
   "metadata": {},
   "outputs": [
    {
     "name": "stdout",
     "output_type": "stream",
     "text": [
      "Distribution of number of slices per scan:\n",
      "count    3386.000000\n",
      "mean       34.445363\n",
      "std         5.139599\n",
      "min        20.000000\n",
      "25%        32.000000\n",
      "50%        33.000000\n",
      "75%        37.000000\n",
      "max        60.000000\n",
      "dtype: float64\n"
     ]
    },
    {
     "data": {
      "text/plain": [
       "(array([   4.,   26.,  679., 1437.,  613.,  422.,  113.,   43.,   29.,\n",
       "          20.]),\n",
       " array([20., 24., 28., 32., 36., 40., 44., 48., 52., 56., 60.]),\n",
       " <BarContainer object of 10 artists>)"
      ]
     },
     "execution_count": 6,
     "metadata": {},
     "output_type": "execute_result"
    },
    {
     "data": {
      "image/png": "[encoded data removed]",
      "text/plain": [
       "<Figure size 640x480 with 1 Axes>"
      ]
     },
     "metadata": {},
     "output_type": "display_data"
    }
   ],
   "source": [
    "# Group together all images per scan\n",
    "studies = metadata.groupby(\"StudyInstanceUID\")\n",
    "studies_list = list(studies)\n",
    "\n",
    "## Descriptive statistics on num slices per scan\n",
    "print(\"Distribution of number of slices per scan:\")\n",
    "print(studies.size().describe())\n",
    "\n",
    "## Visualization for num slices per scan\n",
    "plt.hist(studies.size())"
   ]
  },
  {
   "cell_type": "code",
   "execution_count": 7,
   "id": "632f5519",
   "metadata": {},
   "outputs": [],
   "source": [
    "# Subset for just the scans with 30-40 slices (histogram-driven cutoff)\n",
    "# (Some clinical-practice considerations for num images per scan can be found here: https://www.reddit.com/r/askscience/comments/7cruuv/how_many_images_does_a_ct_scan_produce/)\n",
    "studies_list_mod = [study for study in studies_list if study[1].shape[0] in range(30, 41)] # in range(30, 41)]\n",
    "\n",
    "# How many unique studies (CT scans) are we dealing with?\n",
    "# print(\"After subsetting for CT scans with 30-50 slices, we are left with \", len(set(studies_list_mod)), \" unique scans.\")"
   ]
  },
  {
   "cell_type": "code",
   "execution_count": 8,
   "id": "aaf50433",
   "metadata": {},
   "outputs": [],
   "source": [
    "# Set up shard writer\n",
    "\n",
    "## data directory to write shards to \n",
    "write_dir = \"../data/\"\n",
    "\n",
    "## load parameters by opening JSON file\n",
    "with open('../parameters.json') as json_file:\n",
    "    parameters = json.load(json_file)"
   ]
  },
  {
   "cell_type": "code",
   "execution_count": 9,
   "id": "43c4d2a9",
   "metadata": {},
   "outputs": [
    {
     "data": {
      "text/plain": [
       "2658"
      ]
     },
     "execution_count": 9,
     "metadata": {},
     "output_type": "execute_result"
    }
   ],
   "source": [
    "len(studies_list_mod)"
   ]
  },
  {
   "cell_type": "code",
   "execution_count": 11,
   "id": "ec579c55",
   "metadata": {},
   "outputs": [
    {
     "name": "stdout",
     "output_type": "stream",
     "text": [
      "Creating 3D volumes.........\n",
      "# writing ../data/shards_new_2/shard-000000.tar 0 0.0 GB 0\n"
     ]
    },
    {
     "ename": "FileNotFoundError",
     "evalue": "[Errno 2] No such file or directory: '../data/shards_new_2/shard-000000.tar'",
     "output_type": "error",
     "traceback": [
      "\u001b[0;31m---------------------------------------------------------------------------\u001b[0m",
      "\u001b[0;31mFileNotFoundError\u001b[0m                         Traceback (most recent call last)",
      "\u001b[0;32m<ipython-input-11-a31454ebde2d>\u001b[0m in \u001b[0;36m<module>\u001b[0;34m\u001b[0m\n\u001b[1;32m     16\u001b[0m \u001b[0mtotal_i\u001b[0m \u001b[0;34m=\u001b[0m \u001b[0;36m0\u001b[0m\u001b[0;34m\u001b[0m\u001b[0;34m\u001b[0m\u001b[0m\n\u001b[1;32m     17\u001b[0m \u001b[0mprint\u001b[0m\u001b[0;34m(\u001b[0m\u001b[0;34m\"Creating 3D volumes.........\"\u001b[0m\u001b[0;34m)\u001b[0m\u001b[0;34m\u001b[0m\u001b[0;34m\u001b[0m\u001b[0m\n\u001b[0;32m---> 18\u001b[0;31m \u001b[0;32mwith\u001b[0m \u001b[0mwds\u001b[0m\u001b[0;34m.\u001b[0m\u001b[0mShardWriter\u001b[0m\u001b[0;34m(\u001b[0m\u001b[0mos\u001b[0m\u001b[0;34m.\u001b[0m\u001b[0mpath\u001b[0m\u001b[0;34m.\u001b[0m\u001b[0mjoin\u001b[0m\u001b[0;34m(\u001b[0m\u001b[0mwrite_dir\u001b[0m\u001b[0;34m,\u001b[0m \u001b[0;34m'shards_new_2'\u001b[0m\u001b[0;34m,\u001b[0m \u001b[0;34m'shard-%06d.tar'\u001b[0m\u001b[0;34m)\u001b[0m\u001b[0;34m,\u001b[0m \u001b[0mmaxcount\u001b[0m\u001b[0;34m=\u001b[0m\u001b[0mparameters\u001b[0m\u001b[0;34m[\u001b[0m\u001b[0;34m'shard_size'\u001b[0m\u001b[0;34m]\u001b[0m\u001b[0;34m)\u001b[0m \u001b[0;32mas\u001b[0m \u001b[0msink\u001b[0m\u001b[0;34m:\u001b[0m \u001b[0;31m# file pattern, max number of things written to shard\u001b[0m\u001b[0;34m\u001b[0m\u001b[0;34m\u001b[0m\u001b[0m\n\u001b[0m\u001b[1;32m     19\u001b[0m     \u001b[0;31m# ^ when you create a new ShardWriter, the indexing for written output files starts over from 0, which is why we can't have this initialized over and over again within the loop\u001b[0m\u001b[0;34m\u001b[0m\u001b[0;34m\u001b[0m\u001b[0;34m\u001b[0m\u001b[0m\n\u001b[1;32m     20\u001b[0m     \u001b[0;31m# (https://github.com/webdataset/webdataset/blob/master/webdataset/writer.py)\u001b[0m\u001b[0;34m\u001b[0m\u001b[0;34m\u001b[0m\u001b[0;34m\u001b[0m\u001b[0m\n",
      "\u001b[0;32m/opt/conda/lib/python3.7/site-packages/webdataset/writer.py\u001b[0m in \u001b[0;36m__init__\u001b[0;34m(self, pattern, maxcount, maxsize, post, start_shard, **kw)\u001b[0m\n\u001b[1;32m    308\u001b[0m         \u001b[0mself\u001b[0m\u001b[0;34m.\u001b[0m\u001b[0msize\u001b[0m \u001b[0;34m=\u001b[0m \u001b[0;36m0\u001b[0m\u001b[0;34m\u001b[0m\u001b[0;34m\u001b[0m\u001b[0m\n\u001b[1;32m    309\u001b[0m         \u001b[0mself\u001b[0m\u001b[0;34m.\u001b[0m\u001b[0mfname\u001b[0m \u001b[0;34m=\u001b[0m \u001b[0;32mNone\u001b[0m\u001b[0;34m\u001b[0m\u001b[0;34m\u001b[0m\u001b[0m\n\u001b[0;32m--> 310\u001b[0;31m         \u001b[0mself\u001b[0m\u001b[0;34m.\u001b[0m\u001b[0mnext_stream\u001b[0m\u001b[0;34m(\u001b[0m\u001b[0;34m)\u001b[0m\u001b[0;34m\u001b[0m\u001b[0;34m\u001b[0m\u001b[0m\n\u001b[0m\u001b[1;32m    311\u001b[0m \u001b[0;34m\u001b[0m\u001b[0m\n\u001b[1;32m    312\u001b[0m     \u001b[0;32mdef\u001b[0m \u001b[0mnext_stream\u001b[0m\u001b[0;34m(\u001b[0m\u001b[0mself\u001b[0m\u001b[0;34m)\u001b[0m\u001b[0;34m:\u001b[0m\u001b[0;34m\u001b[0m\u001b[0;34m\u001b[0m\u001b[0m\n",
      "\u001b[0;32m/opt/conda/lib/python3.7/site-packages/webdataset/writer.py\u001b[0m in \u001b[0;36mnext_stream\u001b[0;34m(self)\u001b[0m\n\u001b[1;32m    322\u001b[0m             )\n\u001b[1;32m    323\u001b[0m         \u001b[0mself\u001b[0m\u001b[0;34m.\u001b[0m\u001b[0mshard\u001b[0m \u001b[0;34m+=\u001b[0m \u001b[0;36m1\u001b[0m\u001b[0;34m\u001b[0m\u001b[0;34m\u001b[0m\u001b[0m\n\u001b[0;32m--> 324\u001b[0;31m         \u001b[0mstream\u001b[0m \u001b[0;34m=\u001b[0m \u001b[0mopen\u001b[0m\u001b[0;34m(\u001b[0m\u001b[0mself\u001b[0m\u001b[0;34m.\u001b[0m\u001b[0mfname\u001b[0m\u001b[0;34m,\u001b[0m \u001b[0;34m\"wb\"\u001b[0m\u001b[0;34m)\u001b[0m\u001b[0;34m\u001b[0m\u001b[0;34m\u001b[0m\u001b[0m\n\u001b[0m\u001b[1;32m    325\u001b[0m         \u001b[0mself\u001b[0m\u001b[0;34m.\u001b[0m\u001b[0mtarstream\u001b[0m \u001b[0;34m=\u001b[0m \u001b[0mTarWriter\u001b[0m\u001b[0;34m(\u001b[0m\u001b[0mstream\u001b[0m\u001b[0;34m,\u001b[0m \u001b[0;34m**\u001b[0m\u001b[0mself\u001b[0m\u001b[0;34m.\u001b[0m\u001b[0mkw\u001b[0m\u001b[0;34m)\u001b[0m\u001b[0;34m\u001b[0m\u001b[0;34m\u001b[0m\u001b[0m\n\u001b[1;32m    326\u001b[0m         \u001b[0mself\u001b[0m\u001b[0;34m.\u001b[0m\u001b[0mcount\u001b[0m \u001b[0;34m=\u001b[0m \u001b[0;36m0\u001b[0m\u001b[0;34m\u001b[0m\u001b[0;34m\u001b[0m\u001b[0m\n",
      "\u001b[0;31mFileNotFoundError\u001b[0m: [Errno 2] No such file or directory: '../data/shards_new_2/shard-000000.tar'"
     ]
    }
   ],
   "source": [
    "# Create 3D volumes for all the scans\n",
    "# and write them to shards in batches of 32 (https://github.com/webdataset/webdataset/blob/master/webdataset/writer.py)\n",
    "# (Also does data NORMALIZATION and L/R FLIPS with probability 0.5, and keeps track of largest dimensions for interpolation later on)\n",
    "# (Not doing rotations or up-down flips or crops since CT scans are usually all front side up and full-brain-cross-section anyways)\n",
    "\n",
    "study_names_all = []\n",
    "volumes_all = []\n",
    "labels_all = []\n",
    "labels_record = [] # to help tally samples at the end\n",
    "\n",
    "#largest_depth = 0\n",
    "#largest_width = 0\n",
    "#largest_height = 0\n",
    "\n",
    "flip_prob = 0.5\n",
    "total_i = 0\n",
    "print(\"Creating 3D volumes.........\")\n",
    "with wds.ShardWriter(os.path.join(write_dir, 'shards_new_2', 'shard-%06d.tar'), maxcount=parameters['shard_size']) as sink: # file pattern, max number of things written to shard\n",
    "    # ^ when you create a new ShardWriter, the indexing for written output files starts over from 0, which is why we can't have this initialized over and over again within the loop\n",
    "    # (https://github.com/webdataset/webdataset/blob/master/webdataset/writer.py)\n",
    "    \n",
    "    for i in range(0, len(studies_list_mod)):\n",
    "\n",
    "        # Get study\n",
    "        study_name, study_df = studies_list_mod[i]\n",
    "\n",
    "        # Create 3D volume (normalizes)\n",
    "        \n",
    "        # Only create data if at least one of the images contain the labels\n",
    "        if study_df.iloc[:, -6:].sum().sum()> 0:\n",
    "            try:\n",
    "                volume, labels = create_3D_volume(study_df, data_path) # label returned is just a length=6 list containing 0/1 for any ICH / ICH type\n",
    "            except:\n",
    "                print(\"Error occurred for this study_df index for some reason, skipping:\", i)\n",
    "                continue\n",
    "\n",
    "            # L/R flip with prob = 0.5\n",
    "            #volume2 = None\n",
    "            if np.all(np.random.uniform(0, 1, size = 1)) > flip_prob:\n",
    "                volume = volume[:, :, ::-1]\n",
    "\n",
    "            # Interpolate to (40, 512, 512)\n",
    "            volume = resize_volume(volume, 40, 512, 512) # max data size (40, 512, 512)\n",
    "\n",
    "            # Store results\n",
    "            study_names_all.append(study_name)\n",
    "            volumes_all.append(volume)\n",
    "            labels_all.append(labels)\n",
    "            labels_record.append(labels)\n",
    "\n",
    "          #if volume2 is not None:\n",
    "          #  study_names_all.append(study_name + \"_flip\")\n",
    "          #  volumes_all.append(volume2)\n",
    "          #  labels_all.append(labels)\n",
    "          #  labels_record.append(labels)\n",
    "\n",
    "            # Save results to shard every 32nd image to clear out RAM\n",
    "            if len(volumes_all) % parameters['shard_size'] == 0:\n",
    "                for idx in range(len(study_names_all)):\n",
    "                    key_num = total_i+idx\n",
    "                    sink.write({\n",
    "                        '__key__': \"%06d\"%key_num, # the index within each shard -- e.g. data point 33 would be in shard 2 with key value 1\n",
    "                        'volumes.pyd': volumes_all[idx],\n",
    "                        'labels.pyd': labels_all[idx],\n",
    "                        'studynames.pyd': np.array([study_names_all[idx]])\n",
    "                        })\n",
    "                total_i += idx+1\n",
    "\n",
    "                #print(getsizeof(study_names_all))\n",
    "                #print(getsizeof(volumes_all))\n",
    "                #print(getsizeof(labels_all))\n",
    "\n",
    "                # Save pickled files\n",
    "                #studynames_filename = '../data/CTscans_studynames_train_{}.sav'.format(i)\n",
    "                #joblib.dump(study_names_all, studynames_filename)  \n",
    "\n",
    "                #volumes_filename = '../data/CTscans_3Dvolumes_interp_train_{}'.format(i)\n",
    "                #joblib.dump(volumes_all, volumes_filename) \n",
    "\n",
    "                #labels_filename = '../data/CTscans_3Dlabels_train_{}'.format(i)\n",
    "                #joblib.dump(labels_all, labels_filename) \n",
    "\n",
    "                # Clear out working memory\n",
    "                study_names_all = []\n",
    "                volumes_all = []\n",
    "                labels_all = []\n",
    "\n",
    "        if i % 100 == 0:\n",
    "            print(\"On scan #\" + str(i+1))\n",
    "        \n",
    "      # Update largest depth, width, height\n",
    "      #shape = volume.shape\n",
    "      #if shape[0] > largest_depth:\n",
    "      #  largest_depth = shape[0]\n",
    "      #if shape[1] > largest_width:\n",
    "      #  largest_width = shape[1]\n",
    "      #if shape[2] > largest_height:\n",
    "      #  largest_height = shape[2]\n",
    "\n",
    "print(\"DONE!\")\n",
    "#print(\"Largest depth, width, height are: \" + str(largest_depth) + \", \" + str(largest_width) + \", \" + str(largest_height))\n",
    "# corrupted file somewhere around 1501-1601"
   ]
  },
  {
   "cell_type": "markdown",
   "id": "de672d68",
   "metadata": {},
   "source": [
    "# SOME EDA"
   ]
  },
  {
   "cell_type": "code",
   "execution_count": null,
   "id": "aaaf4135",
   "metadata": {},
   "outputs": [],
   "source": [
    "# Check how many scans of each type we have in our dataset\n",
    "print(\"There are {} scans total in the dataset.\\n\".format(len(labels_record)))\n",
    "\n",
    "print(\"Out of these, there are {0} scans with no ICH at all and {1} with some type of ICH.\\n\".format(np.sum([1 for x in labels_record if x[0] == 0]), np.sum([1 for x in labels_record if x[0] == 1])))\n",
    "print(\"To make sure that there are no scans that say no ICH but still have some type of ICH indicator, the following number should be the same as number of scans with no ICH: {}\\n\".format(np.sum([1 for x in labels_record if x[0] == 0 and all(i == 0 for i in x[1:])])))\n",
    "\n",
    "print(\"Out of scans with ICH, there are {0} with epidural ICH, {1} with intraparenchymal ICH,\\n {2} with intraventricular ICH, {3} with subarachnoid ICH, and {4} with subdural ICH.\\n\".format(\\\n",
    "np.sum([1 for x in labels_record if x[1] == 1]),\n",
    "np.sum([1 for x in labels_record if x[2] == 1]),\n",
    "np.sum([1 for x in labels_record if x[3] == 1]),\n",
    "np.sum([1 for x in labels_record if x[4] == 1]),\n",
    "np.sum([1 for x in labels_record if x[5] == 1])))\n",
    "\n",
    "print(\"{} scans have two or more types of ICH present.\".format(np.sum([1 for x in labels_record if np.sum(x[1:]) > 1])))\n",
    "print(\"{} scans have three or more types of ICH present.\".format(np.sum([1 for x in labels_record if np.sum(x[1:]) > 2])))\n",
    "print(\"{} scans have four or more types of ICH present.\".format(np.sum([1 for x in labels_record if np.sum(x[1:]) > 3])))\n",
    "print(\"{} scans have all five types of ICH present.\".format(np.sum([1 for x in labels_record if np.sum(x[1:]) > 4])))"
   ]
  },
  {
   "cell_type": "code",
   "execution_count": null,
   "id": "63d3bbab",
   "metadata": {},
   "outputs": [],
   "source": []
  }
 ],
 "metadata": {
  "environment": {
   "name": "pytorch-gpu.1-8.m68",
   "type": "gcloud",
   "uri": "gcr.io/deeplearning-platform-release/pytorch-gpu.1-8:m68"
  },
  "kernelspec": {
   "display_name": "Python 3",
   "language": "python",
   "name": "python3"
  },
  "language_info": {
   "codemirror_mode": {
    "name": "ipython",
    "version": 3
   },
   "file_extension": ".py",
   "mimetype": "text/x-python",
   "name": "python",
   "nbconvert_exporter": "python",
   "pygments_lexer": "ipython3",
   "version": "3.7.10"
  }
 },
 "nbformat": 4,
 "nbformat_minor": 5
}
